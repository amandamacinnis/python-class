{
 "cells": [
  {
   "cell_type": "code",
   "execution_count": 1,
   "metadata": {
    "collapsed": true
   },
   "outputs": [],
   "source": [
    "from __future__ import print_function"
   ]
  },
  {
   "cell_type": "markdown",
   "metadata": {},
   "source": [
    "## Exercise 2: Poker Odds"
   ]
  },
  {
   "cell_type": "markdown",
   "metadata": {},
   "source": [
    "Use the deck of cards class from the notebook we worked through outside of class to write a _Monte Carlo_ code that plays a lot of hands of straight poker (like 100,000).  Count how many of these hands has a particular poker hand (like 3-of-a-kind).  The ratio of # of hands with 3-of-a-kind to total hands is an approximation to the odds of getting a 3-of-a-kind in poker.\n",
    "\n",
    "You'll want to copy-paste those classes into a `.py` file to allow you to import and reuse them here\n",
    "\n",
    "(I didn't do that, so I copied and pasted those classes below)."
   ]
  },
  {
   "cell_type": "code",
   "execution_count": 3,
   "metadata": {
    "collapsed": false
   },
   "outputs": [],
   "source": [
    "# copied and pasted this cell from the other notebook for now\n",
    "import random\n",
    "\n",
    "\n",
    "class Card(object):\n",
    "    \n",
    "    def __init__(self, suit=1, rank=2):\n",
    "        if suit < 1 or suit > 4:\n",
    "            print(\"invalid suit, setting to 1\")\n",
    "            suit = 1\n",
    "        if rank < 2 or rank > 14:\n",
    "            print(\"invalid rank, setting to 2\")\n",
    "            rank = 2\n",
    "        \n",
    "        self.suit = suit\n",
    "        self.rank = rank\n",
    "        \n",
    "\n",
    "    def value(self):\n",
    "        \"\"\" we want things order primarily by rank then suit \"\"\"\n",
    "        return self.suit + (self.rank-1)*14\n",
    "    \n",
    "    # we include this to allow for comparisons with < and > between cards \n",
    "    def __lt__(self, other):\n",
    "        return self.value() < other.value()\n",
    "\n",
    "    def __unicode__(self):\n",
    "        suits = [u\"\\u2660\".encode('utf-8'),  # spade\n",
    "                 u\"\\u2665\".encode('utf-8'),  # heart\n",
    "                 u\"\\u2666\".encode('utf-8'),  # diamond\n",
    "                 u\"\\u2663\".encode('utf-8')]  # club\n",
    "        \n",
    "        r = str(self.rank)\n",
    "        if self.rank == 11:\n",
    "            r = \"J\"\n",
    "        elif self.rank == 12:\n",
    "            r = \"Q\"\n",
    "        elif self.rank == 13:\n",
    "            r = \"K\"\n",
    "        elif self.rank == 14:\n",
    "            r = \"A\"\n",
    "                \n",
    "        return r +':'+suits[self.suit-1]\n",
    "    \n",
    "    def __str__(self):\n",
    "        return self.__unicode__()  #.encode('utf-8')\n",
    "        \n",
    "        \n",
    "\n",
    "\n",
    "class Deck(object):\n",
    "    \"\"\" the deck is a collection of cards \"\"\"\n",
    "\n",
    "    def __init__(self):\n",
    "\n",
    "        self.nsuits = 4\n",
    "        self.nranks = 13\n",
    "        self.minrank = 2\n",
    "        self.maxrank = self.minrank + self.nranks - 1\n",
    "\n",
    "        self.cards = []\n",
    "\n",
    "        for rank in range(self.minrank,self.maxrank+1):\n",
    "            for suit in range(1, self.nsuits+1):\n",
    "                self.cards.append(Card(rank=rank, suit=suit))\n",
    "\n",
    "    def shuffle(self):\n",
    "        random.shuffle(self.cards)\n",
    "\n",
    "    def get_cards(self, num=1):\n",
    "        hand = []\n",
    "        for n in range(num):\n",
    "            hand.append(self.cards.pop())\n",
    "\n",
    "        return hand\n",
    "    \n",
    "    def __str__(self):\n",
    "        string = \"\"\n",
    "        for c in self.cards:\n",
    "            string += str(c) + \" \"\n",
    "        return string"
   ]
  },
  {
   "cell_type": "markdown",
   "metadata": {},
   "source": [
    "I've added lots of comments, but the basic idea is this:\n",
    "\n",
    "We are counting any deck of cards that has exactly 3 cards of the same rank. We will investigate 100,000 different hands (5 random cards, chosen randomly from a full deck of 52 cards). For each iteration,\n",
    "\n",
    "- Generate a new deck of cards, shuffle it, and draw a hand.\n",
    "- We will have, at most, 5 unique ranks. Create a dictionary, whose keys will be the set of unique ranks in the deck, and whose values will be the number of cards with that rank.\n",
    "    - For example, if the deck had ranks `5, 9, 8, 4, 9`, the dictionary would be `{5: 1, 9: 2, 8: 1, 4: 1}`.\n",
    "- For each card in the deck:\n",
    "    - Get its rank.\n",
    "    - Check if that rank is already a key in the dictionary.\n",
    "        - If it's not, add that rank as a new key, and initialize its value to 1.\n",
    "        - If it is, add 1 to the value of that key.\n",
    "- Get a list of the values in the dictionary. If one of the values is `3`, then there are 3 cards with the same rank. Add one to the counter that's keeping track of how many hands have 3-of-a-kind."
   ]
  },
  {
   "cell_type": "code",
   "execution_count": 4,
   "metadata": {
    "collapsed": true
   },
   "outputs": [],
   "source": [
    "def n_of_a_kind(nkind=3, ncards=5, N=100000):\n",
    "    \"\"\"Determine how often a random hand of cards will contain nkind cards of the same rank.\n",
    "    Parameters\n",
    "    ----------\n",
    "    nkind : int\n",
    "        The necessary number of cards with the same rank.\n",
    "    ncards : int\n",
    "        The number of cards to draw for each hand.\n",
    "    N : int\n",
    "        The number of hands to draw.\n",
    "    Returns\n",
    "    -------\n",
    "    ratio : float\n",
    "        The ratio of the number of hands with nkind cards of the same rank to the total number N.\"\"\"\n",
    "    count = 0 # count number of hands w/ n of a kind\n",
    "\n",
    "    # generate N decks of cards\n",
    "    for i in range(N):\n",
    "        # generate the deck, shuffle the cards, and get a new hand:\n",
    "        deck = Deck()\n",
    "        deck.shuffle() \n",
    "        hand = deck.get_cards(ncards)\n",
    "\n",
    "        # create an empty dictionary:\n",
    "        # the keys will be the unique rank(s) of cards in the deck\n",
    "        # the values will be the number of cards in the hand with that rank\n",
    "        ranks = {}\n",
    "        for card in hand:\n",
    "            if ranks.has_key(card.rank):\n",
    "                # if the rank is already in the dict, add one to the count for that rank\n",
    "                ranks[card.rank] += 1\n",
    "            else:\n",
    "                # otherwise, this is first card with that rank\n",
    "                ranks[card.rank] = 1 # initialze value to 1 card with that rank\n",
    "\n",
    "        # we don't actually care about the specific rank, only the number of cards with the same rank.\n",
    "        # so, ranks.values() will give a list of the values in the dict (no need for the keys anymore).\n",
    "        # if this list contains an element that is the same as nkind, then there are nkind cards with same rank.\n",
    "        # example: here nkind=3, so if any of the values in the dict are 3, we have 3 cards of the same kind.\n",
    "        if nkind in ranks.values():\n",
    "            count += 1\n",
    "\n",
    "    ratio = float(count)/float(N)\n",
    "    print(\"Out of {} hands, {} had 3-of-a-kind, or {}%\".format(N, count, ratio*100.))\n",
    "    return ratio"
   ]
  },
  {
   "cell_type": "code",
   "execution_count": 5,
   "metadata": {
    "collapsed": false
   },
   "outputs": [
    {
     "name": "stdout",
     "output_type": "stream",
     "text": [
      "Out of 100000 hands, 2243 had 3-of-a-kind, or 2.243%\n",
      "Out of 100000 hands, 2272 had 3-of-a-kind, or 2.272%\n",
      "Out of 100000 hands, 2240 had 3-of-a-kind, or 2.24%\n",
      "Out of 100000 hands, 2194 had 3-of-a-kind, or 2.194%\n",
      "Out of 100000 hands, 2291 had 3-of-a-kind, or 2.291%\n",
      "Out of 100000 hands, 2329 had 3-of-a-kind, or 2.329%\n",
      "Out of 100000 hands, 2340 had 3-of-a-kind, or 2.34%\n",
      "Out of 100000 hands, 2217 had 3-of-a-kind, or 2.217%\n",
      "Out of 100000 hands, 2319 had 3-of-a-kind, or 2.319%\n",
      "Out of 100000 hands, 2297 had 3-of-a-kind, or 2.297%\n"
     ]
    }
   ],
   "source": [
    "N = 100000 # number of hands\n",
    "ncards = 5 # number of cards per hand\n",
    "nkind = 3 # looking for 3 of a kind\n",
    "\n",
    "# repeat a few times and look at distribution of results\n",
    "nruns = 10\n",
    "ratios = []\n",
    "for i in range(nruns):\n",
    "    ratios.append(n_of_a_kind(nkind=nkind, ncards=ncards, N=N))"
   ]
  },
  {
   "cell_type": "code",
   "execution_count": 6,
   "metadata": {
    "collapsed": false
   },
   "outputs": [
    {
     "name": "stdout",
     "output_type": "stream",
     "text": [
      "Average chance of getting 3-of-a-kind is 2.27%.\n"
     ]
    }
   ],
   "source": [
    "avg_ratio = sum(ratios) / float(nruns)\n",
    "print(\"Average chance of getting 3-of-a-kind is {:1.2f}%.\".format(avg_ratio*100.))"
   ]
  },
  {
   "cell_type": "code",
   "execution_count": null,
   "metadata": {
    "collapsed": true
   },
   "outputs": [],
   "source": []
  }
 ],
 "metadata": {
  "kernelspec": {
   "display_name": "Python 2",
   "language": "python",
   "name": "python2"
  },
  "language_info": {
   "codemirror_mode": {
    "name": "ipython",
    "version": 2
   },
   "file_extension": ".py",
   "mimetype": "text/x-python",
   "name": "python",
   "nbconvert_exporter": "python",
   "pygments_lexer": "ipython2",
   "version": "2.7.6"
  }
 },
 "nbformat": 4,
 "nbformat_minor": 2
}
