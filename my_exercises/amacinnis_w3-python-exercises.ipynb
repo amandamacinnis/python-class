{
 "cells": [
  {
   "cell_type": "code",
   "execution_count": 1,
   "metadata": {
    "collapsed": true
   },
   "outputs": [],
   "source": [
    "from __future__ import print_function"
   ]
  },
  {
   "cell_type": "markdown",
   "metadata": {},
   "source": [
    "## Q 1 (function practice)\n",
    "\n",
    "Let's practice functions.  Here's a simple function that takes a string and returns a list of all the 4 letter words:"
   ]
  },
  {
   "cell_type": "code",
   "execution_count": 2,
   "metadata": {
    "collapsed": true
   },
   "outputs": [],
   "source": [
    "def four_letter_words(message):\n",
    "    words = message.split()\n",
    "    four_letters = [w for w in words if len(w) == 4]\n",
    "    return four_letters"
   ]
  },
  {
   "cell_type": "code",
   "execution_count": 3,
   "metadata": {
    "collapsed": false
   },
   "outputs": [
    {
     "name": "stdout",
     "output_type": "stream",
     "text": [
      "['over', 'lazy']\n"
     ]
    }
   ],
   "source": [
    "message = \"The quick brown fox jumps over the lazy dog\"\n",
    "print(four_letter_words(message))"
   ]
  },
  {
   "cell_type": "markdown",
   "metadata": {},
   "source": [
    "Write a version of this function that takes a second argument, n, that is the word length we want to search for"
   ]
  },
  {
   "cell_type": "code",
   "execution_count": 4,
   "metadata": {
    "collapsed": true
   },
   "outputs": [],
   "source": [
    "def n_letter_words(message, n):\n",
    "    \"\"\"Returns a list of words with length n in the message.\n",
    "    input: message (string of words)\n",
    "           n (integer giving desired length of word)\n",
    "    output: a list of words of length n contained in the message.\"\"\"\n",
    "    n = int(n) # just in case\n",
    "    words = message.split()\n",
    "    n_letters = [w for w in words if len(w) == n]\n",
    "    return n_letters"
   ]
  },
  {
   "cell_type": "code",
   "execution_count": 5,
   "metadata": {
    "collapsed": false
   },
   "outputs": [
    {
     "name": "stdout",
     "output_type": "stream",
     "text": [
      "['quick', 'brown', 'jumps']\n",
      "['over', 'lazy']\n",
      "['The', 'fox', 'the', 'dog']\n"
     ]
    }
   ],
   "source": [
    "# testing\n",
    "print(n_letter_words(message, 5))\n",
    "print(n_letter_words(message, 4))\n",
    "print(n_letter_words(message, 3))"
   ]
  },
  {
   "cell_type": "markdown",
   "metadata": {},
   "source": [
    "## Q 2 (primes)"
   ]
  },
  {
   "cell_type": "markdown",
   "metadata": {},
   "source": [
    "A prime number is divisible only by 1 and itself.  We want to write a function that takes a positive integer, n, and finds all of the primes up to that number.\n",
    "\n",
    "A simple (although not very fast) way to find the primes is to start at 1, and build a list of primes by checking if the current number is divisible by any of the previously found primes.  If it is not divisible by any earlier primes, then it is a prime.\n",
    "\n",
    "The modulus operator, `%` could be helpful here."
   ]
  },
  {
   "cell_type": "code",
   "execution_count": 6,
   "metadata": {
    "collapsed": false
   },
   "outputs": [],
   "source": [
    "def find_primes(n):\n",
    "    \"\"\"Find all prime numbers, up to and including n.\n",
    "    input: an integer n > 1\n",
    "    output: a list up all primes up to and including n.\"\"\"\n",
    "    # check the input\n",
    "    if type(n) is not int:\n",
    "        print(\"Warning: you've entered n = {}. Trying to convert to an integer...\".format(n))\n",
    "        try:\n",
    "            n = int(n)\n",
    "        except ValueError:\n",
    "            print(\"Could not convert n = {} to an integer. Please try again.\".format(n))\n",
    "            return None\n",
    "    if n < 2:\n",
    "        print(\"You've entered n = {}. You must enter an integer greater than 1. Please try again.\".format(n))\n",
    "        return None\n",
    "    \n",
    "    # everything is ok so far, so look for primes.\n",
    "    prime_list = [] # begin with empty list\n",
    "    for i in range(2, n+1): # start at 2 and end at n\n",
    "        is_prime = True # begin by assuming i is a prime number\n",
    "        for prime in prime_list: \n",
    "            if i%prime == 0:\n",
    "                # then i is not a prime\n",
    "                is_prime = False\n",
    "        if is_prime:\n",
    "            # the number was not divisible by any previous prime numbers, so it is also a prime numer\n",
    "            prime_list.append(i)\n",
    "    return prime_list"
   ]
  },
  {
   "cell_type": "code",
   "execution_count": 7,
   "metadata": {
    "collapsed": false
   },
   "outputs": [
    {
     "name": "stdout",
     "output_type": "stream",
     "text": [
      "[2, 3, 5, 7]\n",
      "[2, 3, 5, 7, 11, 13, 17, 19, 23]\n",
      "You've entered n = -1. You must enter an integer greater than 1. Please try again.\n",
      "None\n",
      "Warning: you've entered n = 5.5. Trying to convert to an integer...\n",
      "[2, 3, 5]\n"
     ]
    }
   ],
   "source": [
    "print(find_primes(10))\n",
    "print(find_primes(25))\n",
    "print(find_primes(-1))\n",
    "print(find_primes(5.5))"
   ]
  },
  {
   "cell_type": "markdown",
   "metadata": {},
   "source": [
    "## Q 3 (exceptions for error handling)"
   ]
  },
  {
   "cell_type": "markdown",
   "metadata": {},
   "source": [
    "We want to safely convert a string into a float, int, or leave it as a string, depending on its contents.  As we've already seen, python provides `float()` and `int()` functions for this:"
   ]
  },
  {
   "cell_type": "code",
   "execution_count": 8,
   "metadata": {
    "collapsed": false
   },
   "outputs": [
    {
     "name": "stdout",
     "output_type": "stream",
     "text": [
      "2.0 <type 'float'>\n"
     ]
    }
   ],
   "source": [
    "a = \"2.0\"\n",
    "b = float(a)\n",
    "print(b, type(b))"
   ]
  },
  {
   "cell_type": "markdown",
   "metadata": {},
   "source": [
    "But these throw exceptions if the conversion is not possible"
   ]
  },
  {
   "cell_type": "code",
   "execution_count": 9,
   "metadata": {
    "collapsed": false
   },
   "outputs": [
    {
     "ename": "ValueError",
     "evalue": "could not convert string to float: this is a string",
     "output_type": "error",
     "traceback": [
      "\u001b[0;31m---------------------------------------------------------------------------\u001b[0m",
      "\u001b[0;31mValueError\u001b[0m                                Traceback (most recent call last)",
      "\u001b[0;32m<ipython-input-9-aa15bee06bed>\u001b[0m in \u001b[0;36m<module>\u001b[0;34m()\u001b[0m\n\u001b[1;32m      1\u001b[0m \u001b[0ma\u001b[0m \u001b[0;34m=\u001b[0m \u001b[0;34m\"this is a string\"\u001b[0m\u001b[0;34m\u001b[0m\u001b[0m\n\u001b[0;32m----> 2\u001b[0;31m \u001b[0mb\u001b[0m \u001b[0;34m=\u001b[0m \u001b[0mfloat\u001b[0m\u001b[0;34m(\u001b[0m\u001b[0ma\u001b[0m\u001b[0;34m)\u001b[0m\u001b[0;34m\u001b[0m\u001b[0m\n\u001b[0m",
      "\u001b[0;31mValueError\u001b[0m: could not convert string to float: this is a string"
     ]
    }
   ],
   "source": [
    "a = \"this is a string\"\n",
    "b = float(a)"
   ]
  },
  {
   "cell_type": "code",
   "execution_count": 10,
   "metadata": {
    "collapsed": false
   },
   "outputs": [
    {
     "ename": "ValueError",
     "evalue": "invalid literal for int() with base 10: '1.0'",
     "output_type": "error",
     "traceback": [
      "\u001b[0;31m---------------------------------------------------------------------------\u001b[0m",
      "\u001b[0;31mValueError\u001b[0m                                Traceback (most recent call last)",
      "\u001b[0;32m<ipython-input-10-4c55f85dd8c0>\u001b[0m in \u001b[0;36m<module>\u001b[0;34m()\u001b[0m\n\u001b[1;32m      1\u001b[0m \u001b[0ma\u001b[0m \u001b[0;34m=\u001b[0m \u001b[0;34m\"1.0\"\u001b[0m\u001b[0;34m\u001b[0m\u001b[0m\n\u001b[0;32m----> 2\u001b[0;31m \u001b[0mb\u001b[0m \u001b[0;34m=\u001b[0m \u001b[0mint\u001b[0m\u001b[0;34m(\u001b[0m\u001b[0ma\u001b[0m\u001b[0;34m)\u001b[0m\u001b[0;34m\u001b[0m\u001b[0m\n\u001b[0m\u001b[1;32m      3\u001b[0m \u001b[0;32mprint\u001b[0m\u001b[0;34m(\u001b[0m\u001b[0mb\u001b[0m\u001b[0;34m,\u001b[0m \u001b[0mtype\u001b[0m\u001b[0;34m(\u001b[0m\u001b[0mb\u001b[0m\u001b[0;34m)\u001b[0m\u001b[0;34m)\u001b[0m\u001b[0;34m\u001b[0m\u001b[0m\n",
      "\u001b[0;31mValueError\u001b[0m: invalid literal for int() with base 10: '1.0'"
     ]
    }
   ],
   "source": [
    "a = \"1.0\"\n",
    "b = int(a)\n",
    "print(b, type(b))"
   ]
  },
  {
   "cell_type": "code",
   "execution_count": 11,
   "metadata": {
    "collapsed": false
   },
   "outputs": [
    {
     "name": "stdout",
     "output_type": "stream",
     "text": [
      "1.0 <type 'float'>\n"
     ]
    }
   ],
   "source": [
    "b = float(a)\n",
    "print(b, type(b))"
   ]
  },
  {
   "cell_type": "markdown",
   "metadata": {},
   "source": [
    "Notice that an int can be converted to a float, but if you convert a float to an int, you rise losing significant digits.  A string cannot be converted to either.\n",
    "\n",
    "### your task\n",
    "\n",
    "Write a function, `convert_type(a)` that takes a string `a`, and converts it to a float if it is a number with a decimal point, an int if it is an integer, or leaves it as a string otherwise, and returns the result.  You'll want to use exceptions to prevent the code from aborting."
   ]
  },
  {
   "cell_type": "code",
   "execution_count": 12,
   "metadata": {
    "collapsed": false
   },
   "outputs": [
    {
     "name": "stdout",
     "output_type": "stream",
     "text": [
      "Input = 1.0, output = 1.0, type of output = <type 'float'>\n",
      "Input = 1, output = 1, type of output = <type 'int'>\n",
      "Input = hello, output = hello, type of output = <type 'str'>\n",
      "Input = This is a complete sentence., output = This is a complete sentence., type of output = <type 'str'>\n"
     ]
    }
   ],
   "source": [
    "# using the given \"setup\" for the function\n",
    "def convert_type(a):\n",
    "    \"\"\"input:  a a string\n",
    "       output: if 'a' int  -->int(a)\n",
    "               if 'a' float-->float(a)\n",
    "               if 'a' string--> a\"\"\"\n",
    "    # first, see if there is a decimal point in a\n",
    "    if '.' in a:\n",
    "        try:\n",
    "            ret = float(a) # \"ret\" for \"return value\"\n",
    "        except ValueError: # if it doesn't work, a is a string\n",
    "            ret = a\n",
    "    else: # then a may be an integer\n",
    "        try:\n",
    "            ret = int(a)\n",
    "        except ValueError:\n",
    "            ret = a # if it still doesn't work, a is a string. \n",
    "    # I don't like that I have repeated code above, but let's see if it works...\n",
    "    return ret\n",
    "\n",
    "# test the function and print out the results\n",
    "test_inputs = [\"1.0\", \"1\", \"hello\", \"This is a complete sentence.\"]\n",
    "for test_input in test_inputs:\n",
    "    result = convert_type(test_input)\n",
    "    print(\"Input = {}, output = {}, type of output = {}\".format(test_input, result, type(result)))"
   ]
  },
  {
   "cell_type": "markdown",
   "metadata": {},
   "source": [
    "## Q 4 (tic-tac-toe)\n",
    "\n",
    "Here we'll write a simple tic-tac-toe game that 2 players can play.  First we'll create a string that represents our game board:"
   ]
  },
  {
   "cell_type": "code",
   "execution_count": 58,
   "metadata": {
    "collapsed": true
   },
   "outputs": [],
   "source": [
    "board = \"\"\"\n",
    " {s1:^3} | {s2:^3} | {s3:^3}\n",
    "-----+-----+-----\n",
    " {s4:^3} | {s5:^3} | {s6:^3}\n",
    "-----+-----+-----      123\n",
    " {s7:^3} | {s8:^3} | {s9:^3}       456\n",
    "                       789  \n",
    "\"\"\""
   ]
  },
  {
   "cell_type": "markdown",
   "metadata": {},
   "source": [
    "__Note to self__: the `^` symbol in the string formatter \"forces the field to be centered within the available space.\" (accoring to the [python docs](https://docs.python.org/3/library/string.html)).\n",
    "\n",
    "This board will look a little funny if we just print it&mdash;the spacing is set to look right when we replace the `{}` with `x` or `o`"
   ]
  },
  {
   "cell_type": "code",
   "execution_count": 59,
   "metadata": {
    "collapsed": false
   },
   "outputs": [
    {
     "name": "stdout",
     "output_type": "stream",
     "text": [
      "\n",
      " {s1:^3} | {s2:^3} | {s3:^3}\n",
      "-----+-----+-----\n",
      " {s4:^3} | {s5:^3} | {s6:^3}\n",
      "-----+-----+-----      123\n",
      " {s7:^3} | {s8:^3} | {s9:^3}       456\n",
      "                       789  \n",
      "\n"
     ]
    }
   ],
   "source": [
    "print(board)"
   ]
  },
  {
   "cell_type": "markdown",
   "metadata": {},
   "source": [
    "and well use a dictionary to denote the status of each square, \"x\", \"o\", or empty, \"\""
   ]
  },
  {
   "cell_type": "code",
   "execution_count": 60,
   "metadata": {
    "collapsed": false
   },
   "outputs": [
    {
     "data": {
      "text/plain": [
       "{'s1': '',\n",
       " 's2': '',\n",
       " 's3': '',\n",
       " 's4': '',\n",
       " 's5': '',\n",
       " 's6': '',\n",
       " 's7': '',\n",
       " 's8': '',\n",
       " 's9': ''}"
      ]
     },
     "execution_count": 60,
     "metadata": {},
     "output_type": "execute_result"
    }
   ],
   "source": [
    "play = {}\n",
    "\n",
    "def initialize_board(play):\n",
    "    for n in range(9):\n",
    "        play[\"s{}\".format(n+1)] = \"\"  # \"s1\" for square 1, etc.\n",
    "\n",
    "initialize_board(play)\n",
    "play"
   ]
  },
  {
   "cell_type": "markdown",
   "metadata": {},
   "source": [
    "Note that our `{}` placeholders in the `board` string have identifiers (the numbers in the `{}`).  We can use these to match the variables we want to print to the placeholder in the string, regardless of the order in the `format()`"
   ]
  },
  {
   "cell_type": "code",
   "execution_count": 61,
   "metadata": {
    "collapsed": false
   },
   "outputs": [
    {
     "name": "stdout",
     "output_type": "stream",
     "text": [
      "2 1\n"
     ]
    }
   ],
   "source": [
    "a = \"{s1:} {s2:}\".format(s2=1, s1=2)\n",
    "print(a)\n"
   ]
  },
  {
   "cell_type": "markdown",
   "metadata": {},
   "source": [
    "Here's an easy way to add the values of our dictionary to the appropriate squares in our game board.  First note that each of the {} is labeled with a number that matches the keys in our dictionary.  Python provides a way to unpack a dictionary into labeled arguments, using **\n",
    "\n",
    "This lets us to write a function to show the tic-tac-toe board."
   ]
  },
  {
   "cell_type": "code",
   "execution_count": 62,
   "metadata": {
    "collapsed": false
   },
   "outputs": [
    {
     "name": "stdout",
     "output_type": "stream",
     "text": [
      "\n",
      "     |     |    \n",
      "-----+-----+-----\n",
      "     |     |    \n",
      "-----+-----+-----      123\n",
      "     |     |           456\n",
      "                       789  \n",
      "\n"
     ]
    }
   ],
   "source": [
    "def show_board(play):\n",
    "    \"\"\" display the playing board.  \n",
    "    We take a dictionary with the current state of the board\n",
    "    We rely on the board string to be a global variable\"\"\"\n",
    "    print(board.format(**play)) # same as board.format(s1=play['s1'], s2=play['s2], ...)\n",
    "    \n",
    "show_board(play)\n",
    "\n",
    "#if play['s1']==play['s2']==play['s3']=='x': \n",
    "#    print('helo')"
   ]
  },
  {
   "cell_type": "markdown",
   "metadata": {},
   "source": [
    "Now we need a function that asks a player for a move:"
   ]
  },
  {
   "cell_type": "code",
   "execution_count": 63,
   "metadata": {
    "collapsed": true
   },
   "outputs": [],
   "source": [
    "def get_move(n, xo, play):\n",
    "    \"\"\" ask the current player, n, to make a move -- make sure the square was not \n",
    "        already played.  xo is a string of the character (x or o) we will place in\n",
    "        the desired square \"\"\"\n",
    "    valid_move = False\n",
    "    while not valid_move:\n",
    "        idx = input(\"player {}, enter your move (1-9)\".format(n)) # ask which square they want to play\n",
    "        if play[\"s{}\".format(idx)] == \"\":\n",
    "            valid_move = True # if the square is empty, they're free to play it\n",
    "        else:\n",
    "            print(\"invalid: {}\".format(play[\"s{}\".format(idx)]))\n",
    "            \n",
    "    play[\"s{}\".format(idx)] = xo # update entry in the square\n",
    "    \n"
   ]
  },
  {
   "cell_type": "code",
   "execution_count": 64,
   "metadata": {
    "collapsed": false
   },
   "outputs": [
    {
     "name": "stdout",
     "output_type": "stream",
     "text": [
      "Help on function get_move in module __main__:\n",
      "\n",
      "get_move(n, xo, play)\n",
      "    ask the current player, n, to make a move -- make sure the square was not \n",
      "    already played.  xo is a string of the character (x or o) we will place in\n",
      "    the desired square\n",
      "\n"
     ]
    }
   ],
   "source": [
    "help(get_move)"
   ]
  },
  {
   "cell_type": "markdown",
   "metadata": {},
   "source": [
    "We also need a function that checks if a player has already made a winning move after its turn"
   ]
  },
  {
   "cell_type": "code",
   "execution_count": 65,
   "metadata": {
    "collapsed": true
   },
   "outputs": [],
   "source": [
    "def check_win(play):\n",
    "    \"\"\"Recevies the game board and checks if someone has already won the game\n",
    "   Parameters: \n",
    "   -----------\n",
    "   Play: {dict} The board game\n",
    "   Returns:\n",
    "   -------\n",
    "   win:  Logical\n",
    "         true is someone has won\"\"\"\n",
    "    # lets create an internal copy of play\n",
    "    win = False\n",
    "    if play['s1']==play['s2']==play['s3']==('x'or'o'):\n",
    "        win = True\n",
    "    elif play['s4']==play['s5']==play['s6']==('x'or'o'):\n",
    "        win = True\n",
    "    elif play['s7']==play['s8']==play['s9']==('x'or'o'):\n",
    "        win = True\n",
    "    elif play['s1']==play['s4']==play['s7']==('x'or'o'):\n",
    "        win = True    \n",
    "    elif play['s5']==play['s2']==play['s8']==('x'or'o'):\n",
    "        win = True\n",
    "    elif play['s9']==play['s6']==play['s3']==('x'or'o'):\n",
    "        win = True    \n",
    "    elif play['s5']==play['s7']==play['s3']==('x'or'o'):\n",
    "        win = True\n",
    "    elif play['s1']==play['s5']==play['s9']==('x'or'o'):\n",
    "        win = True     \n",
    "    return win    "
   ]
  },
  {
   "cell_type": "markdown",
   "metadata": {},
   "source": [
    "### your task\n",
    "\n",
    "Using the functions defined above\n",
    "  * `initialize_board()`\n",
    "  * `show_board()`\n",
    "  * `get_move()`\n",
    "  * `check_win()`\n",
    "\n",
    "fill in the function `play_game()` below to complete the game, asking for the moves one at a time, alternating between player 1 and 2"
   ]
  },
  {
   "cell_type": "code",
   "execution_count": 73,
   "metadata": {
    "collapsed": false
   },
   "outputs": [
    {
     "name": "stdout",
     "output_type": "stream",
     "text": [
      "Beginning game. The board is currently empty. Amanda has 'x's, also Amanda has 'o's\n",
      "\n",
      "     |     |    \n",
      "-----+-----+-----\n",
      "     |     |    \n",
      "-----+-----+-----      123\n",
      "     |     |           456\n",
      "                       789  \n",
      "\n",
      "player Amanda, enter your move (1-9)1\n",
      "The board is now:\n",
      "\n",
      "  x  |     |    \n",
      "-----+-----+-----\n",
      "     |     |    \n",
      "-----+-----+-----      123\n",
      "     |     |           456\n",
      "                       789  \n",
      "\n",
      "player also Amanda, enter your move (1-9)3\n",
      "The board is now:\n",
      "\n",
      "  x  |     |  o \n",
      "-----+-----+-----\n",
      "     |     |    \n",
      "-----+-----+-----      123\n",
      "     |     |           456\n",
      "                       789  \n",
      "\n",
      "player Amanda, enter your move (1-9)2\n",
      "The board is now:\n",
      "\n",
      "  x  |  x  |  o \n",
      "-----+-----+-----\n",
      "     |     |    \n",
      "-----+-----+-----      123\n",
      "     |     |           456\n",
      "                       789  \n",
      "\n",
      "player also Amanda, enter your move (1-9)4\n",
      "The board is now:\n",
      "\n",
      "  x  |  x  |  o \n",
      "-----+-----+-----\n",
      "  o  |     |    \n",
      "-----+-----+-----      123\n",
      "     |     |           456\n",
      "                       789  \n",
      "\n",
      "player Amanda, enter your move (1-9)5\n",
      "The board is now:\n",
      "\n",
      "  x  |  x  |  o \n",
      "-----+-----+-----\n",
      "  o  |  x  |    \n",
      "-----+-----+-----      123\n",
      "     |     |           456\n",
      "                       789  \n",
      "\n",
      "player also Amanda, enter your move (1-9)7\n",
      "The board is now:\n",
      "\n",
      "  x  |  x  |  o \n",
      "-----+-----+-----\n",
      "  o  |  x  |    \n",
      "-----+-----+-----      123\n",
      "  o  |     |           456\n",
      "                       789  \n",
      "\n",
      "player Amanda, enter your move (1-9)6\n",
      "The board is now:\n",
      "\n",
      "  x  |  x  |  o \n",
      "-----+-----+-----\n",
      "  o  |  x  |  x \n",
      "-----+-----+-----      123\n",
      "  o  |     |           456\n",
      "                       789  \n",
      "\n",
      "player also Amanda, enter your move (1-9)9\n",
      "The board is now:\n",
      "\n",
      "  x  |  x  |  o \n",
      "-----+-----+-----\n",
      "  o  |  x  |  x \n",
      "-----+-----+-----      123\n",
      "  o  |     |  o        456\n",
      "                       789  \n",
      "\n",
      "player Amanda, enter your move (1-9)8\n",
      "The board is now:\n",
      "\n",
      "  x  |  x  |  o \n",
      "-----+-----+-----\n",
      "  o  |  x  |  x \n",
      "-----+-----+-----      123\n",
      "  o  |  x  |  o        456\n",
      "                       789  \n",
      "\n",
      "We have a winner! Amanda, you've won the game. Here is the final board:\n",
      "\n",
      "  x  |  x  |  o \n",
      "-----+-----+-----\n",
      "  o  |  x  |  x \n",
      "-----+-----+-----      123\n",
      "  o  |  x  |  o        456\n",
      "                       789  \n",
      "\n"
     ]
    }
   ],
   "source": [
    "def check_for_tie(play):\n",
    "    \"\"\"Check if there is a tie in the tic-tac-toe game.\n",
    "    Note: this differs from check_win(), because game may be over without a winner.\n",
    "    input: dictionary giving the 'pieces' occupying each square.\n",
    "    output: bool, True if game over (all squares occupied).\n",
    "    \"\"\"\n",
    "    items = [play[key] for key in play.keys()]\n",
    "    # if each box filled, we have a tie.\n",
    "    # begin by assuming this is the case, and if a box is empty, keep playing\n",
    "    game_over = True\n",
    "    for item in items:\n",
    "        if item == '':\n",
    "            game_over = False\n",
    "    return game_over\n",
    "\n",
    "\n",
    "def play_game(player1_name=\"Player 1\", player2_name=\"Player 2\"):\n",
    "    \"\"\"Play a game of tic-tac-toe!\n",
    "    input: player1_name, player2_name (optional strings for the name of the players)\"\"\"\n",
    "    \n",
    "    # begin by initializing  board and showing it\n",
    "    board = \"\"\"\n",
    "     {s1:^3} | {s2:^3} | {s3:^3}\n",
    "    -----+-----+-----\n",
    "     {s4:^3} | {s5:^3} | {s6:^3}\n",
    "    -----+-----+-----      123\n",
    "     {s7:^3} | {s8:^3} | {s9:^3}       456\n",
    "                           789  \n",
    "    \"\"\"\n",
    "    play = {}\n",
    "    # player 1 plays x's, player 2 plays 'o's\n",
    "    players = {player1_name: 'x', player2_name: 'o'}\n",
    "    initialize_board(play)\n",
    "    print(\"Beginning game. The board is currently empty. {} has '{}'s, {} has '{}'s\".format(player1_name, players[player1_name], player2_name, players[player2_name]))\n",
    "    show_board(play)\n",
    "    winner = None # will store whoever wins\n",
    "    \n",
    "    # play until someone wins:\n",
    "    have_winner = False\n",
    "    have_tie = False\n",
    "    while not (have_winner or have_tie):\n",
    "        # ask player 1 to make move\n",
    "        get_move(player1_name, players[player1_name], play)\n",
    "        print(\"The board is now:\")\n",
    "        show_board(play)\n",
    "        # check if game over\n",
    "        have_winner = check_win(play)\n",
    "        have_tie = check_for_tie(play)\n",
    "        if have_winner:\n",
    "            winner = player1_name\n",
    "            break\n",
    "        elif have_tie:\n",
    "            break\n",
    "        \n",
    "        # ask player 2\n",
    "        get_move(player2_name, players[player2_name], play)\n",
    "        print(\"The board is now:\")\n",
    "        show_board(play)\n",
    "        # check if game over\n",
    "        have_winner = check_win(play)\n",
    "        have_tie = check_for_tie(play)\n",
    "        if have_winner:\n",
    "            winner = player2_name\n",
    "        # don't need to check for a tie again, because looping back to top\n",
    "        \n",
    "    if winner is None:\n",
    "        print(\"There is a tie!\")\n",
    "    else:\n",
    "        print(\"We have a winner! {}, you've won the game. Here is the final board:\".format(winner))\n",
    "    show_board(play)\n",
    "    \n",
    "    \n",
    "    \n",
    "play_game(player1_name=\"Amanda\", player2_name=\"also Amanda\")"
   ]
  },
  {
   "cell_type": "code",
   "execution_count": 74,
   "metadata": {
    "collapsed": false
   },
   "outputs": [
    {
     "name": "stdout",
     "output_type": "stream",
     "text": [
      "Beginning game. The board is currently empty. Player 1 has 'x's, Player 2 has 'o's\n",
      "\n",
      "     |     |    \n",
      "-----+-----+-----\n",
      "     |     |    \n",
      "-----+-----+-----      123\n",
      "     |     |           456\n",
      "                       789  \n",
      "\n",
      "player Player 1, enter your move (1-9)5\n",
      "The board is now:\n",
      "\n",
      "     |     |    \n",
      "-----+-----+-----\n",
      "     |  x  |    \n",
      "-----+-----+-----      123\n",
      "     |     |           456\n",
      "                       789  \n",
      "\n",
      "player Player 2, enter your move (1-9)1\n",
      "The board is now:\n",
      "\n",
      "  o  |     |    \n",
      "-----+-----+-----\n",
      "     |  x  |    \n",
      "-----+-----+-----      123\n",
      "     |     |           456\n",
      "                       789  \n",
      "\n",
      "player Player 1, enter your move (1-9)9\n",
      "The board is now:\n",
      "\n",
      "  o  |     |    \n",
      "-----+-----+-----\n",
      "     |  x  |    \n",
      "-----+-----+-----      123\n",
      "     |     |  x        456\n",
      "                       789  \n",
      "\n",
      "player Player 2, enter your move (1-9)3\n",
      "The board is now:\n",
      "\n",
      "  o  |     |  o \n",
      "-----+-----+-----\n",
      "     |  x  |    \n",
      "-----+-----+-----      123\n",
      "     |     |  x        456\n",
      "                       789  \n",
      "\n",
      "player Player 1, enter your move (1-9)6\n",
      "The board is now:\n",
      "\n",
      "  o  |     |  o \n",
      "-----+-----+-----\n",
      "     |  x  |  x \n",
      "-----+-----+-----      123\n",
      "     |     |  x        456\n",
      "                       789  \n",
      "\n",
      "player Player 2, enter your move (1-9)4\n",
      "The board is now:\n",
      "\n",
      "  o  |     |  o \n",
      "-----+-----+-----\n",
      "  o  |  x  |  x \n",
      "-----+-----+-----      123\n",
      "     |     |  x        456\n",
      "                       789  \n",
      "\n",
      "player Player 1, enter your move (1-9)7\n",
      "The board is now:\n",
      "\n",
      "  o  |     |  o \n",
      "-----+-----+-----\n",
      "  o  |  x  |  x \n",
      "-----+-----+-----      123\n",
      "  x  |     |  x        456\n",
      "                       789  \n",
      "\n",
      "player Player 2, enter your move (1-9)8\n",
      "The board is now:\n",
      "\n",
      "  o  |     |  o \n",
      "-----+-----+-----\n",
      "  o  |  x  |  x \n",
      "-----+-----+-----      123\n",
      "  x  |  o  |  x        456\n",
      "                       789  \n",
      "\n",
      "player Player 1, enter your move (1-9)2\n",
      "The board is now:\n",
      "\n",
      "  o  |  x  |  o \n",
      "-----+-----+-----\n",
      "  o  |  x  |  x \n",
      "-----+-----+-----      123\n",
      "  x  |  o  |  x        456\n",
      "                       789  \n",
      "\n",
      "There is a tie!\n",
      "\n",
      "  o  |  x  |  o \n",
      "-----+-----+-----\n",
      "  o  |  x  |  x \n",
      "-----+-----+-----      123\n",
      "  x  |  o  |  x        456\n",
      "                       789  \n",
      "\n"
     ]
    }
   ],
   "source": [
    "# trying to trigger a tie ...\n",
    "play_game()"
   ]
  },
  {
   "cell_type": "code",
   "execution_count": null,
   "metadata": {
    "collapsed": true
   },
   "outputs": [],
   "source": []
  }
 ],
 "metadata": {
  "kernelspec": {
   "display_name": "Python 2",
   "language": "python",
   "name": "python2"
  },
  "language_info": {
   "codemirror_mode": {
    "name": "ipython",
    "version": 2
   },
   "file_extension": ".py",
   "mimetype": "text/x-python",
   "name": "python",
   "nbconvert_exporter": "python",
   "pygments_lexer": "ipython2",
   "version": "2.7.6"
  }
 },
 "nbformat": 4,
 "nbformat_minor": 2
}
