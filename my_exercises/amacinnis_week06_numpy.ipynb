{
 "cells": [
  {
   "cell_type": "markdown",
   "metadata": {},
   "source": [
    "# NumPy exercises"
   ]
  },
  {
   "cell_type": "markdown",
   "metadata": {},
   "source": [
    "Some  of these come from / are inspired from https://github.com/rougier/numpy-100 and http://www.scipy-lectures.org/intro/numpy/exercises.html\n",
    "\n",
    "You might want to look over these lists as well."
   ]
  },
  {
   "cell_type": "code",
   "execution_count": 1,
   "metadata": {
    "collapsed": true
   },
   "outputs": [],
   "source": [
    "import numpy as np\n",
    "from __future__ import print_function"
   ]
  },
  {
   "cell_type": "markdown",
   "metadata": {},
   "source": [
    "---\n",
    "## Q1\n",
    "\n",
    "We can use `np.random.random_sample()` to create an array with random values.  By default, these will be in the range `[0.0, 1.0)`.  You can\n",
    "multiple the output and add a scalar to it to get it to be in a different range.\n",
    "\n",
    "Create a 10 x 10 array initialized with random numbers that lie between 0 and 10.\n",
    "\n",
    "Then compute the average of the array (there is a numpy function for this, `np.mean()`).\n",
    "\n",
    "---\n",
    "#### My solution:\n",
    "\n",
    "First, check documentation of `np.random.random_sample()`:"
   ]
  },
  {
   "cell_type": "code",
   "execution_count": 2,
   "metadata": {
    "collapsed": false
   },
   "outputs": [
    {
     "name": "stdout",
     "output_type": "stream",
     "text": [
      "Help on built-in function random_sample:\n",
      "\n",
      "random_sample(...)\n",
      "    random_sample(size=None)\n",
      "    \n",
      "    Return random floats in the half-open interval [0.0, 1.0).\n",
      "    \n",
      "    Results are from the \"continuous uniform\" distribution over the\n",
      "    stated interval.  To sample :math:`Unif[a, b), b > a` multiply\n",
      "    the output of `random_sample` by `(b-a)` and add `a`::\n",
      "    \n",
      "      (b - a) * random_sample() + a\n",
      "    \n",
      "    Parameters\n",
      "    ----------\n",
      "    size : int or tuple of ints, optional\n",
      "        Output shape.  If the given shape is, e.g., ``(m, n, k)``, then\n",
      "        ``m * n * k`` samples are drawn.  Default is None, in which case a\n",
      "        single value is returned.\n",
      "    \n",
      "    Returns\n",
      "    -------\n",
      "    out : float or ndarray of floats\n",
      "        Array of random floats of shape `size` (unless ``size=None``, in which\n",
      "        case a single float is returned).\n",
      "    \n",
      "    Examples\n",
      "    --------\n",
      "    >>> np.random.random_sample()\n",
      "    0.47108547995356098\n",
      "    >>> type(np.random.random_sample())\n",
      "    <type 'float'>\n",
      "    >>> np.random.random_sample((5,))\n",
      "    array([ 0.30220482,  0.86820401,  0.1654503 ,  0.11659149,  0.54323428])\n",
      "    \n",
      "    Three-by-two array of random numbers from [-5, 0):\n",
      "    \n",
      "    >>> 5 * np.random.random_sample((3, 2)) - 5\n",
      "    array([[-3.99149989, -0.52338984],\n",
      "           [-2.99091858, -0.79479508],\n",
      "           [-1.23204345, -1.75224494]])\n",
      "\n"
     ]
    }
   ],
   "source": [
    "help(np.random.random_sample)"
   ]
  },
  {
   "cell_type": "markdown",
   "metadata": {},
   "source": [
    "So we just need to pass in the size of the resulting array as an argument, and then scale it:"
   ]
  },
  {
   "cell_type": "code",
   "execution_count": 89,
   "metadata": {
    "collapsed": false
   },
   "outputs": [
    {
     "name": "stdout",
     "output_type": "stream",
     "text": [
      "x =\n",
      " [[ 8.28711961  8.18618302  8.32909533  4.73129993  2.79250321  1.50537134\n",
      "   8.6188975   4.26283084  2.85647511  3.56645787]\n",
      " [ 1.92274321  4.4761153   2.98136358  2.72370739  7.88456272  9.53192349\n",
      "   2.59397028  3.47063868  7.48503023  5.75899617]\n",
      " [ 4.5811376   7.68706649  9.93595994  1.75737489  6.06777838  4.58675095\n",
      "   4.79417877  8.76531115  0.41586267  7.10052893]\n",
      " [ 1.06961545  9.49879546  9.22086643  7.72190288  7.69157744  8.49946994\n",
      "   8.44317441  7.29519765  0.84669883  0.99664641]\n",
      " [ 3.67162386  3.21450756  9.86901454  8.7200567   3.90065586  1.54343903\n",
      "   2.46233322  0.91747703  5.79531976  3.99983682]\n",
      " [ 9.13413412  9.73065121  5.36430881  2.79800893  2.31068223  2.26013237\n",
      "   7.76096801  6.23909112  5.31854743  1.9085594 ]\n",
      " [ 5.03557551  3.26897934  1.90540209  9.96986129  4.49976485  2.0580825\n",
      "   2.92395038  2.91222836  8.38343521  3.16710838]\n",
      " [ 2.16368255  9.05339592  8.82651053  3.61695752  2.11162472  2.31043686\n",
      "   3.89241023  7.72946121  2.70818758  0.49689953]\n",
      " [ 7.20534599  3.76053697  0.59459804  1.30239813  6.17545981  2.25963784\n",
      "   3.85023892  4.94632353  8.60537617  9.97623654]\n",
      " [ 5.30861617  7.85535254  8.88072331  0.71157947  0.03066035  4.73997931\n",
      "   8.60757806  0.24226132  0.69668236  7.00613782]]\n",
      "min, max values =  0.0306603510117 9.97623653571\n",
      "mean value =  4.95650204729\n"
     ]
    }
   ],
   "source": [
    "x = np.random.random_sample((10,10)) * 10.\n",
    "print(\"x =\\n\", x)\n",
    "print(\"min, max values = \", np.min(x), np.max(x))\n",
    "print(\"mean value = \", np.mean(x))"
   ]
  },
  {
   "cell_type": "markdown",
   "metadata": {},
   "source": [
    "---\n",
    "## Q2\n",
    "\n",
    "Create the array: \n",
    "```\n",
    "[[1,  6, 11],\n",
    " [2,  7, 12],\n",
    " [3,  8, 13],\n",
    " [4,  9, 14],\n",
    " [5, 10, 15]]\n",
    "```\n",
    "with out explicitly typing it in.\n",
    "\n",
    "Now create a new array containing only its 2nd and 4th rows.\n",
    "\n",
    "---\n",
    "#### My solution:"
   ]
  },
  {
   "cell_type": "code",
   "execution_count": 90,
   "metadata": {
    "collapsed": false
   },
   "outputs": [],
   "source": [
    "a = np.arange(1,16).reshape(3,5)\n",
    "b = a.transpose()  # the array we were asked to make"
   ]
  },
  {
   "cell_type": "code",
   "execution_count": 91,
   "metadata": {
    "collapsed": false
   },
   "outputs": [
    {
     "data": {
      "text/plain": [
       "array([[ 1,  2,  3,  4,  5],\n",
       "       [ 6,  7,  8,  9, 10],\n",
       "       [11, 12, 13, 14, 15]])"
      ]
     },
     "execution_count": 91,
     "metadata": {},
     "output_type": "execute_result"
    }
   ],
   "source": [
    "a"
   ]
  },
  {
   "cell_type": "code",
   "execution_count": 92,
   "metadata": {
    "collapsed": false
   },
   "outputs": [
    {
     "data": {
      "text/plain": [
       "array([[ 1,  6, 11],\n",
       "       [ 2,  7, 12],\n",
       "       [ 3,  8, 13],\n",
       "       [ 4,  9, 14],\n",
       "       [ 5, 10, 15]])"
      ]
     },
     "execution_count": 92,
     "metadata": {},
     "output_type": "execute_result"
    }
   ],
   "source": [
    "b"
   ]
  },
  {
   "cell_type": "markdown",
   "metadata": {},
   "source": [
    "Create a new array to hold the values we want, and fill them in:"
   ]
  },
  {
   "cell_type": "code",
   "execution_count": 93,
   "metadata": {
    "collapsed": false
   },
   "outputs": [
    {
     "data": {
      "text/plain": [
       "array([[ 2,  7, 12],\n",
       "       [ 4,  9, 14]])"
      ]
     },
     "execution_count": 93,
     "metadata": {},
     "output_type": "execute_result"
    }
   ],
   "source": [
    "c = np.zeros((2,3), dtype=int) # create empty array with 2 rows and 3 columns\n",
    "c[0,:] = b[1,:].copy() # copy 2nd row\n",
    "c[1,:] = b[3,:].copy() # copy 4th row\n",
    "c"
   ]
  },
  {
   "cell_type": "markdown",
   "metadata": {},
   "source": [
    "---\n",
    "## Q3\n",
    "\n",
    "Create a 2d array with `1` on the border and `0` on the inside, e.g., like:\n",
    "```\n",
    "1 1 1 1 1\n",
    "1 0 0 0 1\n",
    "1 0 0 0 1\n",
    "1 1 1 1 1\n",
    "```\n",
    "\n",
    "Do this using array slice notation to let it work for an arbitrary-sized array\n",
    "\n",
    "---\n",
    "\n",
    "#### My solution:"
   ]
  },
  {
   "cell_type": "code",
   "execution_count": 94,
   "metadata": {
    "collapsed": false
   },
   "outputs": [
    {
     "data": {
      "text/plain": [
       "array([[1, 1, 1, 1, 1],\n",
       "       [1, 0, 0, 0, 1],\n",
       "       [1, 0, 0, 0, 1],\n",
       "       [1, 0, 0, 0, 1],\n",
       "       [1, 1, 1, 1, 1]])"
      ]
     },
     "execution_count": 94,
     "metadata": {},
     "output_type": "execute_result"
    }
   ],
   "source": [
    "# define size of new array\n",
    "nrows = 5\n",
    "ncols = 5\n",
    "\n",
    "# create an array of that size filled with zeros\n",
    "x = np.zeros((nrows, ncols), dtype=int) \n",
    "\n",
    "# fill in the edges with ones\n",
    "x[0,:]  = 1\n",
    "x[-1,:] = 1\n",
    "x[:,0]  = 1\n",
    "x[:,-1] = 1\n",
    "\n",
    "# print it out\n",
    "x"
   ]
  },
  {
   "cell_type": "markdown",
   "metadata": {},
   "source": [
    "---\n",
    "## Q4\n",
    "\n",
    "  * Create an array with angles in degrees 0, 15, 30, ... 90 (i.e., every 15 degrees up to 90).\n",
    "\n",
    "  * Now create 3 new arrays with the sine, cosine, and tangent of the elements of the first array\n",
    "  \n",
    "  * Finally, calculate the inverse sine, inverse cosine, and inverse tangent the arrays above and compare to the original angles\n",
    "  \n",
    "---\n",
    "#### My solution:"
   ]
  },
  {
   "cell_type": "code",
   "execution_count": 97,
   "metadata": {
    "collapsed": false
   },
   "outputs": [
    {
     "name": "stdout",
     "output_type": "stream",
     "text": [
      "angles = [  0.  15.  30.  45.  60.  75.  90.]\n",
      "sin(arcsin(angles)): [  0.  15.  30.  45.  60.  75.  90.]\n",
      "cos(arccos(angles)): [  0.  15.  30.  45.  60.  75.  90.]\n",
      "tan(arctan(angles)): [  0.  15.  30.  45.  60.  75.  90.]\n"
     ]
    }
   ],
   "source": [
    "# create the array of angles \n",
    "angles = np.arange(0., 105., 15.) # need to use stop = 90 + 15 in np.arange()\n",
    "print(\"angles =\", angles)\n",
    "\n",
    "# convert angles to radians\n",
    "angles = np.radians(angles)\n",
    "\n",
    "# trig functions\n",
    "sine = np.sin(angles)\n",
    "cosine = np.cos(angles)\n",
    "tangent = np.tan(angles)\n",
    "\n",
    "# inverse trig functions\n",
    "arcsine = np.arcsin(sine)\n",
    "arccosine = np.arccos(cosine)\n",
    "arctangent = np.arctan(tangent)\n",
    "\n",
    "# print each out, in degrees\n",
    "print(\"sin(arcsin(angles)):\", np.degrees(arcsine))\n",
    "print(\"cos(arccos(angles)):\", np.degrees(arccosine))\n",
    "print(\"tan(arctan(angles)):\", np.degrees(arctangent))"
   ]
  },
  {
   "cell_type": "markdown",
   "metadata": {},
   "source": [
    "---\n",
    "## Q5\n",
    "\n",
    "Given the array:\n",
    "```\n",
    "x = np.array([1, -1, 2, 5, 8, 4, 10, 12, 3])\n",
    "```\n",
    "calculate the difference of each element with its neighbor.\n",
    "\n",
    "---\n",
    "#### My solution:\n",
    "\n",
    "We will calculate the difference $x_{i+1} - x_i$ for each element $x_i$ in the array, $i = 0, ..., N-1$ where $N$ is the number of  elements in the array.\n",
    "\n",
    "This could be done with a loop, which is what we would need to do if `x` were a list:\n",
    "\n",
    "    N = len(x)\n",
    "    for i in range(N-1):\n",
    "        difference = x[i+1] - x[i]\n",
    "        \n",
    "But here `x` is an array, so we can take advantage of the whole-array operations:\n",
    "\n",
    "- Use two \"new\" arrays, each of length $N-1$: \n",
    "\n",
    "    - The first will have elements $x_j = x_i$ for $j = 0, ..., N-1$ and $i = 0, ..., N-1$ \n",
    "    \n",
    "        - It can be created by slicing `x` to include all but the last element, `x[:-1]`\n",
    "    \n",
    "    - The second will have the elements $x_k = x_{i+1}$ for $k = 0, ..., N-1$ and $i = 0, ..., N-1$ \n",
    "        \n",
    "        - It can be created by slicing `x` to include all but the first element, `x[1:]` \n",
    "    \n",
    "- Then we simply need to subtract the two."
   ]
  },
  {
   "cell_type": "code",
   "execution_count": 99,
   "metadata": {
    "collapsed": false
   },
   "outputs": [
    {
     "data": {
      "text/plain": [
       "array([ 1, -1,  2,  5,  8,  4, 10, 12,  3])"
      ]
     },
     "execution_count": 99,
     "metadata": {},
     "output_type": "execute_result"
    }
   ],
   "source": [
    "x = np.array([1, -1, 2, 5, 8, 4, 10, 12, 3])\n",
    "x"
   ]
  },
  {
   "cell_type": "code",
   "execution_count": 100,
   "metadata": {
    "collapsed": false
   },
   "outputs": [
    {
     "data": {
      "text/plain": [
       "array([-2,  3,  3,  3, -4,  6,  2, -9])"
      ]
     },
     "execution_count": 100,
     "metadata": {},
     "output_type": "execute_result"
    }
   ],
   "source": [
    "difference = x[1:] - x[:-1]\n",
    "difference"
   ]
  },
  {
   "cell_type": "markdown",
   "metadata": {},
   "source": [
    "---\n",
    "## Q6\n",
    "\n",
    "Here we will read in columns of numbers from a file and create a histogram, using NumPy routines.  Make sure you have the data file\n",
    "\"`sample.txt`\" in the same directory as this notebook (you can download it from  https://raw.githubusercontent.com/sbu-python-summer/python-tutorial/master/day-3/sample.txt\n",
    "\n",
    "  * Use `np.loadtxt()` to read this file in.  \n",
    "\n",
    "  * Next, use `np.histogram()` to create a histogram array.  The output returns both the count and an array of edges.\n",
    "  \n",
    "  * Finally, loop over the bins and print out the bin center (averaging the left and right edges of the bin) and the count for that bin.\n",
    "  \n",
    "---\n",
    "#### My solution:"
   ]
  },
  {
   "cell_type": "code",
   "execution_count": 101,
   "metadata": {
    "collapsed": false
   },
   "outputs": [
    {
     "data": {
      "text/plain": [
       "array([[  0.00000000e+00,  -4.75677275e+00],\n",
       "       [  1.00000000e+00,   6.88953354e+00],\n",
       "       [  2.00000000e+00,   8.99689609e+00],\n",
       "       [  3.00000000e+00,  -1.74610171e+00],\n",
       "       [  4.00000000e+00,   1.03044029e+00],\n",
       "       [  5.00000000e+00,   4.63576843e+00],\n",
       "       [  6.00000000e+00,   5.17722592e+00],\n",
       "       [  7.00000000e+00,   1.59646902e+01],\n",
       "       [  8.00000000e+00,  -1.20210982e+01],\n",
       "       [  9.00000000e+00,  -1.81008788e+01],\n",
       "       [  1.00000000e+01,  -2.51788866e+01],\n",
       "       [  1.10000000e+01,   4.51892535e+00],\n",
       "       [  1.20000000e+01,   9.04391677e+00],\n",
       "       [  1.30000000e+01,  -5.22153591e-01],\n",
       "       [  1.40000000e+01,  -3.13388866e+00],\n",
       "       [  1.50000000e+01,  -6.91471494e+00],\n",
       "       [  1.60000000e+01,  -6.31426355e+00],\n",
       "       [  1.70000000e+01,   6.70690189e+00],\n",
       "       [  1.80000000e+01,  -2.59716364e+01],\n",
       "       [  1.90000000e+01,  -4.43537243e+00],\n",
       "       [  2.00000000e+01,   4.88905016e-01],\n",
       "       [  2.10000000e+01,  -3.60048108e-02],\n",
       "       [  2.20000000e+01,  -4.37254566e+00],\n",
       "       [  2.30000000e+01,   4.04703176e-01],\n",
       "       [  2.40000000e+01,   3.09059799e+00],\n",
       "       [  2.50000000e+01,   1.93065266e+01],\n",
       "       [  2.60000000e+01,   6.48611582e+00],\n",
       "       [  2.70000000e+01,  -1.07811286e+01],\n",
       "       [  2.80000000e+01,  -1.28579188e+01],\n",
       "       [  2.90000000e+01,  -1.02784011e+00],\n",
       "       [  3.00000000e+01,  -3.05884279e+01],\n",
       "       [  3.10000000e+01,  -6.51710963e+00],\n",
       "       [  3.20000000e+01,  -7.48921019e+00],\n",
       "       [  3.30000000e+01,  -1.11057217e+01],\n",
       "       [  3.40000000e+01,   4.12072192e+00],\n",
       "       [  3.50000000e+01,  -3.15323958e+00],\n",
       "       [  3.60000000e+01,   1.41350417e+00],\n",
       "       [  3.70000000e+01,   2.25833747e+01],\n",
       "       [  3.80000000e+01,  -1.22755660e+01],\n",
       "       [  3.90000000e+01,  -4.79310290e+00],\n",
       "       [  4.00000000e+01,  -7.12853755e+00],\n",
       "       [  4.10000000e+01,  -1.72790192e+01],\n",
       "       [  4.20000000e+01,   1.96556358e+01],\n",
       "       [  4.30000000e+01,  -1.27450668e+00],\n",
       "       [  4.40000000e+01,   3.73805817e+00],\n",
       "       [  4.50000000e+01,   1.04819591e+01],\n",
       "       [  4.60000000e+01,  -1.28141873e+01],\n",
       "       [  4.70000000e+01,  -2.24245301e+01],\n",
       "       [  4.80000000e+01,   4.13783401e+00],\n",
       "       [  4.90000000e+01,  -4.13199693e-02],\n",
       "       [  5.00000000e+01,   7.37529805e+00],\n",
       "       [  5.10000000e+01,  -4.09838552e+00],\n",
       "       [  5.20000000e+01,  -5.59957162e+00],\n",
       "       [  5.30000000e+01,  -1.32534432e+01],\n",
       "       [  5.40000000e+01,   1.62907434e+01],\n",
       "       [  5.50000000e+01,   1.04241848e+01],\n",
       "       [  5.60000000e+01,  -4.27251752e+00],\n",
       "       [  5.70000000e+01,   1.90168469e+01],\n",
       "       [  5.80000000e+01,   3.15448739e+00],\n",
       "       [  5.90000000e+01,  -9.70480792e+00],\n",
       "       [  6.00000000e+01,  -8.10117693e-04],\n",
       "       [  6.10000000e+01,   6.10442495e+00],\n",
       "       [  6.20000000e+01,   2.44781129e+01],\n",
       "       [  6.30000000e+01,   1.48466183e+01],\n",
       "       [  6.40000000e+01,  -2.18637866e+00],\n",
       "       [  6.50000000e+01,   9.86177634e+00],\n",
       "       [  6.60000000e+01,   1.27249770e+01],\n",
       "       [  6.70000000e+01,   4.03724573e+00],\n",
       "       [  6.80000000e+01,  -6.56843975e-01],\n",
       "       [  6.90000000e+01,   1.53726258e+01],\n",
       "       [  7.00000000e+01,  -7.88087235e+00],\n",
       "       [  7.10000000e+01,   2.54070375e+00],\n",
       "       [  7.20000000e+01,  -1.02254483e+00],\n",
       "       [  7.30000000e+01,   2.09103486e+01],\n",
       "       [  7.40000000e+01,   9.22254199e+00],\n",
       "       [  7.50000000e+01,  -1.10566286e+01],\n",
       "       [  7.60000000e+01,   2.79395083e+01],\n",
       "       [  7.70000000e+01,  -6.03285768e+00],\n",
       "       [  7.80000000e+01,   1.80983457e+01],\n",
       "       [  7.90000000e+01,   3.85948784e+01],\n",
       "       [  8.00000000e+01,  -8.72094283e-01],\n",
       "       [  8.10000000e+01,   1.72297208e+00],\n",
       "       [  8.20000000e+01,  -4.17408818e+00],\n",
       "       [  8.30000000e+01,  -8.31896283e+00],\n",
       "       [  8.40000000e+01,   1.45125588e+01],\n",
       "       [  8.50000000e+01,   5.63083729e+00],\n",
       "       [  8.60000000e+01,   1.30976670e+01],\n",
       "       [  8.70000000e+01,   9.51721084e+00],\n",
       "       [  8.80000000e+01,  -3.27303230e+00],\n",
       "       [  8.90000000e+01,   1.42297537e+01],\n",
       "       [  9.00000000e+01,  -1.29030787e+01],\n",
       "       [  9.10000000e+01,   1.06954694e+01],\n",
       "       [  9.20000000e+01,  -6.12535753e+00],\n",
       "       [  9.30000000e+01,  -5.38615351e-02],\n",
       "       [  9.40000000e+01,   8.34423854e+00],\n",
       "       [  9.50000000e+01,   1.25695448e+01],\n",
       "       [  9.60000000e+01,  -1.57306830e+00],\n",
       "       [  9.70000000e+01,   9.58834965e+00],\n",
       "       [  9.80000000e+01,  -1.77910627e+01],\n",
       "       [  9.90000000e+01,  -4.61399547e+00]])"
      ]
     },
     "execution_count": 101,
     "metadata": {},
     "output_type": "execute_result"
    }
   ],
   "source": [
    "# load the file; for me it's in a different directory\n",
    "fname = \"python-class/lectures/02-numpy/sample.txt\"\n",
    "sample = np.loadtxt(fname)\n",
    "# look at it\n",
    "sample"
   ]
  },
  {
   "cell_type": "code",
   "execution_count": 102,
   "metadata": {
    "collapsed": false
   },
   "outputs": [
    {
     "name": "stdout",
     "output_type": "stream",
     "text": [
      "min of data = -30.59\n",
      "max of data = -30.59\n",
      "mean of data =  1.19\n",
      "standard deviation of data = 11.89\n"
     ]
    }
   ],
   "source": [
    "# separate columns into two arrays\n",
    "indices = sample[:,0]\n",
    "data = sample[:,1]\n",
    "\n",
    "# print out some info about that data - will give an idea if doing the rest properly\n",
    "print(\"min of data = {:5.2f}\".format(np.min(data)))\n",
    "print(\"max of data = {:5.2f}\".format(np.min(data)))\n",
    "print(\"mean of data = {:5.2f}\".format(np.mean(data)))\n",
    "print(\"standard deviation of data = {:5.2f}\".format(np.std(data)))"
   ]
  },
  {
   "cell_type": "code",
   "execution_count": 103,
   "metadata": {
    "collapsed": false
   },
   "outputs": [],
   "source": [
    "# make a histogram of data: get the frequency per bin and bin edges\n",
    "hist, edges = np.histogram(data)"
   ]
  },
  {
   "cell_type": "code",
   "execution_count": 104,
   "metadata": {
    "collapsed": false
   },
   "outputs": [
    {
     "name": "stdout",
     "output_type": "stream",
     "text": [
      "hist values = \n",
      " [ 3  4  9 22 22 22  9  7  1  1]\n",
      "bin edges = \n",
      " [-30.58842789 -23.67009726 -16.75176662  -9.83343599  -2.91510536\n",
      "   4.00322527  10.9215559   17.83988653  24.75821717  31.6765478\n",
      "  38.59487843]\n",
      "length of hist, edges =  10 11\n"
     ]
    }
   ],
   "source": [
    "# print out some info\n",
    "print(\"hist values = \\n\",hist)\n",
    "print(\"bin edges = \\n\", edges)\n",
    "print(\"length of hist, edges = \",len(hist), len(edges))"
   ]
  },
  {
   "cell_type": "code",
   "execution_count": 106,
   "metadata": {
    "collapsed": false
   },
   "outputs": [
    {
     "name": "stdout",
     "output_type": "stream",
     "text": [
      "lower edge | center | upper edge | frequency\n",
      "--------------------------------------------\n",
      "    -30.59 | -27.13 |     -23.67 |   3.00\n",
      "    -23.67 | -20.21 |     -16.75 |   4.00\n",
      "    -16.75 | -13.29 |      -9.83 |   9.00\n",
      "     -9.83 |  -6.37 |      -2.92 |  22.00\n",
      "     -2.92 |   0.54 |       4.00 |  22.00\n",
      "      4.00 |   7.46 |      10.92 |  22.00\n",
      "     10.92 |  14.38 |      17.84 |   9.00\n",
      "     17.84 |  21.30 |      24.76 |   7.00\n",
      "     24.76 |  28.22 |      31.68 |   1.00\n",
      "     31.68 |  35.14 |      38.59 |   1.00\n"
     ]
    }
   ],
   "source": [
    "# print out bin center and value for each bin\n",
    "nbins = len(hist)\n",
    "header = \"lower edge | center | upper edge | frequency\"\n",
    "print(header)\n",
    "print(\"-\"*len(header))\n",
    "template = \"{:10.2f} | {:6.2f} | {:10.2f} | {:6.2f}\"\n",
    "for i in range(nbins):\n",
    "    bin_center = (edges[i] + edges[i+1]) / 2.\n",
    "    print(template.format(edges[i], bin_center, edges[i+1], hist[i]))"
   ]
  },
  {
   "cell_type": "code",
   "execution_count": 107,
   "metadata": {
    "collapsed": false
   },
   "outputs": [
    {
     "data": {
      "image/png": "[encoded data removed]",
      "text/plain": [
       "<matplotlib.figure.Figure at 0x10df383d0>"
      ]
     },
     "metadata": {},
     "output_type": "display_data"
    }
   ],
   "source": [
    "# plot the histogram\n",
    "import matplotlib.pyplot as plt\n",
    "plt.figure()\n",
    "plt.hist(data, bins=edges, edgecolor='black')  \n",
    "plt.title(\"Histogram of data\")\n",
    "plt.show()"
   ]
  },
  {
   "cell_type": "markdown",
   "metadata": {},
   "source": [
    "---\n",
    "## Q7\n",
    "\n",
    "NumPy has a standard deviation function, `np.std()`, but here we'll write our own that works on a 1-d array (vector).  The standard\n",
    "deviation is a measure of the \"width\" of the distribution of numbers\n",
    "in the vector.\n",
    "\n",
    "Given an array, $a$, and an average $\\bar{a}$, the standard deviation\n",
    "is:\n",
    "$$\n",
    "\\sigma = \\left [ \\frac{1}{N} \\sum_{i=1}^N (a_i - \\bar{a})^2 \\right ]^{1/2}\n",
    "$$\n",
    "\n",
    "Write a function to calculate the standard deviation for an input array, `a`:\n",
    "\n",
    "  * First compute the average of the elements in `a` to define $\\bar{a}$\n",
    "  * Next compute the sum over the squares of $a - \\bar{a}$\n",
    "  * Then divide the sum by the number of elements in the array\n",
    "  * Finally take the square root (you can use `np.sqrt()`)\n",
    "  \n",
    "Test your function on a random array, and compare to the built-in `np.std()`\n",
    "\n",
    "---\n",
    "#### My solution:"
   ]
  },
  {
   "cell_type": "code",
   "execution_count": 86,
   "metadata": {
    "collapsed": false
   },
   "outputs": [],
   "source": [
    "def standard_deviation(a):\n",
    "    \"\"\"Calculate the standard deviation of an array of values, `a`.\n",
    "    \n",
    "    Parameters\n",
    "    ----------\n",
    "    a : list or numpy.ndarray\n",
    "        A one-dimensional numpy array of values.\n",
    "        \n",
    "    Returns\n",
    "    -------\n",
    "    standard_dev : float\n",
    "        The standard deviation of the values in `a`.\n",
    "        \n",
    "    Raises\n",
    "    ------\n",
    "    TypeError\n",
    "        If `a` is of the wrong type.\n",
    "    ValueError\n",
    "        If `a` is empty.\n",
    "    \"\"\"\n",
    "    # check type and length of array\n",
    "    if type(a) is not np.ndarray:\n",
    "        if type(a) is list: # we can still work with that\n",
    "            a = np.array(a)\n",
    "        else:\n",
    "            raise(TypeError(\"The input a must be a list or numpy array.\"))\n",
    "    # check length of array\n",
    "    if len(a) == 0:\n",
    "        raise(ValueError(\"The array a is empty.\"))\n",
    "     \n",
    "    # number of values\n",
    "    n = len(a)\n",
    "    # take the mean\n",
    "    avg = np.mean(a)\n",
    "    # calculate the sum of squared deviation\n",
    "    sum_squared_deviations = np.sum((a - avg)**2)\n",
    "    # divide by n and take square root to get standard deviation\n",
    "    standard_dev = np.sqrt(sum_squared_deviations / float(n))\n",
    "    return standard_dev"
   ]
  },
  {
   "cell_type": "markdown",
   "metadata": {},
   "source": [
    "Test using the `data` array from the previous problem, where we saw (using `np.std()`):\n",
    "\n",
    "    mean of data =  1.19\n",
    "    standard deviation of data = 11.89"
   ]
  },
  {
   "cell_type": "code",
   "execution_count": 88,
   "metadata": {
    "collapsed": false
   },
   "outputs": [
    {
     "name": "stdout",
     "output_type": "stream",
     "text": [
      "11.8853919079\n"
     ]
    }
   ],
   "source": [
    "print(standard_deviation(data))"
   ]
  },
  {
   "cell_type": "markdown",
   "metadata": {},
   "source": [
    "Alternatively, do it without using any `numpy` functions (aside from `np.array()`)\n",
    "\n",
    "(I wasn't sure if this is what the problem is asking for, or if we just can't use `np.std()`, but can use other methods)"
   ]
  },
  {
   "cell_type": "code",
   "execution_count": 108,
   "metadata": {
    "collapsed": true
   },
   "outputs": [],
   "source": [
    "def standard_deviation(a):\n",
    "    \"\"\"Calculate the standard deviation of an array of values, `a`.\n",
    "    \n",
    "    Parameters\n",
    "    ----------\n",
    "    a : list or numpy.ndarray\n",
    "        A one-dimensional numpy array of values.\n",
    "        \n",
    "    Returns\n",
    "    -------\n",
    "    standard_dev : float\n",
    "        The standard deviation of the values in `a`.\n",
    "        \n",
    "    Raises\n",
    "    ------\n",
    "    TypeError\n",
    "        If `a` is of the wrong type.\n",
    "    ValueError\n",
    "        If `a` is empty.\n",
    "    \"\"\"\n",
    "    # check type and length of array\n",
    "    if type(a) is not np.ndarray:\n",
    "        if type(a) is list: # we can still work with that\n",
    "            a = np.array(a)\n",
    "        else:\n",
    "            raise(TypeError(\"The input a must be a list or numpy array.\"))\n",
    "    # check length of array\n",
    "    if len(a) == 0:\n",
    "        raise(ValueError(\"The array a is empty.\"))\n",
    "     \n",
    "    # number of values\n",
    "    n = len(a)\n",
    "    # take the mean\n",
    "    avg = sum(a) / float(n)\n",
    "    # calculate the sum of squared deviation\n",
    "    squared_deviations = (a - avg)**2\n",
    "    sum_squared_deviations = sum(squared_deviations)\n",
    "    # divide by n and take square root to get standard deviation\n",
    "    standard_dev = np.sqrt(sum_squared_deviations / float(n))\n",
    "    return standard_dev"
   ]
  },
  {
   "cell_type": "code",
   "execution_count": 109,
   "metadata": {
    "collapsed": false
   },
   "outputs": [
    {
     "name": "stdout",
     "output_type": "stream",
     "text": [
      "11.8945801547\n"
     ]
    }
   ],
   "source": [
    "print(standard_deviation(data))"
   ]
  },
  {
   "cell_type": "code",
   "execution_count": null,
   "metadata": {
    "collapsed": true
   },
   "outputs": [],
   "source": []
  }
 ],
 "metadata": {
  "kernelspec": {
   "display_name": "Python 2",
   "language": "python",
   "name": "python2"
  },
  "language_info": {
   "codemirror_mode": {
    "name": "ipython",
    "version": 2
   },
   "file_extension": ".py",
   "mimetype": "text/x-python",
   "name": "python",
   "nbconvert_exporter": "python",
   "pygments_lexer": "ipython2",
   "version": "2.7.6"
  }
 },
 "nbformat": 4,
 "nbformat_minor": 2
}
