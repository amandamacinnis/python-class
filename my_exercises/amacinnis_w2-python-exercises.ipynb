{
 "cells": [
  {
   "cell_type": "code",
   "execution_count": 1,
   "metadata": {
    "collapsed": true
   },
   "outputs": [],
   "source": [
    "from __future__ import print_function"
   ]
  },
  {
   "cell_type": "markdown",
   "metadata": {},
   "source": [
    "# Exercises"
   ]
  },
  {
   "cell_type": "markdown",
   "metadata": {},
   "source": [
    "## Q 1\n",
    "\n",
    "When talking about floating point, we discussed _machine epsilon_, $\\epsilon$&mdash;this is the smallest number that when added to 1 is still different from 1.\n",
    "\n",
    "We'll compute $\\epsilon$ here:\n",
    "\n",
    "  * Pick an initial guess for $\\epsilon$ of `eps = 1`.  \n",
    "\n",
    "  * Create a loop that checks whether `1 + eps` is different from `1`\n",
    "  \n",
    "  * Each loop iteration, cut the value of `eps` in half\n",
    "  \n",
    "What value of $\\epsilon$ do you find?"
   ]
  },
  {
   "cell_type": "code",
   "execution_count": 3,
   "metadata": {
    "collapsed": false
   },
   "outputs": [
    {
     "name": "stdout",
     "output_type": "stream",
     "text": [
      "eps = 1.11022302463e-16\n",
      "Found after 53 iterations\n"
     ]
    }
   ],
   "source": [
    "eps = 1. # initialize eps to 1\n",
    "i = 0 # count the number of iterations\n",
    "while 1. + eps > 1.: # eps + 1 will always be greater than 1, until we reach machine epsilon\n",
    "    eps = eps / 2.\n",
    "    i += 1\n",
    "print(\"eps = {}\".format(eps))\n",
    "print(\"Found after {} iterations\".format(i))"
   ]
  },
  {
   "cell_type": "markdown",
   "metadata": {},
   "source": [
    "## Q 2\n",
    "\n",
    "To iterate over the tuples, where the _i_-th tuple contains the _i_-th elements of certain sequences, we can use `zip(*sequences)` function.\n",
    "\n",
    "We will iterate over two lists, `names` and `age`, and print out the resulting tuples.\n",
    "\n",
    "  * Start by initializing lists `names = [\"Mary\", \"John\", \"Sarah\"]` and `age = [21, 56, 98]`.\n",
    "  \n",
    "  * Iterate over the tuples containing a name and an age, the `zip(list1, list2)` function might be useful here.\n",
    "  \n",
    "  * Print out formatted strings of the type \"*NAME is AGE years old*\"."
   ]
  },
  {
   "cell_type": "code",
   "execution_count": 5,
   "metadata": {
    "collapsed": false
   },
   "outputs": [
    {
     "name": "stdout",
     "output_type": "stream",
     "text": [
      "Mary is 21 years old.\n",
      "John is 56 years old.\n",
      "Sarah is 98 years old.\n"
     ]
    }
   ],
   "source": [
    "names = [\"Mary\", \"John\", \"Sarah\"]\n",
    "ages = [21, 56, 98]\n",
    "for name, age in zip(names, ages):\n",
    "    print(\"{} is {} years old.\".format(name, age))"
   ]
  },
  {
   "cell_type": "markdown",
   "metadata": {},
   "source": [
    "## Q 3\n",
    "\n",
    "The function `enumerate(sequence)` returns tuples containing indicies of objects in the sequence, and the objects. \n",
    "\n",
    "The `random` module provides tools for working with the random numbers. In particular, `random.randint(start, end)` generates a random number not smaller than `start`, and not bigger than `end`.\n",
    "\n",
    "  * Generate a list of 10 random numbers from 0 to 9.\n",
    "  \n",
    "  * Using the `enumerate(random_list)` function, iterate over the tuples of random numbers and their indicies, and print out *\"Match: NUMBER and INDEX\"* if the random number and its index in the list match."
   ]
  },
  {
   "cell_type": "code",
   "execution_count": 12,
   "metadata": {
    "collapsed": false
   },
   "outputs": [
    {
     "name": "stdout",
     "output_type": "stream",
     "text": [
      "[1, 1, 4, 1, 5, 5, 7, 0, 6, 1]\n",
      "MATCH: index = 1 and random numberr = 1.\n",
      "MATCH: index = 5 and random numberr = 5.\n",
      "Done.\n"
     ]
    }
   ],
   "source": [
    "import random\n",
    "\n",
    "random_list = [] # create random list\n",
    "for i in range(10):\n",
    "    random_list.append(random.randint(0, 9)) # append a random value to list\n",
    "\n",
    "print(random_list) # look at the random list to make sure the following is working\n",
    "    \n",
    "for i, n in enumerate(random_list):\n",
    "    if i == n:\n",
    "        print(\"MATCH: index = {} and random numberr = {}.\".format(i,n))\n",
    "print(\"Done.\")"
   ]
  },
  {
   "cell_type": "markdown",
   "metadata": {},
   "source": [
    "## Q 4\n",
    "\n",
    "The Fibbonacci sequence is a numerical sequence where each number is the sum of the 2 preceding numbers, e.g., 1, 1, 2, 3, 5, 8, 13, ...\n",
    "\n",
    "Create a list where the elements are the terms in the Fibbonacci sequence:\n",
    "\n",
    "  * Start with the list `fib = [1, 1]`\n",
    "  \n",
    "  * Loop 25 times, compute the next term as the sum of the previous 2 terms and append to the list\n",
    "  \n",
    "  * After the loop is complete, print out the terms \n",
    "  \n",
    "You may find it useful to use `fib[-1]` and `fib[-2]` to access the last two items in the list"
   ]
  },
  {
   "cell_type": "code",
   "execution_count": 15,
   "metadata": {
    "collapsed": false
   },
   "outputs": [
    {
     "name": "stdout",
     "output_type": "stream",
     "text": [
      "Number of terms = 27\n",
      "1\n",
      "1\n",
      "2\n",
      "3\n",
      "5\n",
      "8\n",
      "13\n",
      "21\n",
      "34\n",
      "55\n",
      "89\n",
      "144\n",
      "233\n",
      "377\n",
      "610\n",
      "987\n",
      "1597\n",
      "2584\n",
      "4181\n",
      "6765\n",
      "10946\n",
      "17711\n",
      "28657\n",
      "46368\n",
      "75025\n",
      "121393\n",
      "196418\n"
     ]
    }
   ],
   "source": [
    "fib = [1, 1] # initialize list\n",
    "n_iter = 25 # number of times to loop\n",
    "\n",
    "for i in range(n_iter): # we don't need i, but it's a way to count number of loops\n",
    "    # add the previous two terms, and append to the list\n",
    "    fib.append(fib[-1] + fib[-2])\n",
    "\n",
    "# check that we've done the loop 25 times; should have 27 term total\n",
    "print(\"Number of terms = {}\".format(len(fib)))\n",
    "\n",
    "# now, print out each term in the list\n",
    "for term in fib:\n",
    "    print(term)"
   ]
  },
  {
   "cell_type": "markdown",
   "metadata": {},
   "source": [
    "## Q 5\n",
    "\n",
    "We can use the `input()` function to ask for input from the prompt (note: in python 2 the function was called `raw_input()`).\n",
    "\n",
    "Create an empty list and use a while loop to ask the user for input and append their input to the list.  Keep looping until 10 items are added to the list"
   ]
  },
  {
   "cell_type": "code",
   "execution_count": 18,
   "metadata": {
    "collapsed": false,
    "scrolled": true
   },
   "outputs": [
    {
     "name": "stdout",
     "output_type": "stream",
     "text": [
      "Enter a number, a string, a list, etc., to be added to the list:\n",
      "\"hello\"\n",
      "You've entered: hello\n",
      "So far you've entered 1 out of 10 items.\n",
      "Enter a number, a string, a list, etc., to be added to the list:\n",
      "1\n",
      "You've entered: 1\n",
      "So far you've entered 2 out of 10 items.\n",
      "Enter a number, a string, a list, etc., to be added to the list:\n",
      "3.14\n",
      "You've entered: 3.14\n",
      "So far you've entered 3 out of 10 items.\n",
      "Enter a number, a string, a list, etc., to be added to the list:\n",
      "[0, 10, 20, 30, 40, 50]\n",
      "You've entered: [0, 10, 20, 30, 40, 50]\n",
      "So far you've entered 4 out of 10 items.\n",
      "Enter a number, a string, a list, etc., to be added to the list:\n",
      "\"Python is fun!\"\n",
      "You've entered: Python is fun!\n",
      "So far you've entered 5 out of 10 items.\n",
      "Enter a number, a string, a list, etc., to be added to the list:\n",
      "\"x\"\n",
      "You've entered: x\n",
      "So far you've entered 6 out of 10 items.\n",
      "Enter a number, a string, a list, etc., to be added to the list:\n",
      "-15.0\n",
      "You've entered: -15.0\n",
      "So far you've entered 7 out of 10 items.\n",
      "Enter a number, a string, a list, etc., to be added to the list:\n",
      "25\n",
      "You've entered: 25\n",
      "So far you've entered 8 out of 10 items.\n",
      "Enter a number, a string, a list, etc., to be added to the list:\n",
      "\"almost done\"\n",
      "You've entered: almost done\n",
      "So far you've entered 9 out of 10 items.\n",
      "Enter a number, a string, a list, etc., to be added to the list:\n",
      "\"should now be done\"\n",
      "You've entered: should now be done\n",
      "So far you've entered 10 out of 10 items.\n",
      "Done! Here is your list:\n",
      "hello\n",
      "1\n",
      "3.14\n",
      "[0, 10, 20, 30, 40, 50]\n",
      "Python is fun!\n",
      "x\n",
      "-15.0\n",
      "25\n",
      "almost done\n",
      "should now be done\n"
     ]
    }
   ],
   "source": [
    "n_iter = 10 # number of iterations of the loop\n",
    "user_input_list = [] # empty list to hold user input\n",
    "\n",
    "while len(user_input_list) < n_iter:\n",
    "    print(\"Enter a number, a string, a list, etc., to be added to the list:\")\n",
    "    user_input = input()\n",
    "    print(\"You've entered: {}\".format(user_input))\n",
    "    user_input_list.append(user_input)\n",
    "    print(\"So far you've entered {} out of {} items.\".format(len(user_input_list), n_iter))\n",
    "    \n",
    "print(\"Done! Here is your list:\")\n",
    "for user_item in user_input_list:\n",
    "    print(user_item)"
   ]
  },
  {
   "cell_type": "markdown",
   "metadata": {},
   "source": [
    "# Q 6\n",
    "\n",
    "Here is a list of book titles (from http://thegreatestbooks.org).  Loop through the list and capitalize each word in each title.  You might find the `.capitalize()` and `.title()` methods that works on strings useful."
   ]
  },
  {
   "cell_type": "code",
   "execution_count": 19,
   "metadata": {
    "collapsed": false
   },
   "outputs": [
    {
     "name": "stdout",
     "output_type": "stream",
     "text": [
      "Don Quixote\n"
     ]
    }
   ],
   "source": [
    "# I was lazy and took the list of titles from the version of this notebook that had everything filled in already.\n",
    "# I promise I didn't peek at the solutions!\n",
    "titles = [\"don quixote\", \n",
    "          \"in search of lost time\", \n",
    "          \"ulysses\", \n",
    "          \"the odyssey\", \n",
    "          \"war and piece\", \n",
    "          \"moby dick\", \n",
    "          \"the divine comedy\", \n",
    "          \"hamlet\", \n",
    "          \"the adventures of huckleberry finn\", \n",
    "          \"the great gatsby\"]\n",
    "\n",
    "# test the .title() method\n",
    "print(titles[0].title())"
   ]
  },
  {
   "cell_type": "markdown",
   "metadata": {
    "collapsed": false
   },
   "source": [
    "[Amanda] The `.title()` method does exactly what we want it to do!"
   ]
  },
  {
   "cell_type": "code",
   "execution_count": 23,
   "metadata": {
    "collapsed": false
   },
   "outputs": [
    {
     "name": "stdout",
     "output_type": "stream",
     "text": [
      "Original: don quixote\n",
      "Capitalized: Don Quixote\n",
      "\n",
      "Original: in search of lost time\n",
      "Capitalized: In Search Of Lost Time\n",
      "\n",
      "Original: ulysses\n",
      "Capitalized: Ulysses\n",
      "\n",
      "Original: the odyssey\n",
      "Capitalized: The Odyssey\n",
      "\n",
      "Original: war and piece\n",
      "Capitalized: War And Piece\n",
      "\n",
      "Original: moby dick\n",
      "Capitalized: Moby Dick\n",
      "\n",
      "Original: the divine comedy\n",
      "Capitalized: The Divine Comedy\n",
      "\n",
      "Original: hamlet\n",
      "Capitalized: Hamlet\n",
      "\n",
      "Original: the adventures of huckleberry finn\n",
      "Capitalized: The Adventures Of Huckleberry Finn\n",
      "\n",
      "Original: the great gatsby\n",
      "Capitalized: The Great Gatsby\n",
      "\n"
     ]
    }
   ],
   "source": [
    "capitalized_titles = [] # store capitalized titles in a new list\n",
    "for title in titles:\n",
    "    capitalized_titles.append(title.title())\n",
    "\n",
    "# we could have printed out the titles in the loop above, but instead let's make sure it's correct at the end, here:\n",
    "for title, cap_title in zip(titles, capitalized_titles):\n",
    "    print(\"Original: {}\".format(title))\n",
    "    print(\"Capitalized: {}\\n\".format(cap_title))"
   ]
  },
  {
   "cell_type": "markdown",
   "metadata": {},
   "source": [
    "## <span class=\"fa fa-star\"></span> Q 7\n",
    "\n",
    "Here's some text (the Gettysburg Address).  Our goal is to count how many times each word repeats.  We'll do a brute force method first, and then we'll look a ways to do it more efficiently (and compactly)."
   ]
  },
  {
   "cell_type": "code",
   "execution_count": 24,
   "metadata": {
    "collapsed": true
   },
   "outputs": [],
   "source": [
    "gettysburg_address = \"\"\"\n",
    "Four score and seven years ago our fathers brought forth on this continent, \n",
    "a new nation, conceived in Liberty, and dedicated to the proposition that \n",
    "all men are created equal.\n",
    "\n",
    "Now we are engaged in a great civil war, testing whether that nation, or \n",
    "any nation so conceived and so dedicated, can long endure. We are met on\n",
    "a great battle-field of that war. We have come to dedicate a portion of\n",
    "that field, as a final resting place for those who here gave their lives\n",
    "that that nation might live. It is altogether fitting and proper that we\n",
    "should do this.\n",
    "\n",
    "But, in a larger sense, we can not dedicate -- we can not consecrate -- we\n",
    "can not hallow -- this ground. The brave men, living and dead, who struggled\n",
    "here, have consecrated it, far above our poor power to add or detract.  The\n",
    "world will little note, nor long remember what we say here, but it can never\n",
    "forget what they did here. It is for us the living, rather, to be dedicated\n",
    "here to the unfinished work which they who fought here have thus far so nobly\n",
    "advanced. It is rather for us to be here dedicated to the great task remaining\n",
    "before us -- that from these honored dead we take increased devotion to that\n",
    "cause for which they gave the last full measure of devotion -- that we here\n",
    "highly resolve that these dead shall not have died in vain -- that this\n",
    "nation, under God, shall have a new birth of freedom -- and that government\n",
    "of the people, by the people, for the people, shall not perish from the earth.\n",
    "\"\"\""
   ]
  },
  {
   "cell_type": "markdown",
   "metadata": {},
   "source": [
    "The `.split()` method will, by default, split by spaces, so it will split this into words, producing a list:"
   ]
  },
  {
   "cell_type": "code",
   "execution_count": 25,
   "metadata": {
    "collapsed": false
   },
   "outputs": [
    {
     "name": "stdout",
     "output_type": "stream",
     "text": [
      "['Four', 'score', 'and', 'seven', 'years', 'ago', 'our', 'fathers', 'brought', 'forth', 'on', 'this', 'continent,', 'a', 'new', 'nation,', 'conceived', 'in', 'Liberty,', 'and', 'dedicated', 'to', 'the', 'proposition', 'that', 'all', 'men', 'are', 'created', 'equal.', 'Now', 'we', 'are', 'engaged', 'in', 'a', 'great', 'civil', 'war,', 'testing', 'whether', 'that', 'nation,', 'or', 'any', 'nation', 'so', 'conceived', 'and', 'so', 'dedicated,', 'can', 'long', 'endure.', 'We', 'are', 'met', 'on', 'a', 'great', 'battle-field', 'of', 'that', 'war.', 'We', 'have', 'come', 'to', 'dedicate', 'a', 'portion', 'of', 'that', 'field,', 'as', 'a', 'final', 'resting', 'place', 'for', 'those', 'who', 'here', 'gave', 'their', 'lives', 'that', 'that', 'nation', 'might', 'live.', 'It', 'is', 'altogether', 'fitting', 'and', 'proper', 'that', 'we', 'should', 'do', 'this.', 'But,', 'in', 'a', 'larger', 'sense,', 'we', 'can', 'not', 'dedicate', '--', 'we', 'can', 'not', 'consecrate', '--', 'we', 'can', 'not', 'hallow', '--', 'this', 'ground.', 'The', 'brave', 'men,', 'living', 'and', 'dead,', 'who', 'struggled', 'here,', 'have', 'consecrated', 'it,', 'far', 'above', 'our', 'poor', 'power', 'to', 'add', 'or', 'detract.', 'The', 'world', 'will', 'little', 'note,', 'nor', 'long', 'remember', 'what', 'we', 'say', 'here,', 'but', 'it', 'can', 'never', 'forget', 'what', 'they', 'did', 'here.', 'It', 'is', 'for', 'us', 'the', 'living,', 'rather,', 'to', 'be', 'dedicated', 'here', 'to', 'the', 'unfinished', 'work', 'which', 'they', 'who', 'fought', 'here', 'have', 'thus', 'far', 'so', 'nobly', 'advanced.', 'It', 'is', 'rather', 'for', 'us', 'to', 'be', 'here', 'dedicated', 'to', 'the', 'great', 'task', 'remaining', 'before', 'us', '--', 'that', 'from', 'these', 'honored', 'dead', 'we', 'take', 'increased', 'devotion', 'to', 'that', 'cause', 'for', 'which', 'they', 'gave', 'the', 'last', 'full', 'measure', 'of', 'devotion', '--', 'that', 'we', 'here', 'highly', 'resolve', 'that', 'these', 'dead', 'shall', 'not', 'have', 'died', 'in', 'vain', '--', 'that', 'this', 'nation,', 'under', 'God,', 'shall', 'have', 'a', 'new', 'birth', 'of', 'freedom', '--', 'and', 'that', 'government', 'of', 'the', 'people,', 'by', 'the', 'people,', 'for', 'the', 'people,', 'shall', 'not', 'perish', 'from', 'the', 'earth.']\n"
     ]
    }
   ],
   "source": [
    "# get a list of words\n",
    "words = gettysburg_address.split()\n",
    "print(words)"
   ]
  },
  {
   "cell_type": "markdown",
   "metadata": {},
   "source": [
    "Now, the next problem is that some of these still have punctuation.  In particular, we see \"`.`\", \"`,`\", and \"`--`\".\n",
    "\n",
    "When considering a word, we can get rid of these by using the `replace()` method:"
   ]
  },
  {
   "cell_type": "markdown",
   "metadata": {},
   "source": [
    "Another problem is case&mdash;we want to count \"but\" and \"But\" as the same.  Strings have a `lower()` method that can be used to covert a string:"
   ]
  },
  {
   "cell_type": "code",
   "execution_count": 35,
   "metadata": {
    "collapsed": false
   },
   "outputs": [],
   "source": [
    "# since I'm going to loop through the whole list, I'm going to combine the above two steps\n",
    "\n",
    "clean_list_of_words = [] # create a new list\n",
    "\n",
    "punctuation_strings = [\".\", \",\"]  # will handle '--' separately\n",
    "for word in words:\n",
    "    #print(\"initial: {}\".format(word)) # just for testing\n",
    "\n",
    "    # change each word to its lowercase version\n",
    "    word = word.lower()\n",
    "    \n",
    "    # check if the last character is in the list of punctuation\n",
    "    if word[-1] in punctuation_strings:\n",
    "        word = word.replace(word[-1], \"\") # replace the last character\n",
    "    \n",
    "    #print(\"final: {}\\n\".format(word)) # just for testing\n",
    "    \n",
    "    # now check if the word is just \"--\". if not, add it to new list\n",
    "    if word == \"--\":\n",
    "        pass\n",
    "    else:\n",
    "        clean_list_of_words.append(word)"
   ]
  },
  {
   "cell_type": "markdown",
   "metadata": {
    "collapsed": false
   },
   "source": [
    "[Amanda] Now we have a cleaned up list of words."
   ]
  },
  {
   "cell_type": "markdown",
   "metadata": {},
   "source": [
    "Recall that strings are immutable, so `replace()` produces a new string on output."
   ]
  },
  {
   "cell_type": "markdown",
   "metadata": {},
   "source": [
    "## your task\n",
    "\n",
    "Create a dictionary that uses the unique words as keys and has as a value the number of times that word appears.  \n",
    "\n",
    "Write a loop over the words in the string (using our split version) and do the following:\n",
    "  * remove any punctuation\n",
    "  * convert to lowercase\n",
    "  * test if the word is already a key in the dictionary (using the `in` operator)\n",
    "     - if the key exists, increment the word count for that key\n",
    "     - otherwise, add it to the dictionary with the appropiate count of `1`.\n",
    "\n",
    "At the end, print out the words and a count of how many times they appear"
   ]
  },
  {
   "cell_type": "code",
   "execution_count": 37,
   "metadata": {
    "collapsed": false
   },
   "outputs": [
    {
     "data": {
      "text/plain": [
       "True"
      ]
     },
     "execution_count": 37,
     "metadata": {},
     "output_type": "execute_result"
    }
   ],
   "source": [
    "tmp = {\"a\": \"A\", 0: 1}\n",
    "tmp.has_key(0)"
   ]
  },
  {
   "cell_type": "code",
   "execution_count": 41,
   "metadata": {
    "collapsed": false
   },
   "outputs": [
    {
     "name": "stdout",
     "output_type": "stream",
     "text": [
      "all          appears 1 time(s)\n",
      "forget       appears 1 time(s)\n",
      "years        appears 1 time(s)\n",
      "four         appears 1 time(s)\n",
      "proposition  appears 1 time(s)\n",
      "earth        appears 1 time(s)\n",
      "hallow       appears 1 time(s)\n",
      "ground       appears 1 time(s)\n",
      "unfinished   appears 1 time(s)\n",
      "should       appears 1 time(s)\n",
      "to           appears 8 time(s)\n",
      "add          appears 1 time(s)\n",
      "advanced     appears 1 time(s)\n",
      "under        appears 1 time(s)\n",
      "might        appears 1 time(s)\n",
      "remaining    appears 1 time(s)\n",
      "gave         appears 2 time(s)\n",
      "do           appears 1 time(s)\n",
      "increased    appears 1 time(s)\n",
      "government   appears 1 time(s)\n",
      "far          appears 2 time(s)\n",
      "birth        appears 1 time(s)\n",
      "nation       appears 5 time(s)\n",
      "detract      appears 1 time(s)\n",
      "altogether   appears 1 time(s)\n",
      "not          appears 5 time(s)\n",
      "world        appears 1 time(s)\n",
      "now          appears 1 time(s)\n",
      "nor          appears 1 time(s)\n",
      "resolve      appears 1 time(s)\n",
      "did          appears 1 time(s)\n",
      "cause        appears 1 time(s)\n",
      "whether      appears 1 time(s)\n",
      "battle-field appears 1 time(s)\n",
      "brave        appears 1 time(s)\n",
      "honored      appears 1 time(s)\n",
      "people       appears 3 time(s)\n",
      "fathers      appears 1 time(s)\n",
      "testing      appears 1 time(s)\n",
      "dead         appears 3 time(s)\n",
      "full         appears 1 time(s)\n",
      "are          appears 3 time(s)\n",
      "measure      appears 1 time(s)\n",
      "proper       appears 1 time(s)\n",
      "our          appears 2 time(s)\n",
      "living       appears 2 time(s)\n",
      "what         appears 2 time(s)\n",
      "for          appears 5 time(s)\n",
      "god          appears 1 time(s)\n",
      "liberty      appears 1 time(s)\n",
      "continent    appears 1 time(s)\n",
      "score        appears 1 time(s)\n",
      "above        appears 1 time(s)\n",
      "new          appears 2 time(s)\n",
      "before       appears 1 time(s)\n",
      "forth        appears 1 time(s)\n",
      "can          appears 5 time(s)\n",
      "be           appears 2 time(s)\n",
      "we           appears 10 time(s)\n",
      "conceived    appears 2 time(s)\n",
      "perish       appears 1 time(s)\n",
      "power        appears 1 time(s)\n",
      "men          appears 2 time(s)\n",
      "here         appears 8 time(s)\n",
      "met          appears 1 time(s)\n",
      "come         appears 1 time(s)\n",
      "by           appears 1 time(s)\n",
      "on           appears 2 time(s)\n",
      "great        appears 3 time(s)\n",
      "last         appears 1 time(s)\n",
      "created      appears 1 time(s)\n",
      "of           appears 5 time(s)\n",
      "larger       appears 1 time(s)\n",
      "equal        appears 1 time(s)\n",
      "place        appears 1 time(s)\n",
      "or           appears 2 time(s)\n",
      "ago          appears 1 time(s)\n",
      "civil        appears 1 time(s)\n",
      "vain         appears 1 time(s)\n",
      "dedicated    appears 4 time(s)\n",
      "highly       appears 1 time(s)\n",
      "brought      appears 1 time(s)\n",
      "consecrate   appears 1 time(s)\n",
      "little       appears 1 time(s)\n",
      "from         appears 2 time(s)\n",
      "they         appears 3 time(s)\n",
      "long         appears 2 time(s)\n",
      "their        appears 1 time(s)\n",
      "live         appears 1 time(s)\n",
      "fought       appears 1 time(s)\n",
      "war          appears 2 time(s)\n",
      "resting      appears 1 time(s)\n",
      "that         appears 13 time(s)\n",
      "thus         appears 1 time(s)\n",
      "but          appears 2 time(s)\n",
      "lives        appears 1 time(s)\n",
      "those        appears 1 time(s)\n",
      "this         appears 4 time(s)\n",
      "work         appears 1 time(s)\n",
      "say          appears 1 time(s)\n",
      "us           appears 3 time(s)\n",
      "final        appears 1 time(s)\n",
      "will         appears 1 time(s)\n",
      "endure       appears 1 time(s)\n",
      "freedom      appears 1 time(s)\n",
      "devotion     appears 2 time(s)\n",
      "and          appears 6 time(s)\n",
      "seven        appears 1 time(s)\n",
      "is           appears 3 time(s)\n",
      "sense        appears 1 time(s)\n",
      "engaged      appears 1 time(s)\n",
      "it           appears 5 time(s)\n",
      "dedicate     appears 2 time(s)\n",
      "as           appears 1 time(s)\n",
      "have         appears 5 time(s)\n",
      "in           appears 4 time(s)\n",
      "any          appears 1 time(s)\n",
      "these        appears 2 time(s)\n",
      "rather       appears 2 time(s)\n",
      "note         appears 1 time(s)\n",
      "field        appears 1 time(s)\n",
      "fitting      appears 1 time(s)\n",
      "take         appears 1 time(s)\n",
      "which        appears 2 time(s)\n",
      "struggled    appears 1 time(s)\n",
      "poor         appears 1 time(s)\n",
      "shall        appears 3 time(s)\n",
      "who          appears 3 time(s)\n",
      "never        appears 1 time(s)\n",
      "nobly        appears 1 time(s)\n",
      "died         appears 1 time(s)\n",
      "a            appears 7 time(s)\n",
      "task         appears 1 time(s)\n",
      "consecrated  appears 1 time(s)\n",
      "remember     appears 1 time(s)\n",
      "portion      appears 1 time(s)\n",
      "so           appears 3 time(s)\n",
      "the          appears 11 time(s)\n"
     ]
    }
   ],
   "source": [
    "word_count = {}\n",
    "\n",
    "# loop through each word\n",
    "for word in clean_list_of_words:\n",
    "    # check if the word is already in the dict. \n",
    "    # if not, add it, and initialize count to 1\n",
    "    # if already there, add 1 to count\n",
    "    if word_count.has_key(word):\n",
    "        word_count[word] += 1\n",
    "    else:\n",
    "        word_count[word] = 1\n",
    "        \n",
    "# now, print out each word and the number of times it appears\n",
    "for word in word_count.keys():\n",
    "    print(\"{:12s} appears {:d} time(s)\".format(word, word_count[word]))"
   ]
  },
  {
   "cell_type": "markdown",
   "metadata": {},
   "source": [
    "## More compact way\n",
    "\n",
    "We can actually do this a lot more compactly by using another list comprehensions and another python datatype called a set.  A set is a group of items, where each item is unique (e.g., no repetitions).\n",
    "\n",
    "[Amanda - I just ran this part below, but didn't re-write it]"
   ]
  },
  {
   "cell_type": "markdown",
   "metadata": {},
   "source": [
    "Here's a list comprehension that removes all the punctuation and converts to lower case:"
   ]
  },
  {
   "cell_type": "code",
   "execution_count": 46,
   "metadata": {
    "collapsed": false
   },
   "outputs": [],
   "source": [
    "ga = gettysburg_address.split()\n",
    "words = [q.lower().replace(\".\", \"\").replace(\",\", \"\") for q in ga]"
   ]
  },
  {
   "cell_type": "markdown",
   "metadata": {},
   "source": [
    "and by using the `set()` function, we turn the list into a set, removing any duplicates:"
   ]
  },
  {
   "cell_type": "code",
   "execution_count": 47,
   "metadata": {
    "collapsed": true
   },
   "outputs": [],
   "source": [
    "unique_words = set(words)"
   ]
  },
  {
   "cell_type": "markdown",
   "metadata": {},
   "source": [
    "now we can loop over the unique words and use the `count` method of a list to find how many there are"
   ]
  },
  {
   "cell_type": "code",
   "execution_count": 48,
   "metadata": {
    "collapsed": false
   },
   "outputs": [
    {
     "data": {
      "text/plain": [
       "{'--': 7,\n",
       " 'a': 7,\n",
       " 'above': 1,\n",
       " 'add': 1,\n",
       " 'advanced': 1,\n",
       " 'ago': 1,\n",
       " 'all': 1,\n",
       " 'altogether': 1,\n",
       " 'and': 6,\n",
       " 'any': 1,\n",
       " 'are': 3,\n",
       " 'as': 1,\n",
       " 'battle-field': 1,\n",
       " 'be': 2,\n",
       " 'before': 1,\n",
       " 'birth': 1,\n",
       " 'brave': 1,\n",
       " 'brought': 1,\n",
       " 'but': 2,\n",
       " 'by': 1,\n",
       " 'can': 5,\n",
       " 'cause': 1,\n",
       " 'civil': 1,\n",
       " 'come': 1,\n",
       " 'conceived': 2,\n",
       " 'consecrate': 1,\n",
       " 'consecrated': 1,\n",
       " 'continent': 1,\n",
       " 'created': 1,\n",
       " 'dead': 3,\n",
       " 'dedicate': 2,\n",
       " 'dedicated': 4,\n",
       " 'detract': 1,\n",
       " 'devotion': 2,\n",
       " 'did': 1,\n",
       " 'died': 1,\n",
       " 'do': 1,\n",
       " 'earth': 1,\n",
       " 'endure': 1,\n",
       " 'engaged': 1,\n",
       " 'equal': 1,\n",
       " 'far': 2,\n",
       " 'fathers': 1,\n",
       " 'field': 1,\n",
       " 'final': 1,\n",
       " 'fitting': 1,\n",
       " 'for': 5,\n",
       " 'forget': 1,\n",
       " 'forth': 1,\n",
       " 'fought': 1,\n",
       " 'four': 1,\n",
       " 'freedom': 1,\n",
       " 'from': 2,\n",
       " 'full': 1,\n",
       " 'gave': 2,\n",
       " 'god': 1,\n",
       " 'government': 1,\n",
       " 'great': 3,\n",
       " 'ground': 1,\n",
       " 'hallow': 1,\n",
       " 'have': 5,\n",
       " 'here': 8,\n",
       " 'highly': 1,\n",
       " 'honored': 1,\n",
       " 'in': 4,\n",
       " 'increased': 1,\n",
       " 'is': 3,\n",
       " 'it': 5,\n",
       " 'larger': 1,\n",
       " 'last': 1,\n",
       " 'liberty': 1,\n",
       " 'little': 1,\n",
       " 'live': 1,\n",
       " 'lives': 1,\n",
       " 'living': 2,\n",
       " 'long': 2,\n",
       " 'measure': 1,\n",
       " 'men': 2,\n",
       " 'met': 1,\n",
       " 'might': 1,\n",
       " 'nation': 5,\n",
       " 'never': 1,\n",
       " 'new': 2,\n",
       " 'nobly': 1,\n",
       " 'nor': 1,\n",
       " 'not': 5,\n",
       " 'note': 1,\n",
       " 'now': 1,\n",
       " 'of': 5,\n",
       " 'on': 2,\n",
       " 'or': 2,\n",
       " 'our': 2,\n",
       " 'people': 3,\n",
       " 'perish': 1,\n",
       " 'place': 1,\n",
       " 'poor': 1,\n",
       " 'portion': 1,\n",
       " 'power': 1,\n",
       " 'proper': 1,\n",
       " 'proposition': 1,\n",
       " 'rather': 2,\n",
       " 'remaining': 1,\n",
       " 'remember': 1,\n",
       " 'resolve': 1,\n",
       " 'resting': 1,\n",
       " 'say': 1,\n",
       " 'score': 1,\n",
       " 'sense': 1,\n",
       " 'seven': 1,\n",
       " 'shall': 3,\n",
       " 'should': 1,\n",
       " 'so': 3,\n",
       " 'struggled': 1,\n",
       " 'take': 1,\n",
       " 'task': 1,\n",
       " 'testing': 1,\n",
       " 'that': 13,\n",
       " 'the': 11,\n",
       " 'their': 1,\n",
       " 'these': 2,\n",
       " 'they': 3,\n",
       " 'this': 4,\n",
       " 'those': 1,\n",
       " 'thus': 1,\n",
       " 'to': 8,\n",
       " 'under': 1,\n",
       " 'unfinished': 1,\n",
       " 'us': 3,\n",
       " 'vain': 1,\n",
       " 'war': 2,\n",
       " 'we': 10,\n",
       " 'what': 2,\n",
       " 'whether': 1,\n",
       " 'which': 2,\n",
       " 'who': 3,\n",
       " 'will': 1,\n",
       " 'work': 1,\n",
       " 'world': 1,\n",
       " 'years': 1}"
      ]
     },
     "execution_count": 48,
     "metadata": {},
     "output_type": "execute_result"
    }
   ],
   "source": [
    "count = {}\n",
    "for uw in unique_words:\n",
    "    count[uw] = words.count(uw)\n",
    "    \n",
    "count"
   ]
  },
  {
   "cell_type": "markdown",
   "metadata": {},
   "source": [
    "Even shorter -- we can use a dictionary comprehension, like a list comprehension"
   ]
  },
  {
   "cell_type": "code",
   "execution_count": 49,
   "metadata": {
    "collapsed": true
   },
   "outputs": [],
   "source": [
    "c = {uw: count[uw] for uw in unique_words}"
   ]
  },
  {
   "cell_type": "code",
   "execution_count": 50,
   "metadata": {
    "collapsed": false,
    "scrolled": false
   },
   "outputs": [
    {
     "data": {
      "text/plain": [
       "{'--': 7,\n",
       " 'a': 7,\n",
       " 'above': 1,\n",
       " 'add': 1,\n",
       " 'advanced': 1,\n",
       " 'ago': 1,\n",
       " 'all': 1,\n",
       " 'altogether': 1,\n",
       " 'and': 6,\n",
       " 'any': 1,\n",
       " 'are': 3,\n",
       " 'as': 1,\n",
       " 'battle-field': 1,\n",
       " 'be': 2,\n",
       " 'before': 1,\n",
       " 'birth': 1,\n",
       " 'brave': 1,\n",
       " 'brought': 1,\n",
       " 'but': 2,\n",
       " 'by': 1,\n",
       " 'can': 5,\n",
       " 'cause': 1,\n",
       " 'civil': 1,\n",
       " 'come': 1,\n",
       " 'conceived': 2,\n",
       " 'consecrate': 1,\n",
       " 'consecrated': 1,\n",
       " 'continent': 1,\n",
       " 'created': 1,\n",
       " 'dead': 3,\n",
       " 'dedicate': 2,\n",
       " 'dedicated': 4,\n",
       " 'detract': 1,\n",
       " 'devotion': 2,\n",
       " 'did': 1,\n",
       " 'died': 1,\n",
       " 'do': 1,\n",
       " 'earth': 1,\n",
       " 'endure': 1,\n",
       " 'engaged': 1,\n",
       " 'equal': 1,\n",
       " 'far': 2,\n",
       " 'fathers': 1,\n",
       " 'field': 1,\n",
       " 'final': 1,\n",
       " 'fitting': 1,\n",
       " 'for': 5,\n",
       " 'forget': 1,\n",
       " 'forth': 1,\n",
       " 'fought': 1,\n",
       " 'four': 1,\n",
       " 'freedom': 1,\n",
       " 'from': 2,\n",
       " 'full': 1,\n",
       " 'gave': 2,\n",
       " 'god': 1,\n",
       " 'government': 1,\n",
       " 'great': 3,\n",
       " 'ground': 1,\n",
       " 'hallow': 1,\n",
       " 'have': 5,\n",
       " 'here': 8,\n",
       " 'highly': 1,\n",
       " 'honored': 1,\n",
       " 'in': 4,\n",
       " 'increased': 1,\n",
       " 'is': 3,\n",
       " 'it': 5,\n",
       " 'larger': 1,\n",
       " 'last': 1,\n",
       " 'liberty': 1,\n",
       " 'little': 1,\n",
       " 'live': 1,\n",
       " 'lives': 1,\n",
       " 'living': 2,\n",
       " 'long': 2,\n",
       " 'measure': 1,\n",
       " 'men': 2,\n",
       " 'met': 1,\n",
       " 'might': 1,\n",
       " 'nation': 5,\n",
       " 'never': 1,\n",
       " 'new': 2,\n",
       " 'nobly': 1,\n",
       " 'nor': 1,\n",
       " 'not': 5,\n",
       " 'note': 1,\n",
       " 'now': 1,\n",
       " 'of': 5,\n",
       " 'on': 2,\n",
       " 'or': 2,\n",
       " 'our': 2,\n",
       " 'people': 3,\n",
       " 'perish': 1,\n",
       " 'place': 1,\n",
       " 'poor': 1,\n",
       " 'portion': 1,\n",
       " 'power': 1,\n",
       " 'proper': 1,\n",
       " 'proposition': 1,\n",
       " 'rather': 2,\n",
       " 'remaining': 1,\n",
       " 'remember': 1,\n",
       " 'resolve': 1,\n",
       " 'resting': 1,\n",
       " 'say': 1,\n",
       " 'score': 1,\n",
       " 'sense': 1,\n",
       " 'seven': 1,\n",
       " 'shall': 3,\n",
       " 'should': 1,\n",
       " 'so': 3,\n",
       " 'struggled': 1,\n",
       " 'take': 1,\n",
       " 'task': 1,\n",
       " 'testing': 1,\n",
       " 'that': 13,\n",
       " 'the': 11,\n",
       " 'their': 1,\n",
       " 'these': 2,\n",
       " 'they': 3,\n",
       " 'this': 4,\n",
       " 'those': 1,\n",
       " 'thus': 1,\n",
       " 'to': 8,\n",
       " 'under': 1,\n",
       " 'unfinished': 1,\n",
       " 'us': 3,\n",
       " 'vain': 1,\n",
       " 'war': 2,\n",
       " 'we': 10,\n",
       " 'what': 2,\n",
       " 'whether': 1,\n",
       " 'which': 2,\n",
       " 'who': 3,\n",
       " 'will': 1,\n",
       " 'work': 1,\n",
       " 'world': 1,\n",
       " 'years': 1}"
      ]
     },
     "execution_count": 50,
     "metadata": {},
     "output_type": "execute_result"
    }
   ],
   "source": [
    "c"
   ]
  },
  {
   "cell_type": "code",
   "execution_count": null,
   "metadata": {
    "collapsed": true
   },
   "outputs": [],
   "source": []
  }
 ],
 "metadata": {
  "kernelspec": {
   "display_name": "Python 2",
   "language": "python",
   "name": "python2"
  },
  "language_info": {
   "codemirror_mode": {
    "name": "ipython",
    "version": 2
   },
   "file_extension": ".py",
   "mimetype": "text/x-python",
   "name": "python",
   "nbconvert_exporter": "python",
   "pygments_lexer": "ipython2",
   "version": "2.7.6"
  }
 },
 "nbformat": 4,
 "nbformat_minor": 1
}
