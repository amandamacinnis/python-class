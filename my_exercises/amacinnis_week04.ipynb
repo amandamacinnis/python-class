{
 "cells": [
  {
   "cell_type": "code",
   "execution_count": 24,
   "metadata": {
    "collapsed": true
   },
   "outputs": [],
   "source": [
    "from __future__ import print_function"
   ]
  },
  {
   "cell_type": "markdown",
   "metadata": {},
   "source": [
    "## Naming conventions"
   ]
  },
  {
   "cell_type": "markdown",
   "metadata": {},
   "source": [
    "The python community has some naming convections, defined in PEP-8:\n",
    "\n",
    "https://www.python.org/dev/peps/pep-0008/\n",
    "\n",
    "The widely adopted ones are:\n",
    "\n",
    "* class names start with an uppercase, and use \"camelcase\" for multiword names, e.g. `ShoppingCart`\n",
    "\n",
    "* varible names (including objects which are instances of a class) are lowercase and use underscores to separate words, e.g., `shopping_cart`\n",
    "\n",
    "* module names should be lowercase with underscores\n",
    "\n"
   ]
  },
  {
   "cell_type": "markdown",
   "metadata": {},
   "source": [
    "# Practicing Classes"
   ]
  },
  {
   "cell_type": "markdown",
   "metadata": {},
   "source": [
    "## Exercise 1 (shopping cart)"
   ]
  },
  {
   "cell_type": "markdown",
   "metadata": {},
   "source": [
    "Let's write a simple shopping cart class -- this will hold items that you intend to purchase as well as the amount, etc.  And allow you to add / remove items, get a subtotal, etc.\n",
    "\n",
    "We'll use two classes: `Item` will be a single item and `ShoppingCart` will be the collection of items you wish to purchase.\n",
    "\n",
    "First, our store needs an inventory -- here's what we have for sale:"
   ]
  },
  {
   "cell_type": "code",
   "execution_count": 112,
   "metadata": {
    "collapsed": true
   },
   "outputs": [],
   "source": [
    "INVENTORY_TEXT = \"\"\"\n",
    "apple, 0.60\n",
    "banana, 0.20\n",
    "grapefruit, 0.75\n",
    "grapes, 1.99\n",
    "kiwi, 0.50\n",
    "lemon, 0.20\n",
    "lime, 0.25\n",
    "mango, 1.50\n",
    "papaya, 2.95\n",
    "pineapple, 3.50\n",
    "blueberries, 1.99\n",
    "blackberries, 2.50\n",
    "peach, 0.50\n",
    "plum, 0.33\n",
    "clementine, 0.25\n",
    "cantaloupe, 3.25\n",
    "pear, 1.25\n",
    "quince, 0.45\n",
    "orange, 0.60\n",
    "\"\"\"\n",
    "\n",
    "# this will be a global -- convention is all caps\n",
    "INVENTORY = {}\n",
    "for line in INVENTORY_TEXT.splitlines():\n",
    "    if line.strip() == \"\":\n",
    "        continue\n",
    "    item, price = line.split(\",\")\n",
    "    INVENTORY[item] = float(price)\n"
   ]
  },
  {
   "cell_type": "code",
   "execution_count": 113,
   "metadata": {
    "collapsed": false
   },
   "outputs": [
    {
     "data": {
      "text/plain": [
       "{'apple': 0.6,\n",
       " 'banana': 0.2,\n",
       " 'blackberries': 2.5,\n",
       " 'blueberries': 1.99,\n",
       " 'cantaloupe': 3.25,\n",
       " 'clementine': 0.25,\n",
       " 'grapefruit': 0.75,\n",
       " 'grapes': 1.99,\n",
       " 'kiwi': 0.5,\n",
       " 'lemon': 0.2,\n",
       " 'lime': 0.25,\n",
       " 'mango': 1.5,\n",
       " 'orange': 0.6,\n",
       " 'papaya': 2.95,\n",
       " 'peach': 0.5,\n",
       " 'pear': 1.25,\n",
       " 'pineapple': 3.5,\n",
       " 'plum': 0.33,\n",
       " 'quince': 0.45}"
      ]
     },
     "execution_count": 113,
     "metadata": {},
     "output_type": "execute_result"
    }
   ],
   "source": [
    "INVENTORY"
   ]
  },
  {
   "cell_type": "markdown",
   "metadata": {},
   "source": [
    "### `Item` "
   ]
  },
  {
   "cell_type": "markdown",
   "metadata": {},
   "source": [
    "Here's the start of an item class -- we want it to hold the name and quantity.  \n",
    "\n",
    "You should have the following features:\n",
    "\n",
    "* the name should be something in our inventory\n",
    "\n",
    "* Our shopping cart will include a list of all the items we want to buy, so we want to be able to check for duplicates.  Implement the equal test, `==`, using `__eq__`\n",
    "\n",
    "* we'll want to consolidate dupes, so implement the `+` operator, using `__add__` so we can add items together in our shopping cart.  Note, add should raise a ValueError if you try to add two `Items` that don't have the same name.\n",
    "\n",
    "Here's a start:"
   ]
  },
  {
   "cell_type": "code",
   "execution_count": 114,
   "metadata": {
    "collapsed": true
   },
   "outputs": [],
   "source": [
    "class Item(object):\n",
    "    \"\"\" an item to buy \"\"\"\n",
    "    \n",
    "    def __init__(self, name, quantity=1):\n",
    "        \"\"\"keep track of an item that is in our inventory\"\"\"\n",
    "        if name not in INVENTORY:\n",
    "            raise ValueError(\"invalid item name\")\n",
    "        self.name = name\n",
    "        self.quantity = quantity\n",
    "        \n",
    "    def __repr__(self):\n",
    "        return \"{}: {}\".format(self.name, self.quantity)\n",
    "        \n",
    "    def __eq__(self, other):\n",
    "        \"\"\"check if the items have the same name\"\"\"\n",
    "        return self.name == other.name\n",
    "    \n",
    "    def __add__(self, other):\n",
    "        \"\"\"add two items together if they are the same type\"\"\"\n",
    "        if self.name == other.name:\n",
    "            return Item(self.name, self.quantity + other.quantity)\n",
    "        else:\n",
    "            raise ValueError(\"names don't match\")"
   ]
  },
  {
   "cell_type": "markdown",
   "metadata": {},
   "source": [
    "Here are some tests your code should pass:"
   ]
  },
  {
   "cell_type": "code",
   "execution_count": 115,
   "metadata": {
    "collapsed": true
   },
   "outputs": [],
   "source": [
    "a = Item(\"apple\", 10)\n",
    "b = Item(\"banana\", 20)"
   ]
  },
  {
   "cell_type": "code",
   "execution_count": 116,
   "metadata": {
    "collapsed": false
   },
   "outputs": [
    {
     "data": {
      "text/plain": [
       "'apple'"
      ]
     },
     "execution_count": 116,
     "metadata": {},
     "output_type": "execute_result"
    }
   ],
   "source": [
    "a.name"
   ]
  },
  {
   "cell_type": "code",
   "execution_count": 117,
   "metadata": {
    "collapsed": false
   },
   "outputs": [
    {
     "data": {
      "text/plain": [
       "10"
      ]
     },
     "execution_count": 117,
     "metadata": {},
     "output_type": "execute_result"
    }
   ],
   "source": [
    "a.quantity"
   ]
  },
  {
   "cell_type": "code",
   "execution_count": 118,
   "metadata": {
    "collapsed": true
   },
   "outputs": [],
   "source": [
    "c = Item(\"apple\", 20)"
   ]
  },
  {
   "cell_type": "code",
   "execution_count": 119,
   "metadata": {
    "collapsed": false,
    "scrolled": true
   },
   "outputs": [
    {
     "ename": "ValueError",
     "evalue": "names don't match",
     "output_type": "error",
     "traceback": [
      "\u001b[0;31m---------------------------------------------------------------------------\u001b[0m",
      "\u001b[0;31mValueError\u001b[0m                                Traceback (most recent call last)",
      "\u001b[0;32m<ipython-input-119-6433d6962fe5>\u001b[0m in \u001b[0;36m<module>\u001b[0;34m()\u001b[0m\n\u001b[1;32m      1\u001b[0m \u001b[0;31m# won't work\u001b[0m\u001b[0;34m\u001b[0m\u001b[0;34m\u001b[0m\u001b[0m\n\u001b[0;32m----> 2\u001b[0;31m \u001b[0ma\u001b[0m \u001b[0;34m+\u001b[0m \u001b[0mb\u001b[0m\u001b[0;34m\u001b[0m\u001b[0m\n\u001b[0m",
      "\u001b[0;32m<ipython-input-114-584d61d2cdf4>\u001b[0m in \u001b[0;36m__add__\u001b[0;34m(self, other)\u001b[0m\n\u001b[1;32m     21\u001b[0m             \u001b[0;32mreturn\u001b[0m \u001b[0mItem\u001b[0m\u001b[0;34m(\u001b[0m\u001b[0mself\u001b[0m\u001b[0;34m.\u001b[0m\u001b[0mname\u001b[0m\u001b[0;34m,\u001b[0m \u001b[0mself\u001b[0m\u001b[0;34m.\u001b[0m\u001b[0mquantity\u001b[0m \u001b[0;34m+\u001b[0m \u001b[0mother\u001b[0m\u001b[0;34m.\u001b[0m\u001b[0mquantity\u001b[0m\u001b[0;34m)\u001b[0m\u001b[0;34m\u001b[0m\u001b[0m\n\u001b[1;32m     22\u001b[0m         \u001b[0;32melse\u001b[0m\u001b[0;34m:\u001b[0m\u001b[0;34m\u001b[0m\u001b[0m\n\u001b[0;32m---> 23\u001b[0;31m             \u001b[0;32mraise\u001b[0m \u001b[0mValueError\u001b[0m\u001b[0;34m(\u001b[0m\u001b[0;34m\"names don't match\"\u001b[0m\u001b[0;34m)\u001b[0m\u001b[0;34m\u001b[0m\u001b[0m\n\u001b[0m",
      "\u001b[0;31mValueError\u001b[0m: names don't match"
     ]
    }
   ],
   "source": [
    "# won't work\n",
    "a + b"
   ]
  },
  {
   "cell_type": "code",
   "execution_count": 120,
   "metadata": {
    "collapsed": false
   },
   "outputs": [
    {
     "name": "stdout",
     "output_type": "stream",
     "text": [
      "apple: 30\n"
     ]
    }
   ],
   "source": [
    "# will work\n",
    "a += c\n",
    "print(a)"
   ]
  },
  {
   "cell_type": "code",
   "execution_count": 121,
   "metadata": {
    "collapsed": false
   },
   "outputs": [
    {
     "ename": "ValueError",
     "evalue": "invalid item name",
     "output_type": "error",
     "traceback": [
      "\u001b[0;31m---------------------------------------------------------------------------\u001b[0m",
      "\u001b[0;31mValueError\u001b[0m                                Traceback (most recent call last)",
      "\u001b[0;32m<ipython-input-121-02e5176379c9>\u001b[0m in \u001b[0;36m<module>\u001b[0;34m()\u001b[0m\n\u001b[0;32m----> 1\u001b[0;31m \u001b[0md\u001b[0m \u001b[0;34m=\u001b[0m \u001b[0mItem\u001b[0m\u001b[0;34m(\u001b[0m\u001b[0;34m\"dog\"\u001b[0m\u001b[0;34m)\u001b[0m\u001b[0;34m\u001b[0m\u001b[0m\n\u001b[0m",
      "\u001b[0;32m<ipython-input-114-584d61d2cdf4>\u001b[0m in \u001b[0;36m__init__\u001b[0;34m(self, name, quantity)\u001b[0m\n\u001b[1;32m      5\u001b[0m         \u001b[0;34m\"\"\"keep track of an item that is in our inventory\"\"\"\u001b[0m\u001b[0;34m\u001b[0m\u001b[0m\n\u001b[1;32m      6\u001b[0m         \u001b[0;32mif\u001b[0m \u001b[0mname\u001b[0m \u001b[0;32mnot\u001b[0m \u001b[0;32min\u001b[0m \u001b[0mINVENTORY\u001b[0m\u001b[0;34m:\u001b[0m\u001b[0;34m\u001b[0m\u001b[0m\n\u001b[0;32m----> 7\u001b[0;31m             \u001b[0;32mraise\u001b[0m \u001b[0mValueError\u001b[0m\u001b[0;34m(\u001b[0m\u001b[0;34m\"invalid item name\"\u001b[0m\u001b[0;34m)\u001b[0m\u001b[0;34m\u001b[0m\u001b[0m\n\u001b[0m\u001b[1;32m      8\u001b[0m         \u001b[0mself\u001b[0m\u001b[0;34m.\u001b[0m\u001b[0mname\u001b[0m \u001b[0;34m=\u001b[0m \u001b[0mname\u001b[0m\u001b[0;34m\u001b[0m\u001b[0m\n\u001b[1;32m      9\u001b[0m         \u001b[0mself\u001b[0m\u001b[0;34m.\u001b[0m\u001b[0mquantity\u001b[0m \u001b[0;34m=\u001b[0m \u001b[0mquantity\u001b[0m\u001b[0;34m\u001b[0m\u001b[0m\n",
      "\u001b[0;31mValueError\u001b[0m: invalid item name"
     ]
    }
   ],
   "source": [
    "d = Item(\"dog\")"
   ]
  },
  {
   "cell_type": "code",
   "execution_count": 122,
   "metadata": {
    "collapsed": false
   },
   "outputs": [
    {
     "data": {
      "text/plain": [
       "False"
      ]
     },
     "execution_count": 122,
     "metadata": {},
     "output_type": "execute_result"
    }
   ],
   "source": [
    "# should be False\n",
    "a == b"
   ]
  },
  {
   "cell_type": "code",
   "execution_count": 123,
   "metadata": {
    "collapsed": false
   },
   "outputs": [
    {
     "data": {
      "text/plain": [
       "True"
      ]
     },
     "execution_count": 123,
     "metadata": {},
     "output_type": "execute_result"
    }
   ],
   "source": [
    "# should be True -- they have the same name\n",
    "a == c"
   ]
  },
  {
   "cell_type": "markdown",
   "metadata": {},
   "source": [
    "How do they behave in a list?"
   ]
  },
  {
   "cell_type": "code",
   "execution_count": 124,
   "metadata": {
    "collapsed": false
   },
   "outputs": [
    {
     "data": {
      "text/plain": [
       "[apple: 30, banana: 20]"
      ]
     },
     "execution_count": 124,
     "metadata": {},
     "output_type": "execute_result"
    }
   ],
   "source": [
    "items = []\n",
    "items.append(a)\n",
    "items.append(b)\n",
    "items"
   ]
  },
  {
   "cell_type": "code",
   "execution_count": 125,
   "metadata": {
    "collapsed": false
   },
   "outputs": [
    {
     "data": {
      "text/plain": [
       "True"
      ]
     },
     "execution_count": 125,
     "metadata": {},
     "output_type": "execute_result"
    }
   ],
   "source": [
    "# should be True -- they have the same name\n",
    "c in items"
   ]
  },
  {
   "cell_type": "markdown",
   "metadata": {},
   "source": [
    "### `ShoppingCart`"
   ]
  },
  {
   "cell_type": "markdown",
   "metadata": {},
   "source": [
    "Now we want to create a shopping cart.  The main thing it will do is hold a list of items.\n",
    "\n",
    "__Note__: I used the outline of the `ShoppingCart` class you provided, and just filled in the blanks. Everything above this was already in the notebook."
   ]
  },
  {
   "cell_type": "code",
   "execution_count": 126,
   "metadata": {
    "collapsed": true
   },
   "outputs": [],
   "source": [
    "class ShoppingCart(object):\n",
    "    \n",
    "    def __init__(self):\n",
    "        # the list of items we control\n",
    "        self.items = []\n",
    "        \n",
    "    def subtotal(self):\n",
    "        \"\"\" return a subtotal of our items \"\"\"\n",
    "        price = 0.0\n",
    "        for item in self.items:\n",
    "            item_price = INVENTORY[item.name]    # use the item's name to get its price       \n",
    "            price += item_price * item.quantity  # multiply the price by the quantity and add to total\n",
    "        return price\n",
    "\n",
    "    def add(self, name, quantity):\n",
    "        \"\"\" add an item to our cart -- if an item of the same name already\n",
    "        exists, then increment the quantity.  Otherwise, add a new item\n",
    "        to the cart with the desired quantity.\"\"\"\n",
    "        new_item = Item(name, quantity=quantity) # create new Item object\n",
    "        if new_item in self.items:\n",
    "            idx = self.items.index(new_item)     # find position of the item in the list\n",
    "            self.items[idx] += new_item          # add the new quantity to the item\n",
    "        else:\n",
    "            self.items.append(new_item)          # add the item to the shopping cart\n",
    "        \n",
    "    def remove(self, name):\n",
    "        \"\"\" remove all of item name from the cart \"\"\"\n",
    "        item_names = [item.name for item in self.items]\n",
    "        idx = item_names.index(name)      # get index of item in list\n",
    "        self.items.pop(idx)                      # remove it\n",
    "        \n",
    "    def report(self):\n",
    "        \"\"\" print a summary of the cart \"\"\"\n",
    "        for item in self.items:\n",
    "            print(\"{} : {}\".format(item.name, item.quantity))"
   ]
  },
  {
   "cell_type": "markdown",
   "metadata": {},
   "source": [
    "Here are some tests"
   ]
  },
  {
   "cell_type": "code",
   "execution_count": 127,
   "metadata": {
    "collapsed": false
   },
   "outputs": [],
   "source": [
    "sc = ShoppingCart()\n",
    "sc.add(\"orange\", 19)"
   ]
  },
  {
   "cell_type": "code",
   "execution_count": 128,
   "metadata": {
    "collapsed": true
   },
   "outputs": [],
   "source": [
    "sc.add(\"apple\", 2)"
   ]
  },
  {
   "cell_type": "code",
   "execution_count": 129,
   "metadata": {
    "collapsed": false
   },
   "outputs": [
    {
     "name": "stdout",
     "output_type": "stream",
     "text": [
      "orange : 19\n",
      "apple : 2\n"
     ]
    }
   ],
   "source": [
    "sc.report()"
   ]
  },
  {
   "cell_type": "code",
   "execution_count": 130,
   "metadata": {
    "collapsed": true
   },
   "outputs": [],
   "source": [
    "sc.add(\"apple\", 9)"
   ]
  },
  {
   "cell_type": "code",
   "execution_count": 131,
   "metadata": {
    "collapsed": false
   },
   "outputs": [
    {
     "name": "stdout",
     "output_type": "stream",
     "text": [
      "orange : 19\n",
      "apple : 11\n"
     ]
    }
   ],
   "source": [
    "# apple should only be listed once in the report, with a quantity of 11\n",
    "sc.report()"
   ]
  },
  {
   "cell_type": "code",
   "execution_count": 132,
   "metadata": {
    "collapsed": false
   },
   "outputs": [
    {
     "data": {
      "text/plain": [
       "18.0"
      ]
     },
     "execution_count": 132,
     "metadata": {},
     "output_type": "execute_result"
    }
   ],
   "source": [
    "sc.subtotal()"
   ]
  },
  {
   "cell_type": "code",
   "execution_count": 133,
   "metadata": {
    "collapsed": false
   },
   "outputs": [],
   "source": [
    "sc.remove(\"apple\")"
   ]
  },
  {
   "cell_type": "code",
   "execution_count": 134,
   "metadata": {
    "collapsed": false
   },
   "outputs": [
    {
     "name": "stdout",
     "output_type": "stream",
     "text": [
      "orange : 19\n"
     ]
    }
   ],
   "source": [
    "# apple should no longer be listed\n",
    "sc.report()"
   ]
  },
  {
   "cell_type": "markdown",
   "metadata": {
    "collapsed": true
   },
   "source": [
    "## Exercise 2: Poker Odds"
   ]
  },
  {
   "cell_type": "markdown",
   "metadata": {},
   "source": [
    "Use the deck of cards class from the notebook we worked through outside of class to write a _Monte Carlo_ code that plays a lot of hands of straight poker (like 100,000).  Count how many of these hands has a particular poker hand (like 3-of-a-kind).  The ratio of # of hands with 3-of-a-kind to total hands is an approximation to the odds of getting a 3-of-a-kind in poker.\n",
    "\n",
    "You'll want to copy-paste those classes into a `.py` file to allow you to import and reuse them here"
   ]
  },
  {
   "cell_type": "code",
   "execution_count": 5,
   "metadata": {
    "collapsed": true
   },
   "outputs": [],
   "source": [
    "# copied and pasted this cell from the other notebook for now\n",
    "import random\n",
    "\n",
    "\n",
    "class Card(object):\n",
    "    \n",
    "    def __init__(self, suit=1, rank=2):\n",
    "        if suit < 1 or suit > 4:\n",
    "            print(\"invalid suit, setting to 1\")\n",
    "            suit = 1\n",
    "        if rank < 2 or rank > 14:\n",
    "            print(\"invalid rank, setting to 2\")\n",
    "            rank = 2\n",
    "        \n",
    "        self.suit = suit\n",
    "        self.rank = rank\n",
    "        \n",
    "\n",
    "    def value(self):\n",
    "        \"\"\" we want things order primarily by rank then suit \"\"\"\n",
    "        return self.suit + (self.rank-1)*14\n",
    "    \n",
    "    # we include this to allow for comparisons with < and > between cards \n",
    "    def __lt__(self, other):\n",
    "        return self.value() < other.value()\n",
    "\n",
    "    def __unicode__(self):\n",
    "        suits = [u\"\\u2660\".encode('utf-8'),  # spade\n",
    "                 u\"\\u2665\".encode('utf-8'),  # heart\n",
    "                 u\"\\u2666\".encode('utf-8'),  # diamond\n",
    "                 u\"\\u2663\".encode('utf-8')]  # club\n",
    "        \n",
    "        r = str(self.rank)\n",
    "        if self.rank == 11:\n",
    "            r = \"J\"\n",
    "        elif self.rank == 12:\n",
    "            r = \"Q\"\n",
    "        elif self.rank == 13:\n",
    "            r = \"K\"\n",
    "        elif self.rank == 14:\n",
    "            r = \"A\"\n",
    "                \n",
    "        return r +':'+suits[self.suit-1]\n",
    "    \n",
    "    def __str__(self):\n",
    "        return self.__unicode__()  #.encode('utf-8')\n",
    "        \n",
    "        \n",
    "\n",
    "\n",
    "class Deck(object):\n",
    "    \"\"\" the deck is a collection of cards \"\"\"\n",
    "\n",
    "    def __init__(self):\n",
    "\n",
    "        self.nsuits = 4\n",
    "        self.nranks = 13\n",
    "        self.minrank = 2\n",
    "        self.maxrank = self.minrank + self.nranks - 1\n",
    "\n",
    "        self.cards = []\n",
    "\n",
    "        for rank in range(self.minrank,self.maxrank+1):\n",
    "            for suit in range(1, self.nsuits+1):\n",
    "                self.cards.append(Card(rank=rank, suit=suit))\n",
    "\n",
    "    def shuffle(self):\n",
    "        random.shuffle(self.cards)\n",
    "\n",
    "    def get_cards(self, num=1):\n",
    "        hand = []\n",
    "        for n in range(num):\n",
    "            hand.append(self.cards.pop())\n",
    "\n",
    "        return hand\n",
    "    \n",
    "    def __str__(self):\n",
    "        string = \"\"\n",
    "        for c in self.cards:\n",
    "            string += str(c) + \" \"\n",
    "        return string"
   ]
  },
  {
   "cell_type": "markdown",
   "metadata": {},
   "source": [
    "I've added lots of comments, but the basic idea is this:\n",
    "\n",
    "We are counting any deck of cards that has exactly 3 cards of the same rank. We will investigate 100,000 different hands (5 random cards, chosen randomly from a full deck of 52 cards). For each iteration,\n",
    "\n",
    "- Generate a new deck of cards, shuffle it, and draw a hand.\n",
    "- We will have, at most, 5 unique ranks. Create a dictionary, whose keys will be the set of unique ranks in the deck, and whose values will be the number of cards with that rank.\n",
    "    - For example, if the deck had ranks `5, 9, 8, 4, 9`, the dictionary would be `{5: 1, 9: 2, 8: 1, 4: 1}`.\n",
    "- For each card in the deck:\n",
    "    - Get its rank.\n",
    "    - Check if that rank is already a key in the dictionary.\n",
    "        - If it's not, add that rank as a new key, and initialize its value to 1.\n",
    "        - If it is, add 1 to the value of that key.\n",
    "- Get a list of the values in the dictionary. If one of the values is `3`, then there are 3 cards with the same rank. Add one to the counter that's keeping track of how many hands have 3-of-a-kind."
   ]
  },
  {
   "cell_type": "code",
   "execution_count": 18,
   "metadata": {
    "collapsed": false
   },
   "outputs": [],
   "source": [
    "def n_of_a_kind(nkind=3, ncards=5, N=100000):\n",
    "    \"\"\"Determine how often a random hand of cards will contain nkind cards of the same rank.\n",
    "    Parameters\n",
    "    ----------\n",
    "    nkind : int\n",
    "        The necessary number of cards with the same rank.\n",
    "    ncards : int\n",
    "        The number of cards to draw for each hand.\n",
    "    N : int\n",
    "        The number of hands to draw.\n",
    "    Returns\n",
    "    -------\n",
    "    ratio : float\n",
    "        The ratio of the number of hands with nkind cards of the same rank to the total number N.\"\"\"\n",
    "    count = 0 # count number of hands w/ n of a kind\n",
    "\n",
    "    # generate N decks of cards\n",
    "    for i in range(N):\n",
    "        # generate the deck, shuffle the cards, and get a new hand:\n",
    "        deck = Deck()\n",
    "        deck.shuffle() \n",
    "        hand = deck.get_cards(ncards)\n",
    "\n",
    "        # create an empty dictionary:\n",
    "        # the keys will be the unique rank(s) of cards in the deck\n",
    "        # the values will be the number of cards in the hand with that rank\n",
    "        ranks = {}\n",
    "        for card in hand:\n",
    "            if ranks.has_key(card.rank):\n",
    "                # if the rank is already in the dict, add one to the count for that rank\n",
    "                ranks[card.rank] += 1\n",
    "            else:\n",
    "                # otherwise, this is first card with that rank\n",
    "                ranks[card.rank] = 1 # initialze value to 1 card with that rank\n",
    "\n",
    "        # we don't actually care about the specific rank, only the number of cards with the same rank.\n",
    "        # so, ranks.values() will give a list of the values in the dict (no need for the keys anymore).\n",
    "        # if this list contains an element that is the same as nkind, then there are nkind cards with same rank.\n",
    "        # example: here nkind=3, so if any of the values in the dict are 3, we have 3 cards of the same kind.\n",
    "        if nkind in ranks.values():\n",
    "            count += 1\n",
    "\n",
    "    ratio = float(count)/float(N)\n",
    "    print(\"Out of {} hands, {} had 3-of-a-kind, or {}%\".format(N, count, ratio*100.))\n",
    "    return ratio"
   ]
  },
  {
   "cell_type": "code",
   "execution_count": 19,
   "metadata": {
    "collapsed": false
   },
   "outputs": [
    {
     "name": "stdout",
     "output_type": "stream",
     "text": [
      "Out of 100000 hands, 2220 had 3-of-a-kind, or 2.22%\n",
      "Out of 100000 hands, 2256 had 3-of-a-kind, or 2.256%\n",
      "Out of 100000 hands, 2196 had 3-of-a-kind, or 2.196%\n",
      "Out of 100000 hands, 2249 had 3-of-a-kind, or 2.249%\n",
      "Out of 100000 hands, 2359 had 3-of-a-kind, or 2.359%\n",
      "Out of 100000 hands, 2259 had 3-of-a-kind, or 2.259%\n",
      "Out of 100000 hands, 2345 had 3-of-a-kind, or 2.345%\n",
      "Out of 100000 hands, 2248 had 3-of-a-kind, or 2.248%\n",
      "Out of 100000 hands, 2183 had 3-of-a-kind, or 2.183%\n",
      "Out of 100000 hands, 2276 had 3-of-a-kind, or 2.276%\n"
     ]
    }
   ],
   "source": [
    "N = 100000 # number of hands\n",
    "ncards = 5 # number of cards per hand\n",
    "nkind = 3 # looking for 3 of a kind\n",
    "\n",
    "# repeat a few times and look at distribution of results\n",
    "nruns = 10\n",
    "ratios = []\n",
    "for i in range(nruns):\n",
    "    ratios.append(n_of_a_kind(nkind=nkind, ncards=ncards, N=N))"
   ]
  },
  {
   "cell_type": "code",
   "execution_count": 23,
   "metadata": {
    "collapsed": false
   },
   "outputs": [
    {
     "name": "stdout",
     "output_type": "stream",
     "text": [
      "Average chance of getting 3-of-a-kind is 2.26%.\n"
     ]
    }
   ],
   "source": [
    "avg_ratio = sum(ratios) / float(nruns)\n",
    "print(\"Average chance of getting 3-of-a-kind is {:1.2f}%.\".format(avg_ratio*100.))"
   ]
  },
  {
   "cell_type": "markdown",
   "metadata": {},
   "source": [
    "## Exercise 3: Tic-Tac-Toe\n",
    "\n",
    "Revisit the tic-tac-toe game you developed in the functions exercises but now write it as a class with methods to do each of the main steps.  "
   ]
  },
  {
   "cell_type": "code",
   "execution_count": 1,
   "metadata": {
    "collapsed": false
   },
   "outputs": [],
   "source": [
    "class TicTacToe(object):\n",
    "    \"\"\"Let's play a game of tic-tac-toe!\"\"\"\n",
    "    \n",
    "    def __init__(self, player1_name=\"Player 1\", player2_name=\"Player 2\"):\n",
    "        \"\"\"Initialize a new game of tic-tac-toe.\n",
    "        Parameters\n",
    "        ----------\n",
    "        player1_name : string, optional\n",
    "            The name of the first player.\n",
    "        player2_name : string, optional\n",
    "            The name of the second player.\"\"\"\n",
    "        \n",
    "        # optional names of players\n",
    "        self.name1 = player1_name\n",
    "        self.name2 = player2_name\n",
    "        \n",
    "        # give player 1 \"x\"'s and player 2 \"o\"'s\n",
    "        self.piece1 = 'x'\n",
    "        self.piece2 = 'o'\n",
    "        \n",
    "        # create the empty board\n",
    "        self.board = \"\"\"\n",
    "         {s1:^3} | {s2:^3} | {s3:^3}\n",
    "        -----+-----+-----\n",
    "         {s4:^3} | {s5:^3} | {s6:^3}\n",
    "        -----+-----+-----      123\n",
    "         {s7:^3} | {s8:^3} | {s9:^3}       456\n",
    "                               789  \n",
    "        \"\"\"\n",
    "        \n",
    "        self.play = {} # dictionary holding the status of each square: \"x\", \"o\", or empty (\"\")\n",
    "        self.initialize_board() # initialize the game\n",
    "        \n",
    "        # keep track of the game progress\n",
    "        self.have_winner = False\n",
    "        self.have_tie = False\n",
    "        self.winner = None\n",
    "        \n",
    "    \n",
    "    def initialize_board(self):\n",
    "        \"\"\"Fill in the tic-tac-toe board with empty strings to start a game.\"\"\"\n",
    "        for n in range(9):\n",
    "            self.play[\"s{}\".format(n+1)] = \"\"  # \"s1\" for square 1, etc.\n",
    "            \n",
    "            \n",
    "    def show_board(self):\n",
    "        \"\"\" Display the current state of the playing board.\"\"\"\n",
    "        print(self.board.format(**self.play)) # same as board.format(s1=play['s1'], s2=play['s2], ...)\n",
    "        \n",
    "        \n",
    "    def get_move(self, n, xo):\n",
    "        \"\"\" Ask the current player to make a move and make sure the square was not \n",
    "            already played.  \n",
    "            Parameters:\n",
    "            -----------\n",
    "            xo: is a string of the character (x or o) we will place in\n",
    "            the desired square \"\"\"\n",
    "        valid_move = False\n",
    "        print(\"Asking for input...\")\n",
    "        while not valid_move:\n",
    "            idx = input(\"player {}, enter your move (1-9)\".format(n)) # ask which square they want to play\n",
    "            print(\"You've entered: {}\".format(idx))\n",
    "            if self.play[\"s{}\".format(idx)] == \"\":\n",
    "                valid_move = True # if the square is empty, they're free to play it\n",
    "            else:\n",
    "                print(\"invalid: {}\".format(self.play[\"s{}\".format(idx)]))\n",
    "\n",
    "        self.play[\"s{}\".format(idx)] = xo # update entry in the square\n",
    "    \n",
    "    \n",
    "    \n",
    "    def check_win(self):\n",
    "        \"\"\"Recevies the game board and checks if someone has already won the game.\n",
    "        Returns:\n",
    "        -------\n",
    "        win:  Logical\n",
    "             true is someone has won\"\"\"\n",
    "        win = False\n",
    "        if self.play['s1']==self.play['s2']==self.play['s3']==('x'or'o'):\n",
    "            win = True\n",
    "        elif self.play['s4']==self.play['s5']==self.play['s6']==('x'or'o'):\n",
    "            win = True\n",
    "        elif self.play['s7']==self.play['s8']==self.play['s9']==('x'or'o'):\n",
    "            win = True\n",
    "        elif self.play['s1']==self.play['s4']==self.play['s7']==('x'or'o'):\n",
    "            win = True    \n",
    "        elif self.play['s5']==self.play['s2']==self.play['s8']==('x'or'o'):\n",
    "            win = True\n",
    "        elif self.play['s9']==self.play['s6']==self.play['s3']==('x'or'o'):\n",
    "            win = True    \n",
    "        elif self.play['s5']==self.play['s7']==self.play['s3']==('x'or'o'):\n",
    "            win = True\n",
    "        elif self.play['s1']==self.play['s5']==self.play['s9']==('x'or'o'):\n",
    "            win = True     \n",
    "        return win    \n",
    "    \n",
    "    \n",
    "    def check_for_tie(self):\n",
    "        \"\"\"Check if there is a tie in the tic-tac-toe game.\n",
    "        Note: this differs from check_win(), because game may be over without a winner.\n",
    "        Returns:\n",
    "        -------\n",
    "        game_over: Logical\n",
    "            True if game over (all squares occupied).\n",
    "        \"\"\"\n",
    "        items = [self.play[key] for key in self.play.keys()]\n",
    "        # if each box filled, we have a tie.\n",
    "        # begin by assuming this is the case, and if a box is empty, keep playing\n",
    "        game_over = True\n",
    "        for item in items:\n",
    "            if item == '':\n",
    "                game_over = False\n",
    "        return game_over\n",
    "    \n",
    "    \n",
    "    def play_game(self):\n",
    "        \"\"\"Play a game of tic-tac-toe!\"\"\"\n",
    "\n",
    "        # if the game has been played previously (the board has been filled), don't play another game\n",
    "        if (not self.have_winner) or (not self.have_tie):\n",
    "            welcome_message = \"Beginning game. The board is currently empty. {} has '{}'s, {} has '{}'s\"\n",
    "            print(welcome_message.format(self.name1, self.piece1, self.name2, self.piece2))\n",
    "            self.show_board()\n",
    "        \n",
    "        # play until someone wins:\n",
    "        while not (self.have_winner or self.have_tie):\n",
    "            # ask player 1 to make move\n",
    "            self.get_move(self.name1, self.piece1)\n",
    "            print(\"The board is now:\")\n",
    "            self.show_board()\n",
    "            # check if game over\n",
    "            self.have_winner = self.check_win()\n",
    "            self.have_tie = self.check_for_tie()\n",
    "            if self.have_winner:\n",
    "                self.winner = self.name1\n",
    "                break\n",
    "            elif self.have_tie:\n",
    "                break\n",
    "\n",
    "            # ask player 2\n",
    "            self.get_move(self.name2, self.piece2)\n",
    "            print(\"The board is now:\")\n",
    "            self.show_board()\n",
    "            # check if game over\n",
    "            self.have_winner = self.check_win()\n",
    "            self.have_tie = self.check_for_tie()\n",
    "            if self.have_winner:\n",
    "                self.winner = self.name2\n",
    "            # don't need to check for a tie again, because looping back to top\n",
    "\n",
    "        if self.winner is None:\n",
    "            print(\"There is a tie!\")\n",
    "        else:\n",
    "            print(\"We have a winner! {}, you've won the game.\".format(self.winner))\n",
    "        print(\"Here is the final board:\")\n",
    "        self.show_board()\n"
   ]
  },
  {
   "cell_type": "code",
   "execution_count": 2,
   "metadata": {
    "collapsed": false
   },
   "outputs": [
    {
     "name": "stdout",
     "output_type": "stream",
     "text": [
      "{'s9': '', 's8': '', 's3': '', 's2': '', 's1': '', 's7': '', 's6': '', 's5': '', 's4': ''}\n",
      "\n",
      "         {s1:^3} | {s2:^3} | {s3:^3}\n",
      "        -----+-----+-----\n",
      "         {s4:^3} | {s5:^3} | {s6:^3}\n",
      "        -----+-----+-----      123\n",
      "         {s7:^3} | {s8:^3} | {s9:^3}       456\n",
      "                               789  \n",
      "        \n",
      "\n",
      "             |     |    \n",
      "        -----+-----+-----\n",
      "             |     |    \n",
      "        -----+-----+-----      123\n",
      "             |     |           456\n",
      "                               789  \n",
      "        \n"
     ]
    }
   ],
   "source": [
    "# testing\n",
    "game = TicTacToe() # initialize a game\n",
    "print(game.play)  # should be empty\n",
    "print(game.board) # should be empty\n",
    "game.show_board() # should be filled in (with empty strings)\n"
   ]
  },
  {
   "cell_type": "code",
   "execution_count": 3,
   "metadata": {
    "collapsed": false
   },
   "outputs": [
    {
     "name": "stdout",
     "output_type": "stream",
     "text": [
      "Beginning game. The board is currently empty. Player 1 has 'x's, Player 2 has 'o's\n",
      "\n",
      "             |     |    \n",
      "        -----+-----+-----\n",
      "             |     |    \n",
      "        -----+-----+-----      123\n",
      "             |     |           456\n",
      "                               789  \n",
      "        \n",
      "Asking for input...\n",
      "player Player 1, enter your move (1-9)1\n",
      "You've entered: 1\n",
      "The board is now:\n",
      "\n",
      "          x  |     |    \n",
      "        -----+-----+-----\n",
      "             |     |    \n",
      "        -----+-----+-----      123\n",
      "             |     |           456\n",
      "                               789  \n",
      "        \n",
      "Asking for input...\n",
      "player Player 2, enter your move (1-9)2\n",
      "You've entered: 2\n",
      "The board is now:\n",
      "\n",
      "          x  |  o  |    \n",
      "        -----+-----+-----\n",
      "             |     |    \n",
      "        -----+-----+-----      123\n",
      "             |     |           456\n",
      "                               789  \n",
      "        \n",
      "Asking for input...\n",
      "player Player 1, enter your move (1-9)3\n",
      "You've entered: 3\n",
      "The board is now:\n",
      "\n",
      "          x  |  o  |  x \n",
      "        -----+-----+-----\n",
      "             |     |    \n",
      "        -----+-----+-----      123\n",
      "             |     |           456\n",
      "                               789  \n",
      "        \n",
      "Asking for input...\n",
      "player Player 2, enter your move (1-9)4\n",
      "You've entered: 4\n",
      "The board is now:\n",
      "\n",
      "          x  |  o  |  x \n",
      "        -----+-----+-----\n",
      "          o  |     |    \n",
      "        -----+-----+-----      123\n",
      "             |     |           456\n",
      "                               789  \n",
      "        \n",
      "Asking for input...\n",
      "player Player 1, enter your move (1-9)5\n",
      "You've entered: 5\n",
      "The board is now:\n",
      "\n",
      "          x  |  o  |  x \n",
      "        -----+-----+-----\n",
      "          o  |  x  |    \n",
      "        -----+-----+-----      123\n",
      "             |     |           456\n",
      "                               789  \n",
      "        \n",
      "Asking for input...\n",
      "player Player 2, enter your move (1-9)6\n",
      "You've entered: 6\n",
      "The board is now:\n",
      "\n",
      "          x  |  o  |  x \n",
      "        -----+-----+-----\n",
      "          o  |  x  |  o \n",
      "        -----+-----+-----      123\n",
      "             |     |           456\n",
      "                               789  \n",
      "        \n",
      "Asking for input...\n",
      "player Player 1, enter your move (1-9)7\n",
      "You've entered: 7\n",
      "The board is now:\n",
      "\n",
      "          x  |  o  |  x \n",
      "        -----+-----+-----\n",
      "          o  |  x  |  o \n",
      "        -----+-----+-----      123\n",
      "          x  |     |           456\n",
      "                               789  \n",
      "        \n",
      "We have a winner! Player 1, you've won the game. Here is the final board:\n",
      "\n",
      "          x  |  o  |  x \n",
      "        -----+-----+-----\n",
      "          o  |  x  |  o \n",
      "        -----+-----+-----      123\n",
      "          x  |     |           456\n",
      "                               789  \n",
      "        \n"
     ]
    }
   ],
   "source": [
    "game.play_game()"
   ]
  },
  {
   "cell_type": "code",
   "execution_count": 4,
   "metadata": {
    "collapsed": false
   },
   "outputs": [
    {
     "name": "stdout",
     "output_type": "stream",
     "text": [
      "We have a winner! Player 1, you've won the game. Here is the final board:\n",
      "\n",
      "          x  |  o  |  x \n",
      "        -----+-----+-----\n",
      "          o  |  x  |  o \n",
      "        -----+-----+-----      123\n",
      "          x  |     |           456\n",
      "                               789  \n",
      "        \n"
     ]
    }
   ],
   "source": [
    "game.play_game()"
   ]
  },
  {
   "cell_type": "code",
   "execution_count": null,
   "metadata": {
    "collapsed": true
   },
   "outputs": [],
   "source": []
  }
 ],
 "metadata": {
  "kernelspec": {
   "display_name": "Python 2",
   "language": "python",
   "name": "python2"
  },
  "language_info": {
   "codemirror_mode": {
    "name": "ipython",
    "version": 2
   },
   "file_extension": ".py",
   "mimetype": "text/x-python",
   "name": "python",
   "nbconvert_exporter": "python",
   "pygments_lexer": "ipython2",
   "version": "2.7.6"
  }
 },
 "nbformat": 4,
 "nbformat_minor": 2
}
