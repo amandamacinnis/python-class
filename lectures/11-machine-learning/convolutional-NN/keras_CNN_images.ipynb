{
  "nbformat": 4,
  "nbformat_minor": 0,
  "metadata": {
    "kernelspec": {
      "display_name": "Python 3",
      "language": "python",
      "name": "python3"
    },
    "language_info": {
      "codemirror_mode": {
        "name": "ipython",
        "version": 3
      },
      "file_extension": ".py",
      "mimetype": "text/x-python",
      "name": "python",
      "nbconvert_exporter": "python",
      "pygments_lexer": "ipython3",
      "version": "3.6.5"
    },
    "colab": {
      "name": "keras-CNN-images.ipynb",
      "provenance": [],
      "collapsed_sections": [],
      "toc_visible": true
    }
  },
  "cells": [
    {
      "cell_type": "markdown",
      "metadata": {
        "id": "0Mo5qVX8PAB7",
        "colab_type": "text"
      },
      "source": [
        "## Python version"
      ]
    },
    {
      "cell_type": "markdown",
      "metadata": {
        "id": "_XAf1S0dPACG",
        "colab_type": "text"
      },
      "source": [
        "## Import Libraries"
      ]
    },
    {
      "cell_type": "code",
      "metadata": {
        "id": "UqJHqYixPACH",
        "colab_type": "code",
        "colab": {}
      },
      "source": [
        "import tensorflow as tf\n",
        "from tensorflow.keras import layers\n",
        "from tensorflow.keras import preprocessing\n",
        "from tensorflow.keras import models\n",
        "from tensorflow.keras.layers import Conv2D\n",
        "from tensorflow.keras.layers import Dense\n",
        "from tensorflow.keras.layers import Flatten\n",
        "from tensorflow.keras.preprocessing import image\n",
        "from tensorflow.keras.layers import MaxPooling2D\n",
        "from tensorflow.keras.models import Sequential\n",
        "import numpy as np"
      ],
      "execution_count": 0,
      "outputs": []
    },
    {
      "cell_type": "markdown",
      "metadata": {
        "id": "3KpTHcZ9VwYp",
        "colab_type": "text"
      },
      "source": [
        "# Our Task\n",
        "The purpose is to build a classifier that can distinguish between an image of a car vs. an image of a plane.\n",
        "To do this, 80 images for each class are used for the training set, 20 images are used for the validation set, and then 15 images in total are used for the test set (or the unseen images which are used for gauging prediction accuracy). The image sets were collated independently using open-source images from the Pixabay and Unsplash websites."
      ]
    },
    {
      "cell_type": "markdown",
      "metadata": {
        "id": "Qfd3NxR_WERQ",
        "colab_type": "text"
      },
      "source": [
        "## Car sample image\n",
        "![](https://miro.medium.com/max/1020/0*qzQUpL-gOOSVKXbi.jpg)"
      ]
    },
    {
      "cell_type": "markdown",
      "metadata": {
        "id": "g7dZgGyrWPPP",
        "colab_type": "text"
      },
      "source": [
        "## Plane sample image\n",
        "![](https://miro.medium.com/max/1014/0*cr66x31FzqMfQuBf.jpg)"
      ]
    },
    {
      "cell_type": "markdown",
      "metadata": {
        "id": "ILh5pzpdPACL",
        "colab_type": "text"
      },
      "source": [
        "## CNN (Convolutional Neural Network) configuration\n",
        "\n",
        "A sequential neural network with input shape (64, 64, 3) is configured:"
      ]
    },
    {
      "cell_type": "code",
      "metadata": {
        "id": "6j-UPkiCPACL",
        "colab_type": "code",
        "colab": {}
      },
      "source": [
        "classifier = Sequential()\n",
        "\n",
        "# Convolution - extracting appropriate features from the input image.\n",
        "# Non-Linearity (RELU) - replacing all negative pixel values in feature map by zero.\n",
        "\n",
        "classifier.add(Conv2D(32, (3, 3), input_shape=(64, 64, 3),\n",
        "               activation='relu'))\n",
        "\n",
        "# Pooling: reduces dimensionality of the feature maps but keeps the most important information.\n",
        "\n",
        "classifier.add(MaxPooling2D(pool_size=(2, 2)))\n",
        "\n",
        "# Adding a second convolutional layer and flattening in order to arrange 3D volumes into a 1D vector.\n",
        "\n",
        "classifier.add(Conv2D(32, (3, 3), activation='relu'))\n",
        "classifier.add(MaxPooling2D(pool_size=(2, 2)))\n",
        "classifier.add(Flatten())\n",
        "\n",
        "# Fully connected layers: ensures connections to all activations in the previous layer.\n",
        "\n",
        "classifier.add(Dense(units=128, activation='relu'))\n",
        "classifier.add(Dense(units=1, activation='sigmoid'))"
      ],
      "execution_count": 0,
      "outputs": []
    },
    {
      "cell_type": "markdown",
      "metadata": {
        "id": "a1N4oyzyWiMw",
        "colab_type": "text"
      },
      "source": [
        "## Compile and train\n",
        "The classifier is then trained using the binary crossentropy loss function and adam optimizer."
      ]
    },
    {
      "cell_type": "markdown",
      "metadata": {
        "id": "jNd5JEdpPACP",
        "colab_type": "text"
      },
      "source": [
        "## Classifier Training"
      ]
    },
    {
      "cell_type": "code",
      "metadata": {
        "id": "QXdq-JJQPACQ",
        "colab_type": "code",
        "outputId": "02cea1f4-5d8b-4747-c348-0df06fe75d21",
        "colab": {
          "base_uri": "https://localhost:8080/",
          "height": 1000
        }
      },
      "source": [
        "classifier.compile(optimizer='adam', loss='binary_crossentropy',\n",
        "                   metrics=['accuracy'])\n",
        "from keras.preprocessing.image import ImageDataGenerator\n",
        "train_imagedata = ImageDataGenerator(rescale=1. / 255, shear_range=0.2,\n",
        "        zoom_range=0.2, horizontal_flip=True)\n",
        "test_imagedata = ImageDataGenerator(rescale=1. / 255)\n",
        "training_set = \\\n",
        "    train_imagedata.flow_from_directory('/content/drive/My Drive/11-machine-learning/convolutional-NN/data/training_set'\n",
        "        , target_size=(64, 64), batch_size=32, class_mode='binary')\n",
        "val_set = \\\n",
        "    test_imagedata.flow_from_directory('/content/drive/My Drive/11-machine-learning/convolutional-NN/data/val_set'\n",
        "        , target_size=(64, 64), batch_size=32, class_mode='binary')\n",
        "history=classifier.fit_generator(training_set, steps_per_epoch=30, epochs=30,\n",
        "                         validation_data=val_set,\n",
        "                         validation_steps=30)"
      ],
      "execution_count": 39,
      "outputs": [
        {
          "output_type": "stream",
          "text": [
            "Found 160 images belonging to 2 classes.\n",
            "Found 40 images belonging to 2 classes.\n",
            "Epoch 1/30\n",
            "30/30 [==============================] - 19s 627ms/step - loss: 0.4664 - accuracy: 0.8010 - val_loss: 0.4242 - val_accuracy: 0.7750\n",
            "Epoch 2/30\n",
            "30/30 [==============================] - 18s 608ms/step - loss: 0.2395 - accuracy: 0.9062 - val_loss: 0.4850 - val_accuracy: 0.8017\n",
            "Epoch 3/30\n",
            "30/30 [==============================] - 18s 614ms/step - loss: 0.1959 - accuracy: 0.9115 - val_loss: 0.4674 - val_accuracy: 0.7750\n",
            "Epoch 4/30\n",
            "30/30 [==============================] - 18s 606ms/step - loss: 0.1581 - accuracy: 0.9375 - val_loss: 0.5914 - val_accuracy: 0.8200\n",
            "Epoch 5/30\n",
            "30/30 [==============================] - 19s 622ms/step - loss: 0.1049 - accuracy: 0.9521 - val_loss: 0.5962 - val_accuracy: 0.8250\n",
            "Epoch 6/30\n",
            "30/30 [==============================] - 18s 609ms/step - loss: 0.0803 - accuracy: 0.9729 - val_loss: 0.7167 - val_accuracy: 0.8500\n",
            "Epoch 7/30\n",
            "30/30 [==============================] - 18s 616ms/step - loss: 0.0772 - accuracy: 0.9708 - val_loss: 0.4463 - val_accuracy: 0.8750\n",
            "Epoch 8/30\n",
            "30/30 [==============================] - 19s 621ms/step - loss: 0.0492 - accuracy: 0.9823 - val_loss: 0.5733 - val_accuracy: 0.8750\n",
            "Epoch 9/30\n",
            "30/30 [==============================] - 20s 658ms/step - loss: 0.0760 - accuracy: 0.9667 - val_loss: 0.4108 - val_accuracy: 0.8500\n",
            "Epoch 10/30\n",
            "30/30 [==============================] - 19s 625ms/step - loss: 0.0358 - accuracy: 0.9906 - val_loss: 0.6832 - val_accuracy: 0.8550\n",
            "Epoch 11/30\n",
            "30/30 [==============================] - 19s 629ms/step - loss: 0.0640 - accuracy: 0.9729 - val_loss: 0.6947 - val_accuracy: 0.8500\n",
            "Epoch 12/30\n",
            "30/30 [==============================] - 19s 617ms/step - loss: 0.0182 - accuracy: 0.9979 - val_loss: 0.8408 - val_accuracy: 0.8783\n",
            "Epoch 13/30\n",
            "30/30 [==============================] - 19s 632ms/step - loss: 0.0159 - accuracy: 0.9948 - val_loss: 0.8806 - val_accuracy: 0.8750\n",
            "Epoch 14/30\n",
            "30/30 [==============================] - 18s 616ms/step - loss: 0.0071 - accuracy: 0.9990 - val_loss: 0.8049 - val_accuracy: 0.8717\n",
            "Epoch 15/30\n",
            "30/30 [==============================] - 19s 631ms/step - loss: 0.0055 - accuracy: 0.9990 - val_loss: 1.0147 - val_accuracy: 0.8500\n",
            "Epoch 16/30\n",
            "30/30 [==============================] - 19s 620ms/step - loss: 0.0223 - accuracy: 0.9927 - val_loss: 0.8727 - val_accuracy: 0.8483\n",
            "Epoch 17/30\n",
            "30/30 [==============================] - 19s 628ms/step - loss: 0.0112 - accuracy: 0.9979 - val_loss: 0.9495 - val_accuracy: 0.8750\n",
            "Epoch 18/30\n",
            "30/30 [==============================] - 19s 626ms/step - loss: 0.0054 - accuracy: 1.0000 - val_loss: 1.0209 - val_accuracy: 0.8733\n",
            "Epoch 19/30\n",
            "30/30 [==============================] - 19s 635ms/step - loss: 0.0035 - accuracy: 1.0000 - val_loss: 0.9659 - val_accuracy: 0.8750\n",
            "Epoch 20/30\n",
            "30/30 [==============================] - 19s 621ms/step - loss: 0.0023 - accuracy: 1.0000 - val_loss: 0.8732 - val_accuracy: 0.8500\n",
            "Epoch 21/30\n",
            "30/30 [==============================] - 19s 625ms/step - loss: 0.0016 - accuracy: 1.0000 - val_loss: 0.8666 - val_accuracy: 0.8500\n",
            "Epoch 22/30\n",
            "30/30 [==============================] - 19s 617ms/step - loss: 0.0024 - accuracy: 1.0000 - val_loss: 0.9960 - val_accuracy: 0.8500\n",
            "Epoch 23/30\n",
            "30/30 [==============================] - 19s 631ms/step - loss: 9.8521e-04 - accuracy: 1.0000 - val_loss: 0.9007 - val_accuracy: 0.8500\n",
            "Epoch 24/30\n",
            "30/30 [==============================] - 19s 631ms/step - loss: 0.0011 - accuracy: 1.0000 - val_loss: 0.9381 - val_accuracy: 0.8500\n",
            "Epoch 25/30\n",
            "30/30 [==============================] - 19s 627ms/step - loss: 8.6904e-04 - accuracy: 1.0000 - val_loss: 0.9330 - val_accuracy: 0.8750\n",
            "Epoch 26/30\n",
            "30/30 [==============================] - 20s 675ms/step - loss: 8.9179e-04 - accuracy: 1.0000 - val_loss: 1.1620 - val_accuracy: 0.8717\n",
            "Epoch 27/30\n",
            "30/30 [==============================] - 19s 640ms/step - loss: 0.0027 - accuracy: 1.0000 - val_loss: 0.7732 - val_accuracy: 0.8750\n",
            "Epoch 28/30\n",
            "30/30 [==============================] - 19s 617ms/step - loss: 0.0011 - accuracy: 1.0000 - val_loss: 0.8708 - val_accuracy: 0.8767\n",
            "Epoch 29/30\n",
            "30/30 [==============================] - 19s 642ms/step - loss: 9.0286e-04 - accuracy: 1.0000 - val_loss: 0.9351 - val_accuracy: 0.8750\n",
            "Epoch 30/30\n",
            "30/30 [==============================] - 19s 624ms/step - loss: 5.6308e-04 - accuracy: 1.0000 - val_loss: 0.9032 - val_accuracy: 0.8750\n"
          ],
          "name": "stdout"
        }
      ]
    },
    {
      "cell_type": "markdown",
      "metadata": {
        "id": "qaY6Msrtbr6I",
        "colab_type": "text"
      },
      "source": [
        "As we can see below and above, we have achieved a 90\\% accuracy range. However, the model loss is also increasing as we increase the number of epochs."
      ]
    },
    {
      "cell_type": "code",
      "metadata": {
        "id": "q6qmUYCqPACT",
        "colab_type": "code",
        "outputId": "23542ae0-6c96-4202-8647-6db5adf0ae43",
        "colab": {
          "base_uri": "https://localhost:8080/",
          "height": 312
        }
      },
      "source": [
        "# Plot training and validation loss/accuracy\n",
        "import matplotlib.pyplot as plt\n",
        "print(history.history.keys())\n",
        "# Loss\n",
        "plt.plot(history.history['loss'])\n",
        "plt.plot(history.history['val_loss'])\n",
        "plt.title('model loss')\n",
        "plt.ylabel('loss')\n",
        "plt.xlabel('epoch')\n",
        "plt.legend(['loss', 'val_loss'], loc='upper left')\n",
        "plt.show()"
      ],
      "execution_count": 40,
      "outputs": [
        {
          "output_type": "stream",
          "text": [
            "dict_keys(['loss', 'accuracy', 'val_loss', 'val_accuracy'])\n"
          ],
          "name": "stdout"
        },
        {
          "output_type": "display_data",
          "data": {
            "image/png": "[encoded data removed]",
            "text/plain": [
              "<Figure size 432x288 with 1 Axes>"
            ]
          },
          "metadata": {
            "tags": [],
            "needs_background": "light"
          }
        }
      ]
    },
    {
      "cell_type": "code",
      "metadata": {
        "id": "mP2qkUNEPACa",
        "colab_type": "code",
        "outputId": "891c7995-1414-4627-9cda-b7acc22d7b80",
        "colab": {
          "base_uri": "https://localhost:8080/",
          "height": 295
        }
      },
      "source": [
        "# Accuracy\n",
        "plt.plot(history.history['accuracy'])\n",
        "plt.plot(history.history['val_accuracy'])\n",
        "plt.title('model accuracy')\n",
        "plt.ylabel('accuracy')\n",
        "plt.xlabel('epoch')\n",
        "plt.legend(['acc', 'val_acc'], loc='upper left')\n",
        "plt.show()"
      ],
      "execution_count": 41,
      "outputs": [
        {
          "output_type": "display_data",
          "data": {
            "image/png": "[encoded data removed]",
            "text/plain": [
              "<Figure size 432x288 with 1 Axes>"
            ]
          },
          "metadata": {
            "tags": [],
            "needs_background": "light"
          }
        }
      ]
    },
    {
      "cell_type": "markdown",
      "metadata": {
        "id": "twL2DVQaufA7",
        "colab_type": "text"
      },
      "source": [
        "This suggests an issue with overfitting — given that a relatively small sample size was used to train the model. This will lead to a situation whereby the model performs strongly on classifying training data, but poorly on classifying unseen data."
      ]
    },
    {
      "cell_type": "markdown",
      "metadata": {
        "id": "bs4cw2LJPACf",
        "colab_type": "text"
      },
      "source": [
        "# Overfitting fixes: Data Augmentation\n",
        "\n",
        "## Setting up a data augmentation configuration via ImageDataGenerator"
      ]
    },
    {
      "cell_type": "code",
      "metadata": {
        "id": "eX_isbwyPACg",
        "colab_type": "code",
        "colab": {}
      },
      "source": [
        "datagen = ImageDataGenerator(\n",
        "    rotation_range=40,\n",
        "    width_shift_range=0.2,\n",
        "    height_shift_range=0.2,\n",
        "    shear_range=0.2,\n",
        "    zoom_range=0.2,\n",
        "    horizontal_flip=True,\n",
        "    fill_mode='nearest')"
      ],
      "execution_count": 0,
      "outputs": []
    },
    {
      "cell_type": "code",
      "metadata": {
        "id": "km3B5LOVPACj",
        "colab_type": "code",
        "colab": {}
      },
      "source": [
        "import os, shutil\n",
        "train_cars_dir = '/content/drive/My Drive/11-machine-learning/convolutional-NN/data/training_set/cars'"
      ],
      "execution_count": 0,
      "outputs": []
    },
    {
      "cell_type": "code",
      "metadata": {
        "id": "Vicjdi39PACm",
        "colab_type": "code",
        "colab": {}
      },
      "source": [
        "fnames = [os.path.join(train_cars_dir, fname) for\n",
        "         fname in os.listdir(train_cars_dir)]"
      ],
      "execution_count": 0,
      "outputs": []
    },
    {
      "cell_type": "code",
      "metadata": {
        "id": "6Zy0cSKoPACr",
        "colab_type": "code",
        "outputId": "0893ad7c-c229-4bd6-e9bb-42065488a89b",
        "colab": {
          "base_uri": "https://localhost:8080/",
          "height": 1000
        }
      },
      "source": [
        "fnames"
      ],
      "execution_count": 45,
      "outputs": [
        {
          "output_type": "execute_result",
          "data": {
            "text/plain": [
              "['/content/drive/My Drive/11-machine-learning/convolutional-NN/data/training_set/cars/car-race-438467__340.jpg',\n",
              " '/content/drive/My Drive/11-machine-learning/convolutional-NN/data/training_set/cars/car-1093927__340.jpg',\n",
              " '/content/drive/My Drive/11-machine-learning/convolutional-NN/data/training_set/cars/auto-2179220__340.jpg',\n",
              " '/content/drive/My Drive/11-machine-learning/convolutional-NN/data/training_set/cars/automobile-176989__340.jpg',\n",
              " '/content/drive/My Drive/11-machine-learning/convolutional-NN/data/training_set/cars/auto-1399087__340.jpg',\n",
              " '/content/drive/My Drive/11-machine-learning/convolutional-NN/data/training_set/cars/auto-racing-558089__340.jpg',\n",
              " '/content/drive/My Drive/11-machine-learning/convolutional-NN/data/training_set/cars/amg-1880381__340.jpg',\n",
              " '/content/drive/My Drive/11-machine-learning/convolutional-NN/data/training_set/cars/car-2617392__340.jpg',\n",
              " '/content/drive/My Drive/11-machine-learning/convolutional-NN/data/training_set/cars/classic-car-1646996__340.jpg',\n",
              " '/content/drive/My Drive/11-machine-learning/convolutional-NN/data/training_set/cars/auto-2823855__340.jpg',\n",
              " '/content/drive/My Drive/11-machine-learning/convolutional-NN/data/training_set/cars/all-wheel-drive-299772__340.jpg',\n",
              " '/content/drive/My Drive/11-machine-learning/convolutional-NN/data/training_set/cars/car-604019__340.jpg',\n",
              " '/content/drive/My Drive/11-machine-learning/convolutional-NN/data/training_set/cars/body-kit-1869892__340.jpg',\n",
              " '/content/drive/My Drive/11-machine-learning/convolutional-NN/data/training_set/cars/bmw-3727172__340.jpg',\n",
              " '/content/drive/My Drive/11-machine-learning/convolutional-NN/data/training_set/cars/buick-1400243__340.jpg',\n",
              " '/content/drive/My Drive/11-machine-learning/convolutional-NN/data/training_set/cars/car-3484527__340.jpg',\n",
              " '/content/drive/My Drive/11-machine-learning/convolutional-NN/data/training_set/cars/classic-car-362176__340.jpg',\n",
              " '/content/drive/My Drive/11-machine-learning/convolutional-NN/data/training_set/cars/black-hills-hot-rod-3675047__340.jpg',\n",
              " '/content/drive/My Drive/11-machine-learning/convolutional-NN/data/training_set/cars/car-3647352__340.jpg',\n",
              " '/content/drive/My Drive/11-machine-learning/convolutional-NN/data/training_set/cars/car-1245706__340.jpg',\n",
              " '/content/drive/My Drive/11-machine-learning/convolutional-NN/data/training_set/cars/car-1283947__340.jpg',\n",
              " '/content/drive/My Drive/11-machine-learning/convolutional-NN/data/training_set/cars/automobile-1838782__340.jpg',\n",
              " '/content/drive/My Drive/11-machine-learning/convolutional-NN/data/training_set/cars/car-2563506__340.jpg',\n",
              " '/content/drive/My Drive/11-machine-learning/convolutional-NN/data/training_set/cars/car-3687680__340.jpg',\n",
              " '/content/drive/My Drive/11-machine-learning/convolutional-NN/data/training_set/cars/auto-3302898__340.jpg',\n",
              " '/content/drive/My Drive/11-machine-learning/convolutional-NN/data/training_set/cars/buildings-1851246__340.jpg',\n",
              " '/content/drive/My Drive/11-machine-learning/convolutional-NN/data/training_set/cars/aston-2118857__340.jpg',\n",
              " '/content/drive/My Drive/11-machine-learning/convolutional-NN/data/training_set/cars/car-1184860__340.jpg',\n",
              " '/content/drive/My Drive/11-machine-learning/convolutional-NN/data/training_set/cars/car-139529__340.jpg',\n",
              " '/content/drive/My Drive/11-machine-learning/convolutional-NN/data/training_set/cars/audi-1890494__340.jpg',\n",
              " '/content/drive/My Drive/11-machine-learning/convolutional-NN/data/training_set/cars/bmw-768688__340.jpg',\n",
              " '/content/drive/My Drive/11-machine-learning/convolutional-NN/data/training_set/cars/car-show-581067__340.jpg',\n",
              " '/content/drive/My Drive/11-machine-learning/convolutional-NN/data/training_set/cars/car-984159__340.jpg',\n",
              " '/content/drive/My Drive/11-machine-learning/convolutional-NN/data/training_set/cars/blue-2118528__340.jpg',\n",
              " '/content/drive/My Drive/11-machine-learning/convolutional-NN/data/training_set/cars/classic-car-574869__340.jpg',\n",
              " '/content/drive/My Drive/11-machine-learning/convolutional-NN/data/training_set/cars/car-3628717__340.jpg',\n",
              " '/content/drive/My Drive/11-machine-learning/convolutional-NN/data/training_set/cars/classic-car-584118__340.jpg',\n",
              " '/content/drive/My Drive/11-machine-learning/convolutional-NN/data/training_set/cars/car-2444514__340.jpg',\n",
              " '/content/drive/My Drive/11-machine-learning/convolutional-NN/data/training_set/cars/car-tire-1031579__340.jpg',\n",
              " '/content/drive/My Drive/11-machine-learning/convolutional-NN/data/training_set/cars/auto-1327801__340.jpg',\n",
              " '/content/drive/My Drive/11-machine-learning/convolutional-NN/data/training_set/cars/car-931959__340.jpg',\n",
              " '/content/drive/My Drive/11-machine-learning/convolutional-NN/data/training_set/cars/automotive-1846910__340.jpg',\n",
              " '/content/drive/My Drive/11-machine-learning/convolutional-NN/data/training_set/cars/car-1030820__340.jpg',\n",
              " '/content/drive/My Drive/11-machine-learning/convolutional-NN/data/training_set/cars/aston-2119120__340.jpg',\n",
              " '/content/drive/My Drive/11-machine-learning/convolutional-NN/data/training_set/cars/automobile-1209732__340.jpg',\n",
              " '/content/drive/My Drive/11-machine-learning/convolutional-NN/data/training_set/cars/classic-691043__340.jpg',\n",
              " '/content/drive/My Drive/11-machine-learning/convolutional-NN/data/training_set/cars/car-3359874__340.jpg',\n",
              " '/content/drive/My Drive/11-machine-learning/convolutional-NN/data/training_set/cars/classic-car-76423__340.jpg',\n",
              " '/content/drive/My Drive/11-machine-learning/convolutional-NN/data/training_set/cars/audi-1151768__340.jpg',\n",
              " '/content/drive/My Drive/11-machine-learning/convolutional-NN/data/training_set/cars/car-1209912__340.jpg',\n",
              " '/content/drive/My Drive/11-machine-learning/convolutional-NN/data/training_set/cars/automotive-1838744__340.jpg',\n",
              " '/content/drive/My Drive/11-machine-learning/convolutional-NN/data/training_set/cars/car-172905__340.jpg',\n",
              " '/content/drive/My Drive/11-machine-learning/convolutional-NN/data/training_set/cars/auto-383897__340.jpg',\n",
              " '/content/drive/My Drive/11-machine-learning/convolutional-NN/data/training_set/cars/car-171416__340.jpg',\n",
              " '/content/drive/My Drive/11-machine-learning/convolutional-NN/data/training_set/cars/car-482683__340.jpg',\n",
              " '/content/drive/My Drive/11-machine-learning/convolutional-NN/data/training_set/cars/city-1284508__340.jpg',\n",
              " '/content/drive/My Drive/11-machine-learning/convolutional-NN/data/training_set/cars/car-1376190__340.jpg',\n",
              " '/content/drive/My Drive/11-machine-learning/convolutional-NN/data/training_set/cars/automobile-1851299__340.jpg',\n",
              " '/content/drive/My Drive/11-machine-learning/convolutional-NN/data/training_set/cars/cabriolet-3708152__340.jpg',\n",
              " '/content/drive/My Drive/11-machine-learning/convolutional-NN/data/training_set/cars/bmw-m4-3169357__340.jpg',\n",
              " '/content/drive/My Drive/11-machine-learning/convolutional-NN/data/training_set/cars/bmw-918407__340.jpg',\n",
              " '/content/drive/My Drive/11-machine-learning/convolutional-NN/data/training_set/cars/car-1772797__340.jpg',\n",
              " '/content/drive/My Drive/11-machine-learning/convolutional-NN/data/training_set/cars/chevrolet-637778__340.jpg',\n",
              " '/content/drive/My Drive/11-machine-learning/convolutional-NN/data/training_set/cars/car-1835506__340.jpg',\n",
              " '/content/drive/My Drive/11-machine-learning/convolutional-NN/data/training_set/cars/auto-788747__340.jpg',\n",
              " '/content/drive/My Drive/11-machine-learning/convolutional-NN/data/training_set/cars/bmw-918408__340.jpg',\n",
              " '/content/drive/My Drive/11-machine-learning/convolutional-NN/data/training_set/cars/car-49278__340.jpg',\n",
              " '/content/drive/My Drive/11-machine-learning/convolutional-NN/data/training_set/cars/audi-798530__340.jpg',\n",
              " '/content/drive/My Drive/11-machine-learning/convolutional-NN/data/training_set/cars/car-show-581066__340.jpg',\n",
              " '/content/drive/My Drive/11-machine-learning/convolutional-NN/data/training_set/cars/asphalt-3679117__340.jpg',\n",
              " '/content/drive/My Drive/11-machine-learning/convolutional-NN/data/training_set/cars/car-828860__340.jpg',\n",
              " '/content/drive/My Drive/11-machine-learning/convolutional-NN/data/training_set/cars/automobile-1850862__340.jpg',\n",
              " '/content/drive/My Drive/11-machine-learning/convolutional-NN/data/training_set/cars/car-1081742__340.jpg',\n",
              " '/content/drive/My Drive/11-machine-learning/convolutional-NN/data/training_set/cars/automobile-3729767__340.jpg',\n",
              " '/content/drive/My Drive/11-machine-learning/convolutional-NN/data/training_set/cars/classic-car-1209334__340.jpg',\n",
              " '/content/drive/My Drive/11-machine-learning/convolutional-NN/data/training_set/cars/automobile-2087749__340.jpg',\n",
              " '/content/drive/My Drive/11-machine-learning/convolutional-NN/data/training_set/cars/auto-1515462__340.jpg',\n",
              " '/content/drive/My Drive/11-machine-learning/convolutional-NN/data/training_set/cars/amsterdam-916561__340.jpg',\n",
              " '/content/drive/My Drive/11-machine-learning/convolutional-NN/data/training_set/cars/car-1506922__340.jpg',\n",
              " '/content/drive/My Drive/11-machine-learning/convolutional-NN/data/training_set/cars/car-1245780__340.jpg']"
            ]
          },
          "metadata": {
            "tags": []
          },
          "execution_count": 45
        }
      ]
    },
    {
      "cell_type": "code",
      "metadata": {
        "id": "iw-yfNVdPACw",
        "colab_type": "code",
        "colab": {}
      },
      "source": [
        "img_path = fnames[3]"
      ],
      "execution_count": 0,
      "outputs": []
    },
    {
      "cell_type": "code",
      "metadata": {
        "id": "2_kufS1MPAC2",
        "colab_type": "code",
        "colab": {}
      },
      "source": [
        "img = image.load_img(img_path, target_size=(64, 64))"
      ],
      "execution_count": 0,
      "outputs": []
    },
    {
      "cell_type": "code",
      "metadata": {
        "id": "rT7ZI2qyPAC6",
        "colab_type": "code",
        "outputId": "dc953dc4-0fd1-4041-e3ed-277046aeb55e",
        "colab": {
          "base_uri": "https://localhost:8080/",
          "height": 81
        }
      },
      "source": [
        "img"
      ],
      "execution_count": 48,
      "outputs": [
        {
          "output_type": "execute_result",
          "data": {
            "image/png": "[encoded data removed]",
            "text/plain": [
              "<PIL.Image.Image image mode=RGB size=64x64 at 0x7F77CA0079E8>"
            ]
          },
          "metadata": {
            "tags": []
          },
          "execution_count": 48
        }
      ]
    },
    {
      "cell_type": "code",
      "metadata": {
        "id": "u94C4fO4PAC9",
        "colab_type": "code",
        "outputId": "c353e937-c428-40bf-d1fb-4c6df1a35260",
        "colab": {
          "base_uri": "https://localhost:8080/",
          "height": 850
        }
      },
      "source": [
        "x = image.img_to_array(img)\n",
        "x = x.reshape((1,) + x.shape)\n",
        "x"
      ],
      "execution_count": 49,
      "outputs": [
        {
          "output_type": "execute_result",
          "data": {
            "text/plain": [
              "array([[[[235., 243., 254.],\n",
              "         [234., 242., 253.],\n",
              "         [235., 243., 254.],\n",
              "         ...,\n",
              "         [226., 240., 253.],\n",
              "         [227., 239., 251.],\n",
              "         [226., 238., 250.]],\n",
              "\n",
              "        [[234., 242., 253.],\n",
              "         [233., 241., 252.],\n",
              "         [233., 241., 252.],\n",
              "         ...,\n",
              "         [226., 240., 253.],\n",
              "         [227., 239., 251.],\n",
              "         [226., 238., 250.]],\n",
              "\n",
              "        [[233., 241., 252.],\n",
              "         [233., 241., 252.],\n",
              "         [232., 240., 251.],\n",
              "         ...,\n",
              "         [226., 238., 250.],\n",
              "         [226., 238., 250.],\n",
              "         [226., 238., 250.]],\n",
              "\n",
              "        ...,\n",
              "\n",
              "        [[101., 115., 142.],\n",
              "         [ 98., 110., 136.],\n",
              "         [ 92., 104., 130.],\n",
              "         ...,\n",
              "         [ 71., 100.,  44.],\n",
              "         [ 87., 129.,  47.],\n",
              "         [ 91., 131.,  68.]],\n",
              "\n",
              "        [[105., 120., 149.],\n",
              "         [114., 128., 155.],\n",
              "         [101., 115., 144.],\n",
              "         ...,\n",
              "         [141., 144., 151.],\n",
              "         [ 98., 109.,  93.],\n",
              "         [ 91., 114.,  68.]],\n",
              "\n",
              "        [[ 98., 113., 142.],\n",
              "         [ 99., 115., 141.],\n",
              "         [104., 118., 147.],\n",
              "         ...,\n",
              "         [ 65.,  76.,  94.],\n",
              "         [ 83.,  90.,  96.],\n",
              "         [ 74.,  79.,  75.]]]], dtype=float32)"
            ]
          },
          "metadata": {
            "tags": []
          },
          "execution_count": 49
        }
      ]
    },
    {
      "cell_type": "code",
      "metadata": {
        "id": "S1j7-kraPADE",
        "colab_type": "code",
        "outputId": "c5990b69-f011-4a82-d473-a6422821859d",
        "colab": {
          "base_uri": "https://localhost:8080/",
          "height": 1000
        }
      },
      "source": [
        "# Remixing existing information\n",
        "\n",
        "i = 0\n",
        "for batch in datagen.flow(x, batch_size=1):\n",
        "    plt.figure(i)\n",
        "    imgplot = plt.imshow(image.array_to_img(batch[0]))\n",
        "    i += 1\n",
        "    if i % 4 == 0:\n",
        "        break\n",
        "\n",
        "plt.show()"
      ],
      "execution_count": 50,
      "outputs": [
        {
          "output_type": "display_data",
          "data": {
            "image/png": "[encoded data removed]",
            "text/plain": [
              "<Figure size 432x288 with 1 Axes>"
            ]
          },
          "metadata": {
            "tags": [],
            "needs_background": "light"
          }
        },
        {
          "output_type": "display_data",
          "data": {
            "image/png": "[encoded data removed]",
            "text/plain": [
              "<Figure size 432x288 with 1 Axes>"
            ]
          },
          "metadata": {
            "tags": [],
            "needs_background": "light"
          }
        },
        {
          "output_type": "display_data",
          "data": {
            "image/png": "[encoded data removed]",
            "text/plain": [
              "<Figure size 432x288 with 1 Axes>"
            ]
          },
          "metadata": {
            "tags": [],
            "needs_background": "light"
          }
        },
        {
          "output_type": "display_data",
          "data": {
            "image/png": "[encoded data removed]",
            "text/plain": [
              "<Figure size 432x288 with 1 Axes>"
            ]
          },
          "metadata": {
            "tags": [],
            "needs_background": "light"
          }
        }
      ]
    },
    {
      "cell_type": "markdown",
      "metadata": {
        "id": "Syl77tI1PADf",
        "colab_type": "text"
      },
      "source": [
        "### Trainable attribute set to False in order to freeze the convolutional base - this is done to prevent weights from updating during training"
      ]
    },
    {
      "cell_type": "markdown",
      "metadata": {
        "id": "IVJZHq79uTSa",
        "colab_type": "text"
      },
      "source": [
        "##Preventing overfitting: Using a pretrained network\n",
        "In a situation where not enough images exist for an effective sample size, one option is to use a pretrained network. In this example, VGG16 is used; which comes prepackaged with Keras.\n",
        "Essentially, this pretrained network is one that will previously have been trained on a large image database, and thus the weights of the VGG16 network are appropriately optimized for classification purposes. In this regard, VGG16 can be used in conjunction with the existing training data to improve the classification of the model.\n",
        "Using classification weights trained on the imagenet database, the model can be trained. Additionally, note that conv_base.trainable is set to False, in order to freeze the weights; i.e. prevent them from updating during training.\n",
        "Here is a summary of the model:"
      ]
    },
    {
      "cell_type": "code",
      "metadata": {
        "id": "bAHuCzfTPADf",
        "colab_type": "code",
        "colab": {}
      },
      "source": [
        "from tensorflow.keras.applications import VGG16\n",
        "\n",
        "conv_base = VGG16(weights='imagenet',\n",
        "                  include_top=False,\n",
        "                  input_shape=(64,64,3))\n",
        "\n",
        "conv_base.trainable=False"
      ],
      "execution_count": 0,
      "outputs": []
    },
    {
      "cell_type": "code",
      "metadata": {
        "id": "Wwbw7id_PADi",
        "colab_type": "code",
        "outputId": "09242179-89a9-4d1f-cdfc-fcd60dc5f809",
        "colab": {
          "base_uri": "https://localhost:8080/",
          "height": 799
        }
      },
      "source": [
        "conv_base.summary()"
      ],
      "execution_count": 67,
      "outputs": [
        {
          "output_type": "stream",
          "text": [
            "Model: \"vgg16\"\n",
            "_________________________________________________________________\n",
            "Layer (type)                 Output Shape              Param #   \n",
            "=================================================================\n",
            "input_5 (InputLayer)         [(None, 64, 64, 3)]       0         \n",
            "_________________________________________________________________\n",
            "block1_conv1 (Conv2D)        (None, 64, 64, 64)        1792      \n",
            "_________________________________________________________________\n",
            "block1_conv2 (Conv2D)        (None, 64, 64, 64)        36928     \n",
            "_________________________________________________________________\n",
            "block1_pool (MaxPooling2D)   (None, 32, 32, 64)        0         \n",
            "_________________________________________________________________\n",
            "block2_conv1 (Conv2D)        (None, 32, 32, 128)       73856     \n",
            "_________________________________________________________________\n",
            "block2_conv2 (Conv2D)        (None, 32, 32, 128)       147584    \n",
            "_________________________________________________________________\n",
            "block2_pool (MaxPooling2D)   (None, 16, 16, 128)       0         \n",
            "_________________________________________________________________\n",
            "block3_conv1 (Conv2D)        (None, 16, 16, 256)       295168    \n",
            "_________________________________________________________________\n",
            "block3_conv2 (Conv2D)        (None, 16, 16, 256)       590080    \n",
            "_________________________________________________________________\n",
            "block3_conv3 (Conv2D)        (None, 16, 16, 256)       590080    \n",
            "_________________________________________________________________\n",
            "block3_pool (MaxPooling2D)   (None, 8, 8, 256)         0         \n",
            "_________________________________________________________________\n",
            "block4_conv1 (Conv2D)        (None, 8, 8, 512)         1180160   \n",
            "_________________________________________________________________\n",
            "block4_conv2 (Conv2D)        (None, 8, 8, 512)         2359808   \n",
            "_________________________________________________________________\n",
            "block4_conv3 (Conv2D)        (None, 8, 8, 512)         2359808   \n",
            "_________________________________________________________________\n",
            "block4_pool (MaxPooling2D)   (None, 4, 4, 512)         0         \n",
            "_________________________________________________________________\n",
            "block5_conv1 (Conv2D)        (None, 4, 4, 512)         2359808   \n",
            "_________________________________________________________________\n",
            "block5_conv2 (Conv2D)        (None, 4, 4, 512)         2359808   \n",
            "_________________________________________________________________\n",
            "block5_conv3 (Conv2D)        (None, 4, 4, 512)         2359808   \n",
            "_________________________________________________________________\n",
            "block5_pool (MaxPooling2D)   (None, 2, 2, 512)         0         \n",
            "=================================================================\n",
            "Total params: 14,714,688\n",
            "Trainable params: 0\n",
            "Non-trainable params: 14,714,688\n",
            "_________________________________________________________________\n"
          ],
          "name": "stdout"
        }
      ]
    },
    {
      "cell_type": "markdown",
      "metadata": {
        "id": "UfaWDLY8u76p",
        "colab_type": "text"
      },
      "source": [
        "The Sequential model is defined, with Dropout introduced to further reduce overfitting, and the training and validation directories are defined."
      ]
    },
    {
      "cell_type": "code",
      "metadata": {
        "id": "gC9l5lV2PADk",
        "colab_type": "code",
        "colab": {}
      },
      "source": [
        "model = tf.keras.Sequential()\n",
        "model.add(conv_base)\n",
        "model.add(layers.Flatten())\n",
        "model.add(layers.Dropout(0.5))\n",
        "model.add(layers.Dense(512, activation='relu'))\n",
        "model.add(layers.Dense(1, activation='sigmoid'))"
      ],
      "execution_count": 0,
      "outputs": []
    },
    {
      "cell_type": "code",
      "metadata": {
        "id": "R6pN1qtMPADm",
        "colab_type": "code",
        "colab": {}
      },
      "source": [
        "from tensorflow.keras import optimizers\n",
        "\n",
        "model.compile(loss='binary_crossentropy',\n",
        "             optimizer=optimizers.RMSprop(lr=1e-4),\n",
        "             metrics=['acc'])"
      ],
      "execution_count": 0,
      "outputs": []
    },
    {
      "cell_type": "code",
      "metadata": {
        "id": "f7jZQn0RPADo",
        "colab_type": "code",
        "colab": {}
      },
      "source": [
        "train_dir = '/content/drive/My Drive/11-machine-learning/convolutional-NN/data/training_set'\n",
        "validation_dir = '/content/drive/My Drive/11-machine-learning/convolutional-NN/data/val_set'"
      ],
      "execution_count": 0,
      "outputs": []
    },
    {
      "cell_type": "code",
      "metadata": {
        "id": "l6gvUG4ePADq",
        "colab_type": "code",
        "colab": {}
      },
      "source": [
        "train_datagen = ImageDataGenerator(\n",
        "    rescale=1./255,\n",
        "    rotation_range=40,\n",
        "    width_shift_range=0.2,\n",
        "    height_shift_range=0.2,\n",
        "    shear_range=0.2,\n",
        "    zoom_range=0.2,\n",
        "    horizontal_flip=True,)\n",
        "\n",
        "val_datagen = ImageDataGenerator(rescale=1./255)"
      ],
      "execution_count": 0,
      "outputs": []
    },
    {
      "cell_type": "markdown",
      "metadata": {
        "id": "5xlU84mUvDYD",
        "colab_type": "text"
      },
      "source": [
        "The train and validation generators are defined, and the model is trained over 30 epochs:"
      ]
    },
    {
      "cell_type": "code",
      "metadata": {
        "id": "kIYYCMEAPADs",
        "colab_type": "code",
        "outputId": "cc443d6a-17a1-46e3-ccf4-7fa1b241d826",
        "colab": {
          "base_uri": "https://localhost:8080/",
          "height": 51
        }
      },
      "source": [
        "train_generator = train_datagen.flow_from_directory(\n",
        "    train_dir,\n",
        "    target_size=(64, 64),\n",
        "    batch_size=32,\n",
        "    class_mode='binary')\n",
        "\n",
        "validation_generator = val_datagen.flow_from_directory(\n",
        "    validation_dir,\n",
        "    target_size=(64, 64),\n",
        "    batch_size=32,\n",
        "    class_mode='binary')"
      ],
      "execution_count": 64,
      "outputs": [
        {
          "output_type": "stream",
          "text": [
            "Found 160 images belonging to 2 classes.\n",
            "Found 40 images belonging to 2 classes.\n"
          ],
          "name": "stdout"
        }
      ]
    },
    {
      "cell_type": "code",
      "metadata": {
        "id": "ikKsoahfPADv",
        "colab_type": "code",
        "outputId": "c9ff60e9-5349-4004-d4ab-d539bf84254c",
        "colab": {
          "base_uri": "https://localhost:8080/",
          "height": 1000
        }
      },
      "source": [
        "history = model.fit_generator(\n",
        "    train_generator,\n",
        "    steps_per_epoch=30,\n",
        "    epochs=30,\n",
        "    validation_data=validation_generator,\n",
        "    validation_steps=30)"
      ],
      "execution_count": 65,
      "outputs": [
        {
          "output_type": "stream",
          "text": [
            "Epoch 1/30\n",
            "30/30 [==============================] - 76s 3s/step - loss: 0.4804 - acc: 0.7844 - val_loss: 0.5273 - val_acc: 0.7250\n",
            "Epoch 2/30\n",
            "30/30 [==============================] - 76s 3s/step - loss: 0.3343 - acc: 0.8656 - val_loss: 0.4751 - val_acc: 0.7033\n",
            "Epoch 3/30\n",
            "30/30 [==============================] - 76s 3s/step - loss: 0.2948 - acc: 0.8833 - val_loss: 0.4201 - val_acc: 0.7000\n",
            "Epoch 4/30\n",
            "30/30 [==============================] - 76s 3s/step - loss: 0.2427 - acc: 0.9021 - val_loss: 0.3806 - val_acc: 0.7783\n",
            "Epoch 5/30\n",
            "30/30 [==============================] - 76s 3s/step - loss: 0.2206 - acc: 0.9073 - val_loss: 0.3722 - val_acc: 0.7500\n",
            "Epoch 6/30\n",
            "30/30 [==============================] - 76s 3s/step - loss: 0.1930 - acc: 0.9292 - val_loss: 0.3664 - val_acc: 0.8217\n",
            "Epoch 7/30\n",
            "30/30 [==============================] - 76s 3s/step - loss: 0.2113 - acc: 0.9083 - val_loss: 0.3549 - val_acc: 0.8250\n",
            "Epoch 8/30\n",
            "30/30 [==============================] - 76s 3s/step - loss: 0.1940 - acc: 0.9271 - val_loss: 0.3058 - val_acc: 0.8283\n",
            "Epoch 9/30\n",
            "30/30 [==============================] - 76s 3s/step - loss: 0.1749 - acc: 0.9250 - val_loss: 0.3316 - val_acc: 0.8500\n",
            "Epoch 10/30\n",
            "30/30 [==============================] - 76s 3s/step - loss: 0.1734 - acc: 0.9365 - val_loss: 0.2923 - val_acc: 0.8750\n",
            "Epoch 11/30\n",
            "30/30 [==============================] - 76s 3s/step - loss: 0.1624 - acc: 0.9354 - val_loss: 0.3065 - val_acc: 0.8750\n",
            "Epoch 12/30\n",
            "30/30 [==============================] - 75s 3s/step - loss: 0.1459 - acc: 0.9469 - val_loss: 0.2973 - val_acc: 0.8750\n",
            "Epoch 13/30\n",
            "30/30 [==============================] - 80s 3s/step - loss: 0.1670 - acc: 0.9375 - val_loss: 0.2631 - val_acc: 0.9000\n",
            "Epoch 14/30\n",
            "30/30 [==============================] - 75s 3s/step - loss: 0.1570 - acc: 0.9333 - val_loss: 0.2571 - val_acc: 0.9000\n",
            "Epoch 15/30\n",
            "30/30 [==============================] - 76s 3s/step - loss: 0.1399 - acc: 0.9469 - val_loss: 0.2651 - val_acc: 0.8750\n",
            "Epoch 16/30\n",
            "30/30 [==============================] - 75s 3s/step - loss: 0.1347 - acc: 0.9417 - val_loss: 0.2656 - val_acc: 0.8750\n",
            "Epoch 17/30\n",
            "30/30 [==============================] - 76s 3s/step - loss: 0.1415 - acc: 0.9469 - val_loss: 0.2463 - val_acc: 0.8750\n",
            "Epoch 18/30\n",
            "30/30 [==============================] - 76s 3s/step - loss: 0.1286 - acc: 0.9500 - val_loss: 0.2829 - val_acc: 0.9000\n",
            "Epoch 19/30\n",
            "30/30 [==============================] - 76s 3s/step - loss: 0.1387 - acc: 0.9510 - val_loss: 0.2670 - val_acc: 0.9000\n",
            "Epoch 20/30\n",
            "30/30 [==============================] - 81s 3s/step - loss: 0.1423 - acc: 0.9479 - val_loss: 0.2331 - val_acc: 0.8967\n",
            "Epoch 21/30\n",
            "30/30 [==============================] - 76s 3s/step - loss: 0.1026 - acc: 0.9604 - val_loss: 0.2483 - val_acc: 0.9000\n",
            "Epoch 22/30\n",
            "30/30 [==============================] - 76s 3s/step - loss: 0.1099 - acc: 0.9583 - val_loss: 0.2571 - val_acc: 0.9017\n",
            "Epoch 23/30\n",
            "30/30 [==============================] - 76s 3s/step - loss: 0.1290 - acc: 0.9375 - val_loss: 0.2225 - val_acc: 0.9000\n",
            "Epoch 24/30\n",
            "30/30 [==============================] - 76s 3s/step - loss: 0.1284 - acc: 0.9500 - val_loss: 0.2541 - val_acc: 0.8983\n",
            "Epoch 25/30\n",
            "30/30 [==============================] - 76s 3s/step - loss: 0.1236 - acc: 0.9594 - val_loss: 0.2502 - val_acc: 0.9000\n",
            "Epoch 26/30\n",
            "30/30 [==============================] - 76s 3s/step - loss: 0.1266 - acc: 0.9479 - val_loss: 0.2491 - val_acc: 0.9000\n",
            "Epoch 27/30\n",
            "30/30 [==============================] - 76s 3s/step - loss: 0.1227 - acc: 0.9573 - val_loss: 0.2393 - val_acc: 0.9000\n",
            "Epoch 28/30\n",
            "30/30 [==============================] - 76s 3s/step - loss: 0.1295 - acc: 0.9531 - val_loss: 0.2400 - val_acc: 0.9267\n",
            "Epoch 29/30\n",
            "30/30 [==============================] - 80s 3s/step - loss: 0.1158 - acc: 0.9583 - val_loss: 0.2234 - val_acc: 0.9000\n",
            "Epoch 30/30\n",
            "30/30 [==============================] - 76s 3s/step - loss: 0.1070 - acc: 0.9542 - val_loss: 0.2143 - val_acc: 0.9250\n"
          ],
          "name": "stdout"
        }
      ]
    },
    {
      "cell_type": "markdown",
      "metadata": {
        "id": "CnXXmsDpvIZY",
        "colab_type": "text"
      },
      "source": [
        "Let’s take a look at the model loss and accuracy:\n"
      ]
    },
    {
      "cell_type": "code",
      "metadata": {
        "id": "PPEq047cPADz",
        "colab_type": "code",
        "outputId": "e7829ee3-59c5-4073-87e4-0231ed01c27d",
        "colab": {
          "base_uri": "https://localhost:8080/",
          "height": 295
        }
      },
      "source": [
        "# Loss\n",
        "plt.plot(history.history['loss'])\n",
        "plt.plot(history.history['val_loss'])\n",
        "plt.title('model loss')\n",
        "plt.ylabel('loss')\n",
        "plt.xlabel('epoch')\n",
        "plt.legend(['loss', 'val_loss'], loc='upper left')\n",
        "plt.show()"
      ],
      "execution_count": 68,
      "outputs": [
        {
          "output_type": "display_data",
          "data": {
            "image/png": "[encoded data removed]",
            "text/plain": [
              "<Figure size 432x288 with 1 Axes>"
            ]
          },
          "metadata": {
            "tags": [],
            "needs_background": "light"
          }
        }
      ]
    },
    {
      "cell_type": "code",
      "metadata": {
        "id": "VLe-GZKGPAD1",
        "colab_type": "code",
        "outputId": "a2b5234a-62a8-4d4c-ced3-c2a9961e04bc",
        "colab": {
          "base_uri": "https://localhost:8080/",
          "height": 295
        }
      },
      "source": [
        "# Accuracy\n",
        "plt.plot(history.history['acc'])\n",
        "plt.plot(history.history['val_acc'])\n",
        "plt.title('model accuracy')\n",
        "plt.ylabel('accuracy')\n",
        "plt.xlabel('epoch')\n",
        "plt.legend(['acc', 'val_acc'], loc='upper left')\n",
        "plt.show()"
      ],
      "execution_count": 69,
      "outputs": [
        {
          "output_type": "display_data",
          "data": {
            "image/png": "[encoded data removed]",
            "text/plain": [
              "<Figure size 432x288 with 1 Axes>"
            ]
          },
          "metadata": {
            "tags": [],
            "needs_background": "light"
          }
        }
      ]
    },
    {
      "cell_type": "markdown",
      "metadata": {
        "id": "NiBgy6p8vYhT",
        "colab_type": "text"
      },
      "source": [
        "We can see that the validation accuracy has remained more or less the same, while the model loss has improved greatly. This indicates that the model is now less likely to overfit than previously."
      ]
    },
    {
      "cell_type": "markdown",
      "metadata": {
        "id": "N1Q4UyObPAD4",
        "colab_type": "text"
      },
      "source": [
        "# Generate predictions\n",
        "##Testing against unseen data\n",
        "The next step is to now test the prediction accuracy of the model against unseen data or test data (i.e. images that have not been used in either the training or validation sets).\n",
        "In the data/test folder, 15 unseen images (separate from the training and validation sets) are used for prediction purposes by the developed model. With cars having a label of 0 and planes having a label of 1, the prediction for each image is yielded.\n",
        "\n",
        "Here are two examples:\n",
        "##Prediction for plane image"
      ]
    },
    {
      "cell_type": "code",
      "metadata": {
        "id": "TE9cvyLMPAD4",
        "colab_type": "code",
        "outputId": "59d86bac-892a-466c-d9ac-617fc4b81f31",
        "colab": {
          "base_uri": "https://localhost:8080/",
          "height": 34
        }
      },
      "source": [
        "# car = 0, plane = 1\n",
        "\n",
        "# image = plane\n",
        "\n",
        "test_image = \\\n",
        "    image.load_img('/content/drive/My Drive/11-machine-learning/convolutional-NN/data/test/photo-1430402393301-f3b159a7a65a.jpg'\n",
        "                   , target_size=(64, 64))\n",
        "test_image = image.img_to_array(test_image)\n",
        "test_image = np.expand_dims(test_image, axis=0)\n",
        "result = classifier.predict(test_image)\n",
        "training_set.class_indices\n",
        "result"
      ],
      "execution_count": 71,
      "outputs": [
        {
          "output_type": "execute_result",
          "data": {
            "text/plain": [
              "array([[1.]], dtype=float32)"
            ]
          },
          "metadata": {
            "tags": []
          },
          "execution_count": 71
        }
      ]
    },
    {
      "cell_type": "markdown",
      "metadata": {
        "id": "Ztfbf4-ABlNW",
        "colab_type": "text"
      },
      "source": [
        "![](https://github.com/marivifs-teaching/python-class/blob/master/lectures/11-machine-learning/convolutional-NN/data/test/photo-1430402393301-f3b159a7a65a.jpg?raw=true)"
      ]
    },
    {
      "cell_type": "markdown",
      "metadata": {
        "id": "pfm7S01Zvp1A",
        "colab_type": "text"
      },
      "source": [
        "##Prediction for car image"
      ]
    },
    {
      "cell_type": "code",
      "metadata": {
        "id": "Z1zLWkYsPAD7",
        "colab_type": "code",
        "outputId": "8f0f41e4-e481-4f19-c632-b4b8e3547742",
        "colab": {
          "base_uri": "https://localhost:8080/",
          "height": 34
        }
      },
      "source": [
        "# car = 0, plane = 1\n",
        "\n",
        "# image = car\n",
        "\n",
        "test_image = \\\n",
        "    image.load_img('/content/drive/My Drive/11-machine-learning/convolutional-NN/data/test/photo-1542362567-b07e54358753.jpg'\n",
        "                   , target_size=(64, 64))\n",
        "test_image = image.img_to_array(test_image)\n",
        "test_image = np.expand_dims(test_image, axis=0)\n",
        "result = classifier.predict(test_image)\n",
        "training_set.class_indices\n",
        "result"
      ],
      "execution_count": 72,
      "outputs": [
        {
          "output_type": "execute_result",
          "data": {
            "text/plain": [
              "array([[0.]], dtype=float32)"
            ]
          },
          "metadata": {
            "tags": []
          },
          "execution_count": 72
        }
      ]
    },
    {
      "cell_type": "markdown",
      "metadata": {
        "id": "h2FDZ8n5CHVH",
        "colab_type": "text"
      },
      "source": [
        "![](https://github.com/marivifs-teaching/python-class/blob/master/lectures/11-machine-learning/convolutional-NN/data/test/photo-1542362567-b07e54358753.jpg?raw=true)\n"
      ]
    },
    {
      "cell_type": "code",
      "metadata": {
        "id": "fE-TseFlPAD9",
        "colab_type": "code",
        "colab": {}
      },
      "source": [
        "# car = 0, plane = 1\n",
        "\n",
        "# image = car\n",
        "\n",
        "test_image = \\\n",
        "    image.load_img('/content/drive/My Drive/11-machine-learning/convolutional-NN/data/test/photo-1541443131876-44b03de101c5.jpg'\n",
        "                   , target_size=(64, 64))\n",
        "test_image = image.img_to_array(test_image)\n",
        "test_image = np.expand_dims(test_image, axis=0)\n",
        "result = classifier.predict(test_image)\n",
        "training_set.class_indices\n",
        "result"
      ],
      "execution_count": 0,
      "outputs": []
    },
    {
      "cell_type": "code",
      "metadata": {
        "id": "ZXz6QlrmPAD_",
        "colab_type": "code",
        "colab": {}
      },
      "source": [
        "# car = 0, plane = 1\n",
        "\n",
        "# image = car\n",
        "\n",
        "test_image = \\\n",
        "    image.load_img('/content/drive/My Drive/11-machine-learning/convolutional-NN/data/test/photo-1532974297617-c0f05fe48bff.jpg'\n",
        "                   , target_size=(64, 64))\n",
        "test_image = image.img_to_array(test_image)\n",
        "test_image = np.expand_dims(test_image, axis=0)\n",
        "result = classifier.predict(test_image)\n",
        "training_set.class_indices\n",
        "result"
      ],
      "execution_count": 0,
      "outputs": []
    },
    {
      "cell_type": "code",
      "metadata": {
        "id": "n2GTyrzQPAEB",
        "colab_type": "code",
        "colab": {}
      },
      "source": [
        "# car = 0, plane = 1\n",
        "\n",
        "# image = car\n",
        "\n",
        "test_image = \\\n",
        "    image.load_img('/content/drive/My Drive/11-machine-learning/convolutional-NN/data/test/photo-1520340356584-f9917d1eea6f.jpg'\n",
        "                   , target_size=(64, 64))\n",
        "test_image = image.img_to_array(test_image)\n",
        "test_image = np.expand_dims(test_image, axis=0)\n",
        "result = classifier.predict(test_image)\n",
        "training_set.class_indices\n",
        "result"
      ],
      "execution_count": 0,
      "outputs": []
    },
    {
      "cell_type": "code",
      "metadata": {
        "id": "xIilL7SBPAED",
        "colab_type": "code",
        "colab": {}
      },
      "source": [
        "# car = 0, plane = 1\n",
        "\n",
        "# image = car\n",
        "\n",
        "test_image = \\\n",
        "    image.load_img('/content/drive/My Drive/11-machine-learning/convolutional-NN/data/test/photo-1519641471654-76ce0107ad1b.jpg'\n",
        "                   , target_size=(64, 64))\n",
        "test_image = image.img_to_array(test_image)\n",
        "test_image = np.expand_dims(test_image, axis=0)\n",
        "result = classifier.predict(test_image)\n",
        "training_set.class_indices\n",
        "result"
      ],
      "execution_count": 0,
      "outputs": []
    },
    {
      "cell_type": "code",
      "metadata": {
        "id": "QpTJPYG4PAEF",
        "colab_type": "code",
        "colab": {}
      },
      "source": [
        "# car = 0, plane = 1\n",
        "\n",
        "# image = plane\n",
        "\n",
        "test_image = \\\n",
        "    image.load_img('/content/drive/My Drive/11-machine-learning/convolutional-NN/data/test/photo-1512289984044-071903207f5e.jpg'\n",
        "                   , target_size=(64, 64))\n",
        "test_image = image.img_to_array(test_image)\n",
        "test_image = np.expand_dims(test_image, axis=0)\n",
        "result = classifier.predict(test_image)\n",
        "training_set.class_indices\n",
        "result"
      ],
      "execution_count": 0,
      "outputs": []
    },
    {
      "cell_type": "code",
      "metadata": {
        "id": "r6MVkD0PPAEH",
        "colab_type": "code",
        "colab": {}
      },
      "source": [
        "# car = 0, plane = 1\n",
        "\n",
        "# image = car\n",
        "\n",
        "test_image = \\\n",
        "    image.load_img('/content/drive/My Drive/11-machine-learning/convolutional-NN/data/test/photo-1511919884226-fd3cad34687c.jpg'\n",
        "                   , target_size=(64, 64))\n",
        "test_image = image.img_to_array(test_image)\n",
        "test_image = np.expand_dims(test_image, axis=0)\n",
        "result = classifier.predict(test_image)\n",
        "training_set.class_indices\n",
        "result"
      ],
      "execution_count": 0,
      "outputs": []
    },
    {
      "cell_type": "code",
      "metadata": {
        "id": "rpv3MQQ0PAEJ",
        "colab_type": "code",
        "colab": {}
      },
      "source": [
        "# car = 0, plane = 1\n",
        "\n",
        "# image = car\n",
        "\n",
        "test_image = \\\n",
        "    image.load_img('/content/drive/My Drive/11-machine-learning/convolutional-NN/data/test/photo-1502877338535-766e1452684a.jpg'\n",
        "                   , target_size=(64, 64))\n",
        "test_image = image.img_to_array(test_image)\n",
        "test_image = np.expand_dims(test_image, axis=0)\n",
        "result = classifier.predict(test_image)\n",
        "training_set.class_indices\n",
        "result"
      ],
      "execution_count": 0,
      "outputs": []
    },
    {
      "cell_type": "code",
      "metadata": {
        "id": "LXhP5UBcPAEM",
        "colab_type": "code",
        "colab": {}
      },
      "source": [
        "# car = 0, plane = 1\n",
        "\n",
        "# image = plane\n",
        "\n",
        "test_image = \\\n",
        "    image.load_img('/content/drive/My Drive/11-machine-learning/convolutional-NN/data/test/photo-1498423281417-af8aff4579dc.jpg'\n",
        "                   , target_size=(64, 64))\n",
        "test_image = image.img_to_array(test_image)\n",
        "test_image = np.expand_dims(test_image, axis=0)\n",
        "result = classifier.predict(test_image)\n",
        "training_set.class_indices\n",
        "result"
      ],
      "execution_count": 0,
      "outputs": []
    },
    {
      "cell_type": "code",
      "metadata": {
        "id": "iaZaUmLePAEQ",
        "colab_type": "code",
        "colab": {}
      },
      "source": [
        "# car = 0, plane = 1\n",
        "\n",
        "# image = car\n",
        "\n",
        "test_image = \\\n",
        "    image.load_img('/content/drive/My Drive/11-machine-learning/convolutional-NN/data/test/photo-1494905998402-395d579af36f.jpg'\n",
        "                   , target_size=(64, 64))\n",
        "test_image = image.img_to_array(test_image)\n",
        "test_image = np.expand_dims(test_image, axis=0)\n",
        "result = classifier.predict(test_image)\n",
        "training_set.class_indices\n",
        "result"
      ],
      "execution_count": 0,
      "outputs": []
    },
    {
      "cell_type": "code",
      "metadata": {
        "id": "QMAw4RsMPAES",
        "colab_type": "code",
        "colab": {}
      },
      "source": [
        "# car = 0, plane = 1\n",
        "\n",
        "# image = car\n",
        "\n",
        "test_image = \\\n",
        "    image.load_img('/content/drive/My Drive/11-machine-learning/convolutional-NN/data/test/photo-1489824904134-891ab64532f1.jpg'\n",
        "                   , target_size=(64, 64))\n",
        "test_image = image.img_to_array(test_image)\n",
        "test_image = np.expand_dims(test_image, axis=0)\n",
        "result = classifier.predict(test_image)\n",
        "training_set.class_indices\n",
        "result"
      ],
      "execution_count": 0,
      "outputs": []
    },
    {
      "cell_type": "code",
      "metadata": {
        "id": "8xoEh2aaPAEV",
        "colab_type": "code",
        "colab": {}
      },
      "source": [
        "# car = 0, plane = 1\n",
        "\n",
        "# image = plane\n",
        "\n",
        "test_image = \\\n",
        "    image.load_img('/content/drive/My Drive/11-machine-learning/convolutional-NN/data/test/photo-1483375801503-374c5f660610.jpg'\n",
        "                   , target_size=(64, 64))\n",
        "test_image = image.img_to_array(test_image)\n",
        "test_image = np.expand_dims(test_image, axis=0)\n",
        "result = classifier.predict(test_image)\n",
        "training_set.class_indices\n",
        "result"
      ],
      "execution_count": 0,
      "outputs": []
    },
    {
      "cell_type": "code",
      "metadata": {
        "id": "nD_U0yXSPAEX",
        "colab_type": "code",
        "colab": {}
      },
      "source": [
        "# car = 0, plane = 1\n",
        "\n",
        "# image = plane\n",
        "\n",
        "test_image = \\\n",
        "    image.load_img('/content/drive/My Drive/11-machine-learning/convolutional-NN/data/test/photo-1475088092121-b7d3cd6e1482.jpg'\n",
        "                   , target_size=(64, 64))\n",
        "test_image = image.img_to_array(test_image)\n",
        "test_image = np.expand_dims(test_image, axis=0)\n",
        "result = classifier.predict(test_image)\n",
        "training_set.class_indices\n",
        "result"
      ],
      "execution_count": 0,
      "outputs": []
    },
    {
      "cell_type": "code",
      "metadata": {
        "id": "yvUZVBWYPAEZ",
        "colab_type": "code",
        "colab": {}
      },
      "source": [
        "# car = 0, plane = 1\n",
        "\n",
        "# image = plane\n",
        "\n",
        "test_image = \\\n",
        "    image.load_img('/content/drive/My Drive/11-machine-learning/convolutional-NN/data/test/photo-1473862170180-84427c485aca.jpg'\n",
        "                   , target_size=(64, 64))\n",
        "test_image = image.img_to_array(test_image)\n",
        "test_image = np.expand_dims(test_image, axis=0)\n",
        "result = classifier.predict(test_image)\n",
        "training_set.class_indices\n",
        "result"
      ],
      "execution_count": 0,
      "outputs": []
    }
  ]
}