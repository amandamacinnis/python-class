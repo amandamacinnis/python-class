{
  "nbformat": 4,
  "nbformat_minor": 0,
  "metadata": {
    "colab": {
      "name": "COVID-19V2_csv.ipynb",
      "provenance": []
    },
    "kernelspec": {
      "name": "python3",
      "display_name": "Python 3"
    }
  },
  "cells": [
    {
      "cell_type": "markdown",
      "metadata": {
        "id": "zA3pSB7fkO_w",
        "colab_type": "text"
      },
      "source": [
        "# Version 2 of modelling covid-19\n",
        "\n",
        "In this version the full set of actualized data is downloaded directly. The\n",
        "goal of this notebook is to learn how to read csv files and select and plot\n",
        "specific parts of them\n",
        "\n",
        "## Data source\n",
        "This is the European Center for Disiease Control, which provide an updated data file with all the information that we could also obtain using our first method.\n",
        "This is already compiled into a file for you.\n",
        "https://opendata.ecdc.europa.eu/covid19/casedistribution/csv\n"
      ]
    },
    {
      "cell_type": "code",
      "metadata": {
        "id": "rjwAEWgToOXA",
        "colab_type": "code",
        "colab": {}
      },
      "source": [
        "import os\n",
        "from io import StringIO\n",
        "import requests\n",
        "import pandas as pd\n",
        "import numpy as np\n",
        "import matplotlib.pyplot as plt"
      ],
      "execution_count": 0,
      "outputs": []
    },
    {
      "cell_type": "code",
      "metadata": {
        "id": "TGJY9qaYoaDR",
        "colab_type": "code",
        "colab": {
          "base_uri": "https://localhost:8080/",
          "height": 255
        },
        "outputId": "a4fbfd27-3ffe-44d6-bc93-544c943655ec"
      },
      "source": [
        "url = \"https://opendata.ecdc.europa.eu/covid19/casedistribution/csv\"\n",
        "req = requests.get(url)\n",
        "data = StringIO(req.text)\n",
        "df = pd.read_csv(data)\n",
        "print(df)"
      ],
      "execution_count": 23,
      "outputs": [
        {
          "output_type": "stream",
          "text": [
            "         dateRep  day  month  ...  geoId  countryterritoryCode  popData2018\n",
            "0     06/04/2020    6      4  ...     AF                   AFG   37172386.0\n",
            "1     05/04/2020    5      4  ...     AF                   AFG   37172386.0\n",
            "2     04/04/2020    4      4  ...     AF                   AFG   37172386.0\n",
            "3     03/04/2020    3      4  ...     AF                   AFG   37172386.0\n",
            "4     02/04/2020    2      4  ...     AF                   AFG   37172386.0\n",
            "...          ...  ...    ...  ...    ...                   ...          ...\n",
            "9102  25/03/2020   25      3  ...     ZW                   ZWE   14439018.0\n",
            "9103  24/03/2020   24      3  ...     ZW                   ZWE   14439018.0\n",
            "9104  23/03/2020   23      3  ...     ZW                   ZWE   14439018.0\n",
            "9105  22/03/2020   22      3  ...     ZW                   ZWE   14439018.0\n",
            "9106  21/03/2020   21      3  ...     ZW                   ZWE   14439018.0\n",
            "\n",
            "[9107 rows x 10 columns]\n"
          ],
          "name": "stdout"
        }
      ]
    },
    {
      "cell_type": "markdown",
      "metadata": {
        "id": "SfDgieQzdrAb",
        "colab_type": "text"
      },
      "source": [
        "We have different ways of accesing the data. \n",
        "*.groupby is a very useful function:"
      ]
    },
    {
      "cell_type": "code",
      "metadata": {
        "id": "SoZDBzs9YYjl",
        "colab_type": "code",
        "colab": {}
      },
      "source": [
        "df.groupby('countriesAndTerritories').plot(x='dateRep',y='cases')"
      ],
      "execution_count": 0,
      "outputs": []
    },
    {
      "cell_type": "code",
      "metadata": {
        "id": "PQ77_uUGdTRt",
        "colab_type": "code",
        "colab": {}
      },
      "source": [
        "grouped = df.groupby('countriesAndTerritories')\n",
        "spain = grouped.get_group('Spain')"
      ],
      "execution_count": 0,
      "outputs": []
    },
    {
      "cell_type": "markdown",
      "metadata": {
        "id": "hZwgsZHQym4Z",
        "colab_type": "text"
      },
      "source": [
        "An alternative way of doing this:"
      ]
    },
    {
      "cell_type": "code",
      "metadata": {
        "id": "7oUgmO5JzHVC",
        "colab_type": "code",
        "colab": {
          "base_uri": "https://localhost:8080/",
          "height": 272
        },
        "outputId": "bdae77d4-107a-4ca2-96af-849496419b5b"
      },
      "source": [
        "# Let's see the information on the columns\n",
        "print(df.columns)\n",
        "# And rows\n",
        "print(df.index)\n",
        "# Now we can save the data for a specific country\n",
        "country_df = df[df.countriesAndTerritories == 'Spain']\n",
        "# Lets shfit the index range so as it starts in 1. But also we should change the \n",
        "# order, from first day to last date\n",
        "print(country_df.index)\n",
        "\n"
      ],
      "execution_count": 24,
      "outputs": [
        {
          "output_type": "stream",
          "text": [
            "Index(['dateRep', 'day', 'month', 'year', 'cases', 'deaths',\n",
            "       'countriesAndTerritories', 'geoId', 'countryterritoryCode',\n",
            "       'popData2018'],\n",
            "      dtype='object')\n",
            "RangeIndex(start=0, stop=9107, step=1)\n",
            "Int64Index([7789, 7790, 7791, 7792, 7793, 7794, 7795, 7796, 7797, 7798, 7799,\n",
            "            7800, 7801, 7802, 7803, 7804, 7805, 7806, 7807, 7808, 7809, 7810,\n",
            "            7811, 7812, 7813, 7814, 7815, 7816, 7817, 7818, 7819, 7820, 7821,\n",
            "            7822, 7823, 7824, 7825, 7826, 7827, 7828, 7829, 7830, 7831, 7832,\n",
            "            7833, 7834, 7835, 7836, 7837, 7838, 7839, 7840, 7841, 7842, 7843,\n",
            "            7844, 7845, 7846, 7847, 7848, 7849, 7850, 7851, 7852, 7853, 7854,\n",
            "            7855, 7856, 7857, 7858, 7859, 7860, 7861, 7862, 7863, 7864, 7865,\n",
            "            7866, 7867, 7868, 7869, 7870, 7871, 7872, 7873, 7874, 7875, 7876,\n",
            "            7877, 7878, 7879, 7880, 7881, 7882, 7883, 7884, 7885, 7886],\n",
            "           dtype='int64')\n"
          ],
          "name": "stdout"
        }
      ]
    },
    {
      "cell_type": "markdown",
      "metadata": {
        "id": "Utml_r6w5CpF",
        "colab_type": "text"
      },
      "source": [
        "The order now in the datafram has the most up to date data at the top. Let's reverse that."
      ]
    },
    {
      "cell_type": "code",
      "metadata": {
        "id": "jqyQDcSe5SgW",
        "colab_type": "code",
        "colab": {
          "base_uri": "https://localhost:8080/",
          "height": 204
        },
        "outputId": "52f93f8f-e328-4e01-d1eb-e1c92ac5f012"
      },
      "source": [
        "# First lets reverse all the rows\n",
        "country_df = country_df.iloc[::-1]\n",
        "# And now we reset the index\n",
        "country_df = country_df.reset_index()\n",
        "# lets look if this worked\n",
        "country_df.head()\n",
        "\n",
        "\n",
        "\n"
      ],
      "execution_count": 25,
      "outputs": [
        {
          "output_type": "execute_result",
          "data": {
            "text/html": [
              "<div>\n",
              "<style scoped>\n",
              "    .dataframe tbody tr th:only-of-type {\n",
              "        vertical-align: middle;\n",
              "    }\n",
              "\n",
              "    .dataframe tbody tr th {\n",
              "        vertical-align: top;\n",
              "    }\n",
              "\n",
              "    .dataframe thead th {\n",
              "        text-align: right;\n",
              "    }\n",
              "</style>\n",
              "<table border=\"1\" class=\"dataframe\">\n",
              "  <thead>\n",
              "    <tr style=\"text-align: right;\">\n",
              "      <th></th>\n",
              "      <th>index</th>\n",
              "      <th>dateRep</th>\n",
              "      <th>day</th>\n",
              "      <th>month</th>\n",
              "      <th>year</th>\n",
              "      <th>cases</th>\n",
              "      <th>deaths</th>\n",
              "      <th>countriesAndTerritories</th>\n",
              "      <th>geoId</th>\n",
              "      <th>countryterritoryCode</th>\n",
              "      <th>popData2018</th>\n",
              "    </tr>\n",
              "  </thead>\n",
              "  <tbody>\n",
              "    <tr>\n",
              "      <th>0</th>\n",
              "      <td>7886</td>\n",
              "      <td>31/12/2019</td>\n",
              "      <td>31</td>\n",
              "      <td>12</td>\n",
              "      <td>2019</td>\n",
              "      <td>0</td>\n",
              "      <td>0</td>\n",
              "      <td>Spain</td>\n",
              "      <td>ES</td>\n",
              "      <td>ESP</td>\n",
              "      <td>46723749.0</td>\n",
              "    </tr>\n",
              "    <tr>\n",
              "      <th>1</th>\n",
              "      <td>7885</td>\n",
              "      <td>01/01/2020</td>\n",
              "      <td>1</td>\n",
              "      <td>1</td>\n",
              "      <td>2020</td>\n",
              "      <td>0</td>\n",
              "      <td>0</td>\n",
              "      <td>Spain</td>\n",
              "      <td>ES</td>\n",
              "      <td>ESP</td>\n",
              "      <td>46723749.0</td>\n",
              "    </tr>\n",
              "    <tr>\n",
              "      <th>2</th>\n",
              "      <td>7884</td>\n",
              "      <td>02/01/2020</td>\n",
              "      <td>2</td>\n",
              "      <td>1</td>\n",
              "      <td>2020</td>\n",
              "      <td>0</td>\n",
              "      <td>0</td>\n",
              "      <td>Spain</td>\n",
              "      <td>ES</td>\n",
              "      <td>ESP</td>\n",
              "      <td>46723749.0</td>\n",
              "    </tr>\n",
              "    <tr>\n",
              "      <th>3</th>\n",
              "      <td>7883</td>\n",
              "      <td>03/01/2020</td>\n",
              "      <td>3</td>\n",
              "      <td>1</td>\n",
              "      <td>2020</td>\n",
              "      <td>0</td>\n",
              "      <td>0</td>\n",
              "      <td>Spain</td>\n",
              "      <td>ES</td>\n",
              "      <td>ESP</td>\n",
              "      <td>46723749.0</td>\n",
              "    </tr>\n",
              "    <tr>\n",
              "      <th>4</th>\n",
              "      <td>7882</td>\n",
              "      <td>04/01/2020</td>\n",
              "      <td>4</td>\n",
              "      <td>1</td>\n",
              "      <td>2020</td>\n",
              "      <td>0</td>\n",
              "      <td>0</td>\n",
              "      <td>Spain</td>\n",
              "      <td>ES</td>\n",
              "      <td>ESP</td>\n",
              "      <td>46723749.0</td>\n",
              "    </tr>\n",
              "  </tbody>\n",
              "</table>\n",
              "</div>"
            ],
            "text/plain": [
              "   index     dateRep  day  ...  geoId  countryterritoryCode  popData2018\n",
              "0   7886  31/12/2019   31  ...     ES                   ESP   46723749.0\n",
              "1   7885  01/01/2020    1  ...     ES                   ESP   46723749.0\n",
              "2   7884  02/01/2020    2  ...     ES                   ESP   46723749.0\n",
              "3   7883  03/01/2020    3  ...     ES                   ESP   46723749.0\n",
              "4   7882  04/01/2020    4  ...     ES                   ESP   46723749.0\n",
              "\n",
              "[5 rows x 11 columns]"
            ]
          },
          "metadata": {
            "tags": []
          },
          "execution_count": 25
        }
      ]
    },
    {
      "cell_type": "markdown",
      "metadata": {
        "id": "1IHoGfmO513w",
        "colab_type": "text"
      },
      "source": [
        "We can now do all the analysis we want on the data:"
      ]
    },
    {
      "cell_type": "code",
      "metadata": {
        "id": "j_JpY4X000kb",
        "colab_type": "code",
        "colab": {
          "base_uri": "https://localhost:8080/",
          "height": 221
        },
        "outputId": "f74c0db1-efb3-49ef-94f8-a037e33c9d6b"
      },
      "source": [
        "\n",
        "country_df.describe()\n",
        "# Total cases as of today:\n",
        "print(sum(country_df.cases))\n",
        "# cumulative sum\n",
        "#tmp = country_df.cases.cumsum\n",
        "country_df['sum_cases'] = country_df['cases'].cumsum()\n",
        "country_df['sum_deaths'] = country_df['deaths'].cumsum()\n",
        "country_df.head()\n",
        "\n",
        "\n"
      ],
      "execution_count": 38,
      "outputs": [
        {
          "output_type": "stream",
          "text": [
            "130759\n"
          ],
          "name": "stdout"
        },
        {
          "output_type": "execute_result",
          "data": {
            "text/html": [
              "<div>\n",
              "<style scoped>\n",
              "    .dataframe tbody tr th:only-of-type {\n",
              "        vertical-align: middle;\n",
              "    }\n",
              "\n",
              "    .dataframe tbody tr th {\n",
              "        vertical-align: top;\n",
              "    }\n",
              "\n",
              "    .dataframe thead th {\n",
              "        text-align: right;\n",
              "    }\n",
              "</style>\n",
              "<table border=\"1\" class=\"dataframe\">\n",
              "  <thead>\n",
              "    <tr style=\"text-align: right;\">\n",
              "      <th></th>\n",
              "      <th>index</th>\n",
              "      <th>dateRep</th>\n",
              "      <th>day</th>\n",
              "      <th>month</th>\n",
              "      <th>year</th>\n",
              "      <th>cases</th>\n",
              "      <th>deaths</th>\n",
              "      <th>countriesAndTerritories</th>\n",
              "      <th>geoId</th>\n",
              "      <th>countryterritoryCode</th>\n",
              "      <th>popData2018</th>\n",
              "      <th>sum_cases</th>\n",
              "      <th>sum_deaths</th>\n",
              "    </tr>\n",
              "  </thead>\n",
              "  <tbody>\n",
              "    <tr>\n",
              "      <th>0</th>\n",
              "      <td>7886</td>\n",
              "      <td>31/12/2019</td>\n",
              "      <td>31</td>\n",
              "      <td>12</td>\n",
              "      <td>2019</td>\n",
              "      <td>0</td>\n",
              "      <td>0</td>\n",
              "      <td>Spain</td>\n",
              "      <td>ES</td>\n",
              "      <td>ESP</td>\n",
              "      <td>46723749.0</td>\n",
              "      <td>0</td>\n",
              "      <td>0</td>\n",
              "    </tr>\n",
              "    <tr>\n",
              "      <th>1</th>\n",
              "      <td>7885</td>\n",
              "      <td>01/01/2020</td>\n",
              "      <td>1</td>\n",
              "      <td>1</td>\n",
              "      <td>2020</td>\n",
              "      <td>0</td>\n",
              "      <td>0</td>\n",
              "      <td>Spain</td>\n",
              "      <td>ES</td>\n",
              "      <td>ESP</td>\n",
              "      <td>46723749.0</td>\n",
              "      <td>0</td>\n",
              "      <td>0</td>\n",
              "    </tr>\n",
              "    <tr>\n",
              "      <th>2</th>\n",
              "      <td>7884</td>\n",
              "      <td>02/01/2020</td>\n",
              "      <td>2</td>\n",
              "      <td>1</td>\n",
              "      <td>2020</td>\n",
              "      <td>0</td>\n",
              "      <td>0</td>\n",
              "      <td>Spain</td>\n",
              "      <td>ES</td>\n",
              "      <td>ESP</td>\n",
              "      <td>46723749.0</td>\n",
              "      <td>0</td>\n",
              "      <td>0</td>\n",
              "    </tr>\n",
              "    <tr>\n",
              "      <th>3</th>\n",
              "      <td>7883</td>\n",
              "      <td>03/01/2020</td>\n",
              "      <td>3</td>\n",
              "      <td>1</td>\n",
              "      <td>2020</td>\n",
              "      <td>0</td>\n",
              "      <td>0</td>\n",
              "      <td>Spain</td>\n",
              "      <td>ES</td>\n",
              "      <td>ESP</td>\n",
              "      <td>46723749.0</td>\n",
              "      <td>0</td>\n",
              "      <td>0</td>\n",
              "    </tr>\n",
              "    <tr>\n",
              "      <th>4</th>\n",
              "      <td>7882</td>\n",
              "      <td>04/01/2020</td>\n",
              "      <td>4</td>\n",
              "      <td>1</td>\n",
              "      <td>2020</td>\n",
              "      <td>0</td>\n",
              "      <td>0</td>\n",
              "      <td>Spain</td>\n",
              "      <td>ES</td>\n",
              "      <td>ESP</td>\n",
              "      <td>46723749.0</td>\n",
              "      <td>0</td>\n",
              "      <td>0</td>\n",
              "    </tr>\n",
              "  </tbody>\n",
              "</table>\n",
              "</div>"
            ],
            "text/plain": [
              "   index     dateRep  day  ...  popData2018  sum_cases  sum_deaths\n",
              "0   7886  31/12/2019   31  ...   46723749.0          0           0\n",
              "1   7885  01/01/2020    1  ...   46723749.0          0           0\n",
              "2   7884  02/01/2020    2  ...   46723749.0          0           0\n",
              "3   7883  03/01/2020    3  ...   46723749.0          0           0\n",
              "4   7882  04/01/2020    4  ...   46723749.0          0           0\n",
              "\n",
              "[5 rows x 13 columns]"
            ]
          },
          "metadata": {
            "tags": []
          },
          "execution_count": 38
        }
      ]
    },
    {
      "cell_type": "code",
      "metadata": {
        "id": "5AJmOMGy9qsP",
        "colab_type": "code",
        "colab": {
          "base_uri": "https://localhost:8080/",
          "height": 296
        },
        "outputId": "5edff0cd-aa65-4422-a8dc-dcf98c7b1fb4"
      },
      "source": [
        "country_df.plot.scatter(x='index',y='sum_cases',marker='o')\n",
        "\n"
      ],
      "execution_count": 43,
      "outputs": [
        {
          "output_type": "execute_result",
          "data": {
            "text/plain": [
              "<matplotlib.axes._subplots.AxesSubplot at 0x7fd30a8ce128>"
            ]
          },
          "metadata": {
            "tags": []
          },
          "execution_count": 43
        },
        {
          "output_type": "display_data",
          "data": {
            "image/png": "[encoded data removed]",
            "text/plain": [
              "<Figure size 432x288 with 1 Axes>"
            ]
          },
          "metadata": {
            "tags": []
          }
        }
      ]
    },
    {
      "cell_type": "code",
      "metadata": {
        "id": "4bXwKVBmWdcz",
        "colab_type": "code",
        "colab": {}
      },
      "source": [
        ""
      ],
      "execution_count": 0,
      "outputs": []
    }
  ]
}