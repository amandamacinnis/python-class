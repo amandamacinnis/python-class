{
  "nbformat": 4,
  "nbformat_minor": 0,
  "metadata": {
    "colab": {
      "name": "Copy of COVID-PHY546.ipynb",
      "provenance": [],
      "toc_visible": true
    },
    "kernelspec": {
      "name": "python3",
      "display_name": "Python 3"
    }
  },
  "cells": [
    {
      "cell_type": "markdown",
      "metadata": {
        "id": "Rauk7ER4IaA_",
        "colab_type": "text"
      },
      "source": [
        "# **COVID-19 Modelling: Section 1**\n",
        "\n",
        "In this first section we will learn how to:\n",
        "1. Download multiple files from an url page\n",
        "2. Extracting data from a table inside a pdf file"
      ]
    },
    {
      "cell_type": "markdown",
      "metadata": {
        "id": "bQQxrhweEzA1",
        "colab_type": "text"
      },
      "source": [
        "## Modelling COVID epidemic and learning how to access to data\n",
        "This Notebook will be used to evaluate a number of learned python utilities and some new ones. We will be working with real data, and the goel of this is to make a useful and timely tool."
      ]
    },
    {
      "cell_type": "markdown",
      "metadata": {
        "id": "JxT1wdP1F7Pq",
        "colab_type": "text"
      },
      "source": [
        "## Downloading multiple Files\n",
        "\n",
        "We will be obtaining our data from the world head organization Situation Reports: https://www.who.int/emergencies/diseases/novel-coronavirus-2019/situation-reports/. These reports are updated daily. So we want to write a code that is up to date at any time we run it. For this we will need a procedure to download multiple pdf files from a web site.\n",
        "\n",
        "To do this we are going to make use of several libraries:\n",
        "* from bs4 import BeautifulSoup\n",
        " Beautiful Soup is a Python library for pulling data out of HTML and XML files. It works with your favorite parser to provide idiomatic ways of navigating, searching, and modifying the parse tree. It commonly saves programmers hours or days of work.\n",
        " See more in https://www.crummy.com/software/BeautifulSoup/bs4/doc/\n",
        "* import re\n",
        "Regular expressions (called REs, or regexes, or regex patterns) are essentially a tiny, highly specialized programming language embedded inside Python and made available through the re module. Using this little language, you specify the rules for the set of possible strings that you want to match; this set might contain English sentences, or e-mail addresses, or TeX commands, or anything you like. You can then ask questions such as “Does this string match the pattern?”, or “Is there a match for the pattern anywhere in this string?”. You can also use REs to modify a string or to split it apart in various ways.\n",
        "See more in https://docs.python.org/3/howto/regex.html\n",
        "* import os\n",
        "The OS module in python provides functions for interacting with the operating system. OS, comes under Python’s standard utility modules. This module provides a portable way of using operating system dependent functionality. \n",
        "See more in https://www.geeksforgeeks.org/os-module-python-examples/\n",
        "\n",
        "* import urllib\n",
        "Urllib module is the URL handling module for python. It is used to fetch URLs (Uniform Resource Locators). It uses the urlopen function and is able to fetch URLs using a variety of different protocols.\n",
        "See more in\n",
        "https://www.geeksforgeeks.org/python-urllib-module/\n"
      ]
    },
    {
      "cell_type": "code",
      "metadata": {
        "id": "H3TVh7VNEmYg",
        "colab_type": "code",
        "outputId": "450bab00-3ee6-40cf-dc74-f90e773a56c1",
        "colab": {
          "base_uri": "https://localhost:8080/",
          "height": 1000
        }
      },
      "source": [
        "from urllib import request\n",
        "from bs4 import BeautifulSoup\n",
        "import re\n",
        "import os\n",
        "import urllib\n",
        "import numpy as np\n",
        "\n",
        "\n",
        "# Lets make the directory to store the data\n",
        "# We use the os library for this\n",
        "def make1dir(dirname):\n",
        "  '''parameter: dirname  Name of directory to be created\n",
        "  '''\n",
        "  try:\n",
        "    # Create target Directory\n",
        "     os.mkdir(dirname)\n",
        "     print(\"Directory \" , dirname ,  \" Created \") \n",
        "  except FileExistsError:\n",
        "     print(\"Directory \" , dirname ,  \" already exists\")\n",
        "\n",
        "newdir = 'PHY546'\n",
        "make1dir(newdir)\n",
        "# we need a nested directory \n",
        "newdir = 'PHY546/COVID19'\n",
        "make1dir(newdir)\n",
        "\n",
        "# Now we use beautiful shop, re and urllib\n",
        "# \n",
        "\n",
        "url = \"https://www.who.int/emergencies/diseases/novel-coronavirus-2019/situation-reports/\"\n",
        "\n",
        "# open the url\n",
        "response = request.urlopen(url).read()\n",
        "# soup is now a beautifulsoup object object, which represents the document as a nested data structure: \n",
        "soup= BeautifulSoup(response, \"html.parser\")   \n",
        "# We are now going to find all the links to a pdf page within the page\n",
        "# we use .find_all and we use re.compile to find all the files that\n",
        "# contain the regular expression .pdf  \n",
        "links = soup.find_all('a', href=re.compile(r'(.pdf)'))\n",
        "\n",
        "\n",
        "\n",
        "# clean the pdf link names\n",
        "url_list = []\n",
        "for el in links:\n",
        "    print(el['href'])\n",
        "    if(el['href'].startswith('http')):\n",
        "        url_list.append(el['href'])\n",
        "    else:\n",
        "        url_list.append(\"https://www.who.int\" + el['href'])\n",
        "\n",
        "print(url_list)\n",
        "\n",
        "# download the pdfs to a specified location\n",
        "# In this case newdir\n",
        "for url in url_list:\n",
        "    #print(url)\n",
        "    #mydir = '/Users/marivi/Desktop/tmp/COVID19/'\n",
        "    mydir = newdir\n",
        "    fullfilename = os.path.join(mydir, url.replace(\"https://www.who.int/docs/default-source/coronaviruse/situation-reports/\", \"\"))\n",
        "    fullfilename = fullfilename[:fullfilename.find(\"pdf\")]+'pdf'\n",
        "    request.urlretrieve(url, fullfilename)\n"
      ],
      "execution_count": 1,
      "outputs": [
        {
          "output_type": "stream",
          "text": [
            "Directory  PHY546  Created \n",
            "Directory  PHY546/COVID19  Created \n",
            "/docs/default-source/coronaviruse/situation-reports/20200405-sitrep-76-covid-19.pdf?sfvrsn=6ecf0977_4\n",
            "/docs/default-source/coronaviruse/situation-reports/20200404-sitrep-75-covid-19.pdf?sfvrsn=99251b2b_4\n",
            "/docs/default-source/coronaviruse/situation-reports/20200403-sitrep-74-covid-19-mp.pdf?sfvrsn=4e043d03_14\n",
            "/docs/default-source/coronaviruse/situation-reports/20200402-sitrep-73-covid-19.pdf?sfvrsn=5ae25bc7_6\n",
            "/docs/default-source/coronaviruse/situation-reports/20200401-sitrep-72-covid-19.pdf?sfvrsn=3dd8971b_2\n",
            "/docs/default-source/coronaviruse/situation-reports/20200331-sitrep-71-covid-19.pdf?sfvrsn=4360e92b_8\n",
            "/docs/default-source/coronaviruse/situation-reports/20200331-sitrep-71-covid-19.pdf?sfvrsn=4360e92b_8\n",
            "/docs/default-source/coronaviruse/situation-reports/20200330-sitrep-70-covid-19.pdf?sfvrsn=7e0fe3f8_4\n",
            "/docs/default-source/coronaviruse/situation-reports/20200329-sitrep-69-covid-19.pdf?sfvrsn=8d6620fa_8\n",
            "/docs/default-source/coronaviruse/situation-reports/20200329-sitrep-69-covid-19.pdf?sfvrsn=8d6620fa_8\n",
            "/docs/default-source/coronaviruse/situation-reports/20200328-sitrep-68-covid-19.pdf?sfvrsn=384bc74c_8\n",
            "/docs/default-source/coronaviruse/situation-reports/20200327-sitrep-67-covid-19.pdf?sfvrsn=b65f68eb_4\n",
            "/docs/default-source/coronaviruse/situation-reports/20200326-sitrep-66-covid-19.pdf?sfvrsn=9e5b8b48_2\n",
            "/docs/default-source/coronaviruse/situation-reports/20200325-sitrep-65-covid-19.pdf?sfvrsn=ce13061b_2\n",
            "/docs/default-source/coronaviruse/situation-reports/20200324-sitrep-64-covid-19.pdf?sfvrsn=723b221e_2\n",
            "/docs/default-source/coronaviruse/situation-reports/20200323-sitrep-63-covid-19.pdf?sfvrsn=b617302d_4\n",
            "/docs/default-source/coronaviruse/situation-reports/20200323-sitrep-63-covid-19.pdf?sfvrsn=b617302d_4\n",
            "/docs/default-source/coronaviruse/situation-reports/20200322-sitrep-62-covid-19.pdf?sfvrsn=755c76cd_2\n",
            "/docs/default-source/coronaviruse/situation-reports/20200321-sitrep-61-covid-19.pdf?sfvrsn=ce5ca11c_2\n",
            "/docs/default-source/coronaviruse/situation-reports/20200320-sitrep-60-covid-19.pdf?sfvrsn=d2bb4f1f_2\n",
            "/docs/default-source/coronaviruse/situation-reports/20200319-sitrep-59-covid-19.pdf?sfvrsn=c3dcdef9_2\n",
            "/docs/default-source/coronaviruse/situation-reports/20200318-sitrep-58-covid-19.pdf?sfvrsn=20876712_2\n",
            "/docs/default-source/coronaviruse/situation-reports/20200317-sitrep-57-covid-19.pdf?sfvrsn=a26922f2_4\n",
            "/docs/default-source/coronaviruse/situation-reports/20200316-sitrep-56-covid-19.pdf?sfvrsn=9fda7db2_6\n",
            "/docs/default-source/coronaviruse/situation-reports/20200315-sitrep-55-covid-19.pdf?sfvrsn=33daa5cb_8\n",
            "/docs/default-source/coronaviruse/situation-reports/20200314-sitrep-54-covid-19.pdf?sfvrsn=dcd46351_8\n",
            "/docs/default-source/coronaviruse/situation-reports/20200313-sitrep-53-covid-19.pdf?sfvrsn=adb3f72_2\n",
            "/docs/default-source/coronaviruse/situation-reports/20200312-sitrep-52-covid-19.pdf?sfvrsn=e2bfc9c0_4\n",
            "/docs/default-source/coronaviruse/situation-reports/20200311-sitrep-51-covid-19.pdf?sfvrsn=1ba62e57_10\n",
            "/docs/default-source/coronaviruse/situation-reports/20200310-sitrep-50-covid-19.pdf?sfvrsn=55e904fb_2\n",
            "/docs/default-source/coronaviruse/situation-reports/20200309-sitrep-49-covid-19.pdf?sfvrsn=70dabe61_4\n",
            "/docs/default-source/coronaviruse/situation-reports/20200308-sitrep-48-covid-19.pdf?sfvrsn=16f7ccef_4\n",
            "/docs/default-source/coronaviruse/situation-reports/20200307-sitrep-47-covid-19.pdf?sfvrsn=27c364a4_4\n",
            "/docs/default-source/coronaviruse/situation-reports/20200306-sitrep-46-covid-19.pdf?sfvrsn=96b04adf_4\n",
            "/docs/default-source/coronaviruse/situation-reports/20200305-sitrep-45-covid-19.pdf?sfvrsn=ed2ba78b_4\n",
            "/docs/default-source/coronaviruse/situation-reports/20200304-sitrep-44-covid-19.pdf?sfvrsn=93937f92_6\n",
            "/docs/default-source/coronaviruse/situation-reports/20200303-sitrep-43-covid-19.pdf?sfvrsn=76e425ed_2\n",
            "/docs/default-source/coronaviruse/situation-reports/20200302-sitrep-42-covid-19.pdf?sfvrsn=224c1add_2\n",
            "/docs/default-source/coronaviruse/situation-reports/20200301-sitrep-41-covid-19.pdf?sfvrsn=6768306d_2\n",
            "/docs/default-source/coronaviruse/situation-reports/20200229-sitrep-40-covid-19.pdf?sfvrsn=849d0665_2\n",
            "/docs/default-source/coronaviruse/situation-reports/20200228-sitrep-39-covid-19.pdf?sfvrsn=5bbf3e7d_4\n",
            "/docs/default-source/coronaviruse/situation-reports/20200227-sitrep-38-covid-19.pdf?sfvrsn=2db7a09b_4\n",
            "/docs/default-source/coronaviruse/situation-reports/20200226-sitrep-37-covid-19.pdf?sfvrsn=2146841e_2\n",
            "/docs/default-source/coronaviruse/situation-reports/20200225-sitrep-36-covid-19.pdf?sfvrsn=2791b4e0_2\n",
            "/docs/default-source/coronaviruse/situation-reports/20200224-sitrep-35-covid-19.pdf?sfvrsn=1ac4218d_2\n",
            "/docs/default-source/coronaviruse/situation-reports/20200223-sitrep-34-covid-19.pdf?sfvrsn=44ff8fd3_2\n",
            "/docs/default-source/coronaviruse/situation-reports/20200222-sitrep-33-covid-19.pdf?sfvrsn=c9585c8f_4\n",
            "/docs/default-source/coronaviruse/situation-reports/20200221-sitrep-32-covid-19.pdf?sfvrsn=4802d089_2\n",
            "/docs/default-source/coronaviruse/situation-reports/20200220-sitrep-31-covid-19.pdf?sfvrsn=dfd11d24_2\n",
            "/docs/default-source/coronaviruse/situation-reports/20200219-sitrep-30-covid-19.pdf?sfvrsn=3346b04f_2\n",
            "/docs/default-source/coronaviruse/situation-reports/20200218-sitrep-29-covid-19.pdf?sfvrsn=6262de9e_2\n",
            "/docs/default-source/coronaviruse/situation-reports/20200217-sitrep-28-covid-19.pdf?sfvrsn=a19cf2ad_2\n",
            "/docs/default-source/coronaviruse/situation-reports/20200216-sitrep-27-covid-19.pdf?sfvrsn=78c0eb78_4\n",
            "/docs/default-source/coronaviruse/situation-reports/20200215-sitrep-26-covid-19.pdf?sfvrsn=a4cc6787_2\n",
            "/docs/default-source/coronaviruse/situation-reports/20200214-sitrep-25-covid-19.pdf?sfvrsn=61dda7d_2\n",
            "/docs/default-source/coronaviruse/situation-reports/20200213-sitrep-24-covid-19.pdf?sfvrsn=9a7406a4_4\n",
            "/docs/default-source/coronaviruse/situation-reports/20200212-sitrep-23-ncov.pdf?sfvrsn=41e9fb78_4\n",
            "/docs/default-source/coronaviruse/situation-reports/20200211-sitrep-22-ncov.pdf?sfvrsn=fb6d49b1_2\n",
            "/docs/default-source/coronaviruse/situation-reports/20200210-sitrep-21-ncov.pdf?sfvrsn=947679ef_2\n",
            "/docs/default-source/coronaviruse/situation-reports/20200209-sitrep-20-ncov.pdf?sfvrsn=6f80d1b9_4\n",
            "/docs/default-source/coronaviruse/situation-reports/20200208-sitrep-19-ncov.pdf?sfvrsn=6e091ce6_4\n",
            "/docs/default-source/coronaviruse/situation-reports/20200207-sitrep-18-ncov.pdf?sfvrsn=fa644293_2\n",
            "/docs/default-source/coronaviruse/situation-reports/20200206-sitrep-17-ncov.pdf?sfvrsn=17f0dca_4\n",
            "/docs/default-source/coronaviruse/situation-reports/20200205-sitrep-16-ncov.pdf?sfvrsn=23af287f_4\n",
            "/docs/default-source/coronaviruse/situation-reports/20200204-sitrep-15-ncov.pdf?sfvrsn=88fe8ad6_4\n",
            "/docs/default-source/coronaviruse/situation-reports/20200203-sitrep-14-ncov.pdf?sfvrsn=f7347413_4\n",
            "/docs/default-source/coronaviruse/situation-reports/20200203-sitrep-14-ncov.pdf?sfvrsn=f7347413_4\n",
            "/docs/default-source/coronaviruse/situation-reports/20200202-sitrep-13-ncov-v3.pdf?sfvrsn=195f4010_6\n",
            "/docs/default-source/coronaviruse/situation-reports/20200202-sitrep-13-ncov-v3.pdf?sfvrsn=195f4010_6\n",
            "/docs/default-source/coronaviruse/situation-reports/20200201-sitrep-12-ncov.pdf?sfvrsn=273c5d35_2\n",
            "/docs/default-source/coronaviruse/situation-reports/20200131-sitrep-11-ncov.pdf?sfvrsn=de7c0f7_4\n",
            "/docs/default-source/coronaviruse/situation-reports/20200130-sitrep-10-ncov.pdf?sfvrsn=d0b2e480_2\n",
            "/docs/default-source/coronaviruse/situation-reports/20200129-sitrep-9-ncov-v2.pdf?sfvrsn=e2c8915_2\n",
            "/docs/default-source/coronaviruse/situation-reports/20200128-sitrep-8-ncov-cleared.pdf?sfvrsn=8b671ce5_2\n",
            "/docs/default-source/coronaviruse/situation-reports/20200127-sitrep-7-2019--ncov.pdf?sfvrsn=98ef79f5_2\n",
            "/docs/default-source/coronaviruse/situation-reports/20200126-sitrep-6-2019--ncov.pdf?sfvrsn=beaeee0c_4\n",
            "/docs/default-source/coronaviruse/situation-reports/20200125-sitrep-5-2019-ncov.pdf?sfvrsn=429b143d_8\n",
            "/docs/default-source/coronaviruse/situation-reports/20200124-sitrep-4-2019-ncov.pdf?sfvrsn=9272d086_8\n",
            "/docs/default-source/coronaviruse/situation-reports/20200123-sitrep-3-2019-ncov.pdf?sfvrsn=d6d23643_8\n",
            "/docs/default-source/coronaviruse/situation-reports/20200122-sitrep-2-2019-ncov.pdf?sfvrsn=4d5bcbca_2\n",
            "/docs/default-source/coronaviruse/situation-reports/20200121-sitrep-1-2019-ncov.pdf?sfvrsn=20a99c10_4\n",
            "['https://www.who.int/docs/default-source/coronaviruse/situation-reports/20200405-sitrep-76-covid-19.pdf?sfvrsn=6ecf0977_4', 'https://www.who.int/docs/default-source/coronaviruse/situation-reports/20200404-sitrep-75-covid-19.pdf?sfvrsn=99251b2b_4', 'https://www.who.int/docs/default-source/coronaviruse/situation-reports/20200403-sitrep-74-covid-19-mp.pdf?sfvrsn=4e043d03_14', 'https://www.who.int/docs/default-source/coronaviruse/situation-reports/20200402-sitrep-73-covid-19.pdf?sfvrsn=5ae25bc7_6', 'https://www.who.int/docs/default-source/coronaviruse/situation-reports/20200401-sitrep-72-covid-19.pdf?sfvrsn=3dd8971b_2', 'https://www.who.int/docs/default-source/coronaviruse/situation-reports/20200331-sitrep-71-covid-19.pdf?sfvrsn=4360e92b_8', 'https://www.who.int/docs/default-source/coronaviruse/situation-reports/20200331-sitrep-71-covid-19.pdf?sfvrsn=4360e92b_8', 'https://www.who.int/docs/default-source/coronaviruse/situation-reports/20200330-sitrep-70-covid-19.pdf?sfvrsn=7e0fe3f8_4', 'https://www.who.int/docs/default-source/coronaviruse/situation-reports/20200329-sitrep-69-covid-19.pdf?sfvrsn=8d6620fa_8', 'https://www.who.int/docs/default-source/coronaviruse/situation-reports/20200329-sitrep-69-covid-19.pdf?sfvrsn=8d6620fa_8', 'https://www.who.int/docs/default-source/coronaviruse/situation-reports/20200328-sitrep-68-covid-19.pdf?sfvrsn=384bc74c_8', 'https://www.who.int/docs/default-source/coronaviruse/situation-reports/20200327-sitrep-67-covid-19.pdf?sfvrsn=b65f68eb_4', 'https://www.who.int/docs/default-source/coronaviruse/situation-reports/20200326-sitrep-66-covid-19.pdf?sfvrsn=9e5b8b48_2', 'https://www.who.int/docs/default-source/coronaviruse/situation-reports/20200325-sitrep-65-covid-19.pdf?sfvrsn=ce13061b_2', 'https://www.who.int/docs/default-source/coronaviruse/situation-reports/20200324-sitrep-64-covid-19.pdf?sfvrsn=723b221e_2', 'https://www.who.int/docs/default-source/coronaviruse/situation-reports/20200323-sitrep-63-covid-19.pdf?sfvrsn=b617302d_4', 'https://www.who.int/docs/default-source/coronaviruse/situation-reports/20200323-sitrep-63-covid-19.pdf?sfvrsn=b617302d_4', 'https://www.who.int/docs/default-source/coronaviruse/situation-reports/20200322-sitrep-62-covid-19.pdf?sfvrsn=755c76cd_2', 'https://www.who.int/docs/default-source/coronaviruse/situation-reports/20200321-sitrep-61-covid-19.pdf?sfvrsn=ce5ca11c_2', 'https://www.who.int/docs/default-source/coronaviruse/situation-reports/20200320-sitrep-60-covid-19.pdf?sfvrsn=d2bb4f1f_2', 'https://www.who.int/docs/default-source/coronaviruse/situation-reports/20200319-sitrep-59-covid-19.pdf?sfvrsn=c3dcdef9_2', 'https://www.who.int/docs/default-source/coronaviruse/situation-reports/20200318-sitrep-58-covid-19.pdf?sfvrsn=20876712_2', 'https://www.who.int/docs/default-source/coronaviruse/situation-reports/20200317-sitrep-57-covid-19.pdf?sfvrsn=a26922f2_4', 'https://www.who.int/docs/default-source/coronaviruse/situation-reports/20200316-sitrep-56-covid-19.pdf?sfvrsn=9fda7db2_6', 'https://www.who.int/docs/default-source/coronaviruse/situation-reports/20200315-sitrep-55-covid-19.pdf?sfvrsn=33daa5cb_8', 'https://www.who.int/docs/default-source/coronaviruse/situation-reports/20200314-sitrep-54-covid-19.pdf?sfvrsn=dcd46351_8', 'https://www.who.int/docs/default-source/coronaviruse/situation-reports/20200313-sitrep-53-covid-19.pdf?sfvrsn=adb3f72_2', 'https://www.who.int/docs/default-source/coronaviruse/situation-reports/20200312-sitrep-52-covid-19.pdf?sfvrsn=e2bfc9c0_4', 'https://www.who.int/docs/default-source/coronaviruse/situation-reports/20200311-sitrep-51-covid-19.pdf?sfvrsn=1ba62e57_10', 'https://www.who.int/docs/default-source/coronaviruse/situation-reports/20200310-sitrep-50-covid-19.pdf?sfvrsn=55e904fb_2', 'https://www.who.int/docs/default-source/coronaviruse/situation-reports/20200309-sitrep-49-covid-19.pdf?sfvrsn=70dabe61_4', 'https://www.who.int/docs/default-source/coronaviruse/situation-reports/20200308-sitrep-48-covid-19.pdf?sfvrsn=16f7ccef_4', 'https://www.who.int/docs/default-source/coronaviruse/situation-reports/20200307-sitrep-47-covid-19.pdf?sfvrsn=27c364a4_4', 'https://www.who.int/docs/default-source/coronaviruse/situation-reports/20200306-sitrep-46-covid-19.pdf?sfvrsn=96b04adf_4', 'https://www.who.int/docs/default-source/coronaviruse/situation-reports/20200305-sitrep-45-covid-19.pdf?sfvrsn=ed2ba78b_4', 'https://www.who.int/docs/default-source/coronaviruse/situation-reports/20200304-sitrep-44-covid-19.pdf?sfvrsn=93937f92_6', 'https://www.who.int/docs/default-source/coronaviruse/situation-reports/20200303-sitrep-43-covid-19.pdf?sfvrsn=76e425ed_2', 'https://www.who.int/docs/default-source/coronaviruse/situation-reports/20200302-sitrep-42-covid-19.pdf?sfvrsn=224c1add_2', 'https://www.who.int/docs/default-source/coronaviruse/situation-reports/20200301-sitrep-41-covid-19.pdf?sfvrsn=6768306d_2', 'https://www.who.int/docs/default-source/coronaviruse/situation-reports/20200229-sitrep-40-covid-19.pdf?sfvrsn=849d0665_2', 'https://www.who.int/docs/default-source/coronaviruse/situation-reports/20200228-sitrep-39-covid-19.pdf?sfvrsn=5bbf3e7d_4', 'https://www.who.int/docs/default-source/coronaviruse/situation-reports/20200227-sitrep-38-covid-19.pdf?sfvrsn=2db7a09b_4', 'https://www.who.int/docs/default-source/coronaviruse/situation-reports/20200226-sitrep-37-covid-19.pdf?sfvrsn=2146841e_2', 'https://www.who.int/docs/default-source/coronaviruse/situation-reports/20200225-sitrep-36-covid-19.pdf?sfvrsn=2791b4e0_2', 'https://www.who.int/docs/default-source/coronaviruse/situation-reports/20200224-sitrep-35-covid-19.pdf?sfvrsn=1ac4218d_2', 'https://www.who.int/docs/default-source/coronaviruse/situation-reports/20200223-sitrep-34-covid-19.pdf?sfvrsn=44ff8fd3_2', 'https://www.who.int/docs/default-source/coronaviruse/situation-reports/20200222-sitrep-33-covid-19.pdf?sfvrsn=c9585c8f_4', 'https://www.who.int/docs/default-source/coronaviruse/situation-reports/20200221-sitrep-32-covid-19.pdf?sfvrsn=4802d089_2', 'https://www.who.int/docs/default-source/coronaviruse/situation-reports/20200220-sitrep-31-covid-19.pdf?sfvrsn=dfd11d24_2', 'https://www.who.int/docs/default-source/coronaviruse/situation-reports/20200219-sitrep-30-covid-19.pdf?sfvrsn=3346b04f_2', 'https://www.who.int/docs/default-source/coronaviruse/situation-reports/20200218-sitrep-29-covid-19.pdf?sfvrsn=6262de9e_2', 'https://www.who.int/docs/default-source/coronaviruse/situation-reports/20200217-sitrep-28-covid-19.pdf?sfvrsn=a19cf2ad_2', 'https://www.who.int/docs/default-source/coronaviruse/situation-reports/20200216-sitrep-27-covid-19.pdf?sfvrsn=78c0eb78_4', 'https://www.who.int/docs/default-source/coronaviruse/situation-reports/20200215-sitrep-26-covid-19.pdf?sfvrsn=a4cc6787_2', 'https://www.who.int/docs/default-source/coronaviruse/situation-reports/20200214-sitrep-25-covid-19.pdf?sfvrsn=61dda7d_2', 'https://www.who.int/docs/default-source/coronaviruse/situation-reports/20200213-sitrep-24-covid-19.pdf?sfvrsn=9a7406a4_4', 'https://www.who.int/docs/default-source/coronaviruse/situation-reports/20200212-sitrep-23-ncov.pdf?sfvrsn=41e9fb78_4', 'https://www.who.int/docs/default-source/coronaviruse/situation-reports/20200211-sitrep-22-ncov.pdf?sfvrsn=fb6d49b1_2', 'https://www.who.int/docs/default-source/coronaviruse/situation-reports/20200210-sitrep-21-ncov.pdf?sfvrsn=947679ef_2', 'https://www.who.int/docs/default-source/coronaviruse/situation-reports/20200209-sitrep-20-ncov.pdf?sfvrsn=6f80d1b9_4', 'https://www.who.int/docs/default-source/coronaviruse/situation-reports/20200208-sitrep-19-ncov.pdf?sfvrsn=6e091ce6_4', 'https://www.who.int/docs/default-source/coronaviruse/situation-reports/20200207-sitrep-18-ncov.pdf?sfvrsn=fa644293_2', 'https://www.who.int/docs/default-source/coronaviruse/situation-reports/20200206-sitrep-17-ncov.pdf?sfvrsn=17f0dca_4', 'https://www.who.int/docs/default-source/coronaviruse/situation-reports/20200205-sitrep-16-ncov.pdf?sfvrsn=23af287f_4', 'https://www.who.int/docs/default-source/coronaviruse/situation-reports/20200204-sitrep-15-ncov.pdf?sfvrsn=88fe8ad6_4', 'https://www.who.int/docs/default-source/coronaviruse/situation-reports/20200203-sitrep-14-ncov.pdf?sfvrsn=f7347413_4', 'https://www.who.int/docs/default-source/coronaviruse/situation-reports/20200203-sitrep-14-ncov.pdf?sfvrsn=f7347413_4', 'https://www.who.int/docs/default-source/coronaviruse/situation-reports/20200202-sitrep-13-ncov-v3.pdf?sfvrsn=195f4010_6', 'https://www.who.int/docs/default-source/coronaviruse/situation-reports/20200202-sitrep-13-ncov-v3.pdf?sfvrsn=195f4010_6', 'https://www.who.int/docs/default-source/coronaviruse/situation-reports/20200201-sitrep-12-ncov.pdf?sfvrsn=273c5d35_2', 'https://www.who.int/docs/default-source/coronaviruse/situation-reports/20200131-sitrep-11-ncov.pdf?sfvrsn=de7c0f7_4', 'https://www.who.int/docs/default-source/coronaviruse/situation-reports/20200130-sitrep-10-ncov.pdf?sfvrsn=d0b2e480_2', 'https://www.who.int/docs/default-source/coronaviruse/situation-reports/20200129-sitrep-9-ncov-v2.pdf?sfvrsn=e2c8915_2', 'https://www.who.int/docs/default-source/coronaviruse/situation-reports/20200128-sitrep-8-ncov-cleared.pdf?sfvrsn=8b671ce5_2', 'https://www.who.int/docs/default-source/coronaviruse/situation-reports/20200127-sitrep-7-2019--ncov.pdf?sfvrsn=98ef79f5_2', 'https://www.who.int/docs/default-source/coronaviruse/situation-reports/20200126-sitrep-6-2019--ncov.pdf?sfvrsn=beaeee0c_4', 'https://www.who.int/docs/default-source/coronaviruse/situation-reports/20200125-sitrep-5-2019-ncov.pdf?sfvrsn=429b143d_8', 'https://www.who.int/docs/default-source/coronaviruse/situation-reports/20200124-sitrep-4-2019-ncov.pdf?sfvrsn=9272d086_8', 'https://www.who.int/docs/default-source/coronaviruse/situation-reports/20200123-sitrep-3-2019-ncov.pdf?sfvrsn=d6d23643_8', 'https://www.who.int/docs/default-source/coronaviruse/situation-reports/20200122-sitrep-2-2019-ncov.pdf?sfvrsn=4d5bcbca_2', 'https://www.who.int/docs/default-source/coronaviruse/situation-reports/20200121-sitrep-1-2019-ncov.pdf?sfvrsn=20a99c10_4']\n"
          ],
          "name": "stdout"
        }
      ]
    },
    {
      "cell_type": "code",
      "metadata": {
        "id": "U10D1g_xFtnP",
        "colab_type": "code",
        "outputId": "28b68714-d867-4b54-cb5f-46550a9116e5",
        "colab": {
          "base_uri": "https://localhost:8080/",
          "height": 1000
        }
      },
      "source": [
        "# We can see all the files downloaded (there might be others)\n",
        "for root, dirs, files in os.walk(\".\"):\n",
        "    for filename in files:\n",
        "        print(filename)\n",
        "\n"
      ],
      "execution_count": 2,
      "outputs": [
        {
          "output_type": "stream",
          "text": [
            "gce\n",
            "config_sentinel\n",
            ".last_survey_prompt.yaml\n",
            ".last_opt_in_prompt.yaml\n",
            ".last_update_check.json\n",
            "active_config\n",
            ".metricsUUID\n",
            "16.24.26.990500.log\n",
            "16.23.40.043713.log\n",
            "16.23.57.403439.log\n",
            "16.24.13.655529.log\n",
            "16.24.26.483358.log\n",
            "16.24.09.722063.log\n",
            "config_default\n",
            "20200128-sitrep-8-ncov-cleared.pdf\n",
            "20200122-sitrep-2-2019-ncov.pdf\n",
            "20200403-sitrep-74-covid-19-mp.pdf\n",
            "20200121-sitrep-1-2019-ncov.pdf\n",
            "20200212-sitrep-23-ncov.pdf\n",
            "20200326-sitrep-66-covid-19.pdf\n",
            "20200302-sitrep-42-covid-19.pdf\n",
            "20200317-sitrep-57-covid-19.pdf\n",
            "20200125-sitrep-5-2019-ncov.pdf\n",
            "20200322-sitrep-62-covid-19.pdf\n",
            "20200324-sitrep-64-covid-19.pdf\n",
            "20200220-sitrep-31-covid-19.pdf\n",
            "20200126-sitrep-6-2019--ncov.pdf\n",
            "20200214-sitrep-25-covid-19.pdf\n",
            "20200127-sitrep-7-2019--ncov.pdf\n",
            "20200315-sitrep-55-covid-19.pdf\n",
            "20200221-sitrep-32-covid-19.pdf\n",
            "20200329-sitrep-69-covid-19.pdf\n",
            "20200130-sitrep-10-ncov.pdf\n",
            "20200318-sitrep-58-covid-19.pdf\n",
            "20200124-sitrep-4-2019-ncov.pdf\n",
            "20200405-sitrep-76-covid-19.pdf\n",
            "20200321-sitrep-61-covid-19.pdf\n",
            "20200328-sitrep-68-covid-19.pdf\n",
            "20200331-sitrep-71-covid-19.pdf\n",
            "20200211-sitrep-22-ncov.pdf\n",
            "20200310-sitrep-50-covid-19.pdf\n",
            "20200227-sitrep-38-covid-19.pdf\n",
            "20200210-sitrep-21-ncov.pdf\n",
            "20200312-sitrep-52-covid-19.pdf\n",
            "20200123-sitrep-3-2019-ncov.pdf\n",
            "20200316-sitrep-56-covid-19.pdf\n",
            "20200217-sitrep-28-covid-19.pdf\n",
            "20200215-sitrep-26-covid-19.pdf\n",
            "20200301-sitrep-41-covid-19.pdf\n",
            "20200401-sitrep-72-covid-19.pdf\n",
            "20200308-sitrep-48-covid-19.pdf\n",
            "20200223-sitrep-34-covid-19.pdf\n",
            "20200304-sitrep-44-covid-19.pdf\n",
            "20200216-sitrep-27-covid-19.pdf\n",
            "20200204-sitrep-15-ncov.pdf\n",
            "20200307-sitrep-47-covid-19.pdf\n",
            "20200229-sitrep-40-covid-19.pdf\n",
            "20200207-sitrep-18-ncov.pdf\n",
            "20200209-sitrep-20-ncov.pdf\n",
            "20200219-sitrep-30-covid-19.pdf\n",
            "20200226-sitrep-37-covid-19.pdf\n",
            "20200203-sitrep-14-ncov.pdf\n",
            "20200309-sitrep-49-covid-19.pdf\n",
            "20200205-sitrep-16-ncov.pdf\n",
            "20200202-sitrep-13-ncov-v3.pdf\n",
            "20200206-sitrep-17-ncov.pdf\n",
            "20200303-sitrep-43-covid-19.pdf\n",
            "20200314-sitrep-54-covid-19.pdf\n",
            "20200306-sitrep-46-covid-19.pdf\n",
            "20200131-sitrep-11-ncov.pdf\n",
            "20200320-sitrep-60-covid-19.pdf\n",
            "20200222-sitrep-33-covid-19.pdf\n",
            "20200208-sitrep-19-ncov.pdf\n",
            "20200327-sitrep-67-covid-19.pdf\n",
            "20200129-sitrep-9-ncov-v2.pdf\n",
            "20200402-sitrep-73-covid-19.pdf\n",
            "20200313-sitrep-53-covid-19.pdf\n",
            "20200228-sitrep-39-covid-19.pdf\n",
            "20200319-sitrep-59-covid-19.pdf\n",
            "20200201-sitrep-12-ncov.pdf\n",
            "20200218-sitrep-29-covid-19.pdf\n",
            "20200404-sitrep-75-covid-19.pdf\n",
            "20200325-sitrep-65-covid-19.pdf\n",
            "20200224-sitrep-35-covid-19.pdf\n",
            "20200323-sitrep-63-covid-19.pdf\n",
            "20200330-sitrep-70-covid-19.pdf\n",
            "20200225-sitrep-36-covid-19.pdf\n",
            "20200213-sitrep-24-covid-19.pdf\n",
            "20200311-sitrep-51-covid-19.pdf\n",
            "20200305-sitrep-45-covid-19.pdf\n",
            "README.md\n",
            "anscombe.json\n",
            "mnist_test.csv\n",
            "california_housing_train.csv\n",
            "california_housing_test.csv\n",
            "mnist_train_small.csv\n"
          ],
          "name": "stdout"
        }
      ]
    },
    {
      "cell_type": "markdown",
      "metadata": {
        "id": "fD9q9mq6JQmo",
        "colab_type": "text"
      },
      "source": [
        "## Extracting data from PDF files, in particular from tables\n",
        "\n",
        "Now that we have downloaded the files we should read the tables. To do this we will use a library called tabula-py.\n",
        "Tabula-py is a simple Python wrapper of tabula-java, which can read the table of PDF. You can read tables from PDF and convert into pandas’ DataFrame. tabula-py also enables you to convert a PDF file into CSV/TSV/JSON file. A lot of what we will use is in here https://tabula-py.readthedocs.io/en/latest/\n",
        "\n",
        "### Check Java environment and install tabula-py\n",
        "tabula-py requires java environment so let's check the java environment on your machine.\n"
      ]
    },
    {
      "cell_type": "code",
      "metadata": {
        "id": "c0H-Q0udSoqE",
        "colab_type": "code",
        "outputId": "d7edd5d2-e326-4aec-a96a-0f1b42c5c402",
        "colab": {
          "base_uri": "https://localhost:8080/",
          "height": 343
        }
      },
      "source": [
        "!java -version\n",
        "# To be more precisely, it's better to use `{sys.executable} -m pip install tabula-py`\n",
        "!pip install -q tabula-py\n",
        "import tabula\n",
        "import pandas as pd\n",
        "\n",
        "tabula.environment_info()"
      ],
      "execution_count": 3,
      "outputs": [
        {
          "output_type": "stream",
          "text": [
            "openjdk version \"11.0.6\" 2020-01-14\n",
            "OpenJDK Runtime Environment (build 11.0.6+10-post-Ubuntu-1ubuntu118.04.1)\n",
            "OpenJDK 64-Bit Server VM (build 11.0.6+10-post-Ubuntu-1ubuntu118.04.1, mixed mode, sharing)\n",
            "\u001b[K     |████████████████████████████████| 10.4MB 435kB/s \n",
            "\u001b[?25hPython version:\n",
            "    3.6.9 (default, Nov  7 2019, 10:44:02) \n",
            "[GCC 8.3.0]\n",
            "Java version:\n",
            "    openjdk version \"11.0.6\" 2020-01-14\n",
            "OpenJDK Runtime Environment (build 11.0.6+10-post-Ubuntu-1ubuntu118.04.1)\n",
            "OpenJDK 64-Bit Server VM (build 11.0.6+10-post-Ubuntu-1ubuntu118.04.1, mixed mode, sharing)\n",
            "tabula-py version: 2.1.0\n",
            "platform: Linux-4.19.104+-x86_64-with-Ubuntu-18.04-bionic\n",
            "uname:\n",
            "    uname_result(system='Linux', node='8503449ab51d', release='4.19.104+', version='#1 SMP Wed Feb 19 05:26:34 PST 2020', machine='x86_64', processor='x86_64')\n",
            "linux_distribution: ('Ubuntu', '18.04', 'bionic')\n",
            "mac_ver: ('', ('', '', ''), '')\n",
            "    \n"
          ],
          "name": "stdout"
        }
      ]
    },
    {
      "cell_type": "code",
      "metadata": {
        "id": "cCwZyvozKMyq",
        "colab_type": "code",
        "outputId": "13f07020-e5f1-462e-ced6-5e9152503869",
        "colab": {
          "base_uri": "https://localhost:8080/",
          "height": 238
        }
      },
      "source": [
        "# Lets look a one of the reports\n",
        "pdf_path1 = \"/content/PHY546/COVID19/20200302-sitrep-42-covid-19.pdf\"\n",
        "data = tabula.read_pdf(pdf_path1, pages=\"3-7\",lattice=True, pandas_options={\"header\": [0, 1]}, stream=True)\n"
      ],
      "execution_count": 4,
      "outputs": [
        {
          "output_type": "stream",
          "text": [
            "Got stderr: Apr 06, 2020 5:12:39 PM org.apache.pdfbox.pdmodel.font.FileSystemFontProvider loadDiskCache\n",
            "WARNING: New fonts found, font cache will be re-built\n",
            "Apr 06, 2020 5:12:39 PM org.apache.pdfbox.pdmodel.font.FileSystemFontProvider <init>\n",
            "WARNING: Building on-disk font cache, this may take a while\n",
            "Apr 06, 2020 5:12:39 PM org.apache.pdfbox.pdmodel.font.FileSystemFontProvider <init>\n",
            "WARNING: Finished building on-disk font cache, found 17 fonts\n",
            "Apr 06, 2020 5:12:40 PM org.apache.pdfbox.pdmodel.font.PDCIDFontType2 <init>\n",
            "INFO: OpenType Layout tables used in font BCDHEE+Calibri-Bold are not implemented in PDFBox and will be ignored\n",
            "Apr 06, 2020 5:12:41 PM org.apache.pdfbox.pdmodel.font.PDCIDFontType2 <init>\n",
            "INFO: OpenType Layout tables used in font BCDGEE+Calibri are not implemented in PDFBox and will be ignored\n",
            "Apr 06, 2020 5:12:41 PM org.apache.pdfbox.pdmodel.font.PDCIDFontType2 <init>\n",
            "INFO: OpenType Layout tables used in font ArialMT are not implemented in PDFBox and will be ignored\n",
            "\n"
          ],
          "name": "stderr"
        }
      ]
    },
    {
      "cell_type": "code",
      "metadata": {
        "id": "zv9c9VhnBHRl",
        "colab_type": "code",
        "outputId": "f356618f-469f-475c-d187-9a5f0e19deb9",
        "colab": {
          "base_uri": "https://localhost:8080/",
          "height": 544
        }
      },
      "source": [
        "\n",
        "# Lets analyze the data, for example lets look for the row\n",
        "# that contained the data for a given country (Spain)\n",
        "#\n",
        "for item in data: # Data is a list of Pandas dataframes (df)\n",
        "  print(len(item)) # this will tell you how large is each of these dfs\n",
        "  for ind in item.index: # runs through the rows of the df\n",
        "    for col in item.columns: # runs thorugh the columns\n",
        "      if item[col][ind]=='Spain': # if it finds the name Spain in one df content\n",
        "        newdf = (item.iloc[[ind]]) # we saved the full row into a df (size 1xdf.columns)\n",
        "\n",
        "print(newdf)  # prints the row we saved that has the data we are looking for\n",
        "\n",
        "# We can write a function to search for the country we want:\n",
        "# Now we encapsulate the previous script into a function\n",
        "\n",
        "def find_country(country, data):\n",
        "    \"\"\" Utitily to analyze data obtained with tabula-py\n",
        "    Given a list of different dataframe types, returns a data frame containing\n",
        "    just a given row that matches the search string 'name'\n",
        "\n",
        "    Parameters:\n",
        "    -----------\n",
        "    country: str  name of the string to find in the list\n",
        "    data: list of pd Dataframes, the return of reading tables from a pdf\n",
        "          obtained with tabula-py\n",
        "    Returns:\n",
        "    --------\n",
        "    country_df: Target dataframe in the list\n",
        "                 with the row that matches the search string 'country'   \n",
        "\n",
        "     \"\"\"\n",
        "    for item in data:\n",
        "      for ind in item.index:\n",
        "        for col in item.columns:\n",
        "          if item[col][ind] == country:\n",
        "            country_df = (item.iloc[[ind]])\n",
        "            # The line below does not work in all cases so\n",
        "            #list_index = data.index(item)\n",
        "            #pd_idx = ind\n",
        "\n",
        "    return(country_df) \n",
        "\n",
        "\n",
        "\n"
      ],
      "execution_count": 5,
      "outputs": [
        {
          "output_type": "stream",
          "text": [
            "44\n",
            "4\n",
            "3\n",
            "2\n",
            "2\n",
            "2\n",
            "3\n",
            "2\n",
            "53\n",
            "2\n",
            "3\n",
            "3\n",
            "27\n",
            "2\n",
            "2\n",
            "2\n",
            "2\n",
            "2\n",
            "2\n",
            "1\n",
            "1\n",
            "1\n",
            "1\n",
            "1\n",
            "1\n",
            "1\n",
            "2\n",
            "       0   1  2  3  4                   5  6   ...  8    9   10   11  12   13  14\n",
            "19  Spain  45  0  0  0  Local transmission  1  ... NaN  NaN NaN  NaN NaN  NaN NaN\n",
            "\n",
            "[1 rows x 15 columns]\n"
          ],
          "name": "stdout"
        }
      ]
    },
    {
      "cell_type": "markdown",
      "metadata": {
        "id": "URGWinb3wtfJ",
        "colab_type": "text"
      },
      "source": [
        "## **Summary so far**\n",
        "\n",
        "We now have learned 2 separate things:\n",
        "* How to batch download all the files of a specific type from a given webpage\n",
        "* How to 'roughly' browse through all the data obtained from a list of tables\n",
        "which are returned by tabula-py reading a pdf file. This list of tables is a list of Pandas dataframes. We wrote a function  to locate the position of a target string within the list and within the dataframe\n",
        "\n",
        "### What we need to do next\n",
        "\n",
        "* Check that all the files we download maintain the same structure\n",
        "* identify the values for the columns and remove useless entries\n",
        "* locate the date from each pdf file\n",
        "* create a new dataframe with the data for a specific country ordered by date.\n",
        "* plot the data for a single country\n",
        "* plot the data for several countries\n",
        "* Analyze data?\n",
        "* Other suggestions?\n",
        "\n"
      ]
    },
    {
      "cell_type": "markdown",
      "metadata": {
        "id": "4zNh8BVuH-IM",
        "colab_type": "text"
      },
      "source": [
        "# **COVID-19 Modelling: Section 2**\n",
        "\n",
        "I'm keeping everything in the same notebook because otherwise we need to load libraries again. Hence this is going to be a very long notebook!\n",
        "\n",
        "Today we will make more use of Pandas Dataframes. \n"
      ]
    },
    {
      "cell_type": "code",
      "metadata": {
        "id": "rXpNeqNMM3yz",
        "colab_type": "code",
        "outputId": "d2e9a5e7-232b-42a7-a989-0a98fcfc2f61",
        "colab": {
          "base_uri": "https://localhost:8080/",
          "height": 85
        }
      },
      "source": [
        "# We can test the function find_country \n",
        "name = 'France'\n",
        "test_df = find_country(name, data) # this returns what we need to obtain the country information\n",
        "print(test_df) "
      ],
      "execution_count": 6,
      "outputs": [
        {
          "output_type": "stream",
          "text": [
            "        0    1  2  3  4                   5  6   ...  8    9   10   11  12   13  14\n",
            "18  France  100  0  2  0  Local transmission  1  ... NaN  NaN NaN  NaN NaN  NaN NaN\n",
            "\n",
            "[1 rows x 15 columns]\n"
          ],
          "name": "stdout"
        }
      ]
    },
    {
      "cell_type": "markdown",
      "metadata": {
        "id": "7VdKD7bGOPNX",
        "colab_type": "text"
      },
      "source": [
        "One of the problem with the WHO data is that they changed the format of the files. Before March 2nd the files were more China oriented. After March 2nd the new strucutre of the relevant column changes. We will analyze data after that date.\n",
        "\n",
        "## Indexing and selecting data in a df\n",
        "\n",
        "We want to extract the numbers in colums labelled \"1 2 3 4\", these\n",
        "data corresponds to the following information:\n",
        "* \"1\" →  **Total number of cases**\n",
        "* \"2\" →  **Total number of new cases**\n",
        "* \"3\" →  **Total number of deads**\n",
        "* \"4\" →  **Total number of new deads**\n",
        "\n"
      ]
    },
    {
      "cell_type": "markdown",
      "metadata": {
        "id": "U5h9Q2KDhamR",
        "colab_type": "text"
      },
      "source": [
        "Let's create a Dataframe ourselves and understand it:"
      ]
    },
    {
      "cell_type": "code",
      "metadata": {
        "id": "xLdnQN41hLUl",
        "colab_type": "code",
        "outputId": "788bebfa-6770-4931-e0c7-5a22624f489a",
        "colab": {
          "base_uri": "https://localhost:8080/",
          "height": 297
        }
      },
      "source": [
        "dates = pd.date_range('1/1/2000', periods=8)\n",
        "df = pd.DataFrame(np.random.randn(8, 4), index=dates, columns=['A', 'B', 'C', 'D'])\n",
        "df"
      ],
      "execution_count": 7,
      "outputs": [
        {
          "output_type": "execute_result",
          "data": {
            "text/html": [
              "<div>\n",
              "<style scoped>\n",
              "    .dataframe tbody tr th:only-of-type {\n",
              "        vertical-align: middle;\n",
              "    }\n",
              "\n",
              "    .dataframe tbody tr th {\n",
              "        vertical-align: top;\n",
              "    }\n",
              "\n",
              "    .dataframe thead th {\n",
              "        text-align: right;\n",
              "    }\n",
              "</style>\n",
              "<table border=\"1\" class=\"dataframe\">\n",
              "  <thead>\n",
              "    <tr style=\"text-align: right;\">\n",
              "      <th></th>\n",
              "      <th>A</th>\n",
              "      <th>B</th>\n",
              "      <th>C</th>\n",
              "      <th>D</th>\n",
              "    </tr>\n",
              "  </thead>\n",
              "  <tbody>\n",
              "    <tr>\n",
              "      <th>2000-01-01</th>\n",
              "      <td>-0.162270</td>\n",
              "      <td>-1.710181</td>\n",
              "      <td>0.433421</td>\n",
              "      <td>-1.367815</td>\n",
              "    </tr>\n",
              "    <tr>\n",
              "      <th>2000-01-02</th>\n",
              "      <td>1.427242</td>\n",
              "      <td>-0.273578</td>\n",
              "      <td>-0.709708</td>\n",
              "      <td>0.679599</td>\n",
              "    </tr>\n",
              "    <tr>\n",
              "      <th>2000-01-03</th>\n",
              "      <td>-0.980891</td>\n",
              "      <td>0.728229</td>\n",
              "      <td>0.849695</td>\n",
              "      <td>-0.596621</td>\n",
              "    </tr>\n",
              "    <tr>\n",
              "      <th>2000-01-04</th>\n",
              "      <td>0.915468</td>\n",
              "      <td>-1.270308</td>\n",
              "      <td>-1.453919</td>\n",
              "      <td>0.284929</td>\n",
              "    </tr>\n",
              "    <tr>\n",
              "      <th>2000-01-05</th>\n",
              "      <td>1.610733</td>\n",
              "      <td>-0.809616</td>\n",
              "      <td>-1.776276</td>\n",
              "      <td>-1.456572</td>\n",
              "    </tr>\n",
              "    <tr>\n",
              "      <th>2000-01-06</th>\n",
              "      <td>1.066221</td>\n",
              "      <td>1.544161</td>\n",
              "      <td>-0.898459</td>\n",
              "      <td>-0.230327</td>\n",
              "    </tr>\n",
              "    <tr>\n",
              "      <th>2000-01-07</th>\n",
              "      <td>-0.812182</td>\n",
              "      <td>-0.325296</td>\n",
              "      <td>-1.944508</td>\n",
              "      <td>-0.340699</td>\n",
              "    </tr>\n",
              "    <tr>\n",
              "      <th>2000-01-08</th>\n",
              "      <td>0.661417</td>\n",
              "      <td>-0.282542</td>\n",
              "      <td>0.400514</td>\n",
              "      <td>-0.742542</td>\n",
              "    </tr>\n",
              "  </tbody>\n",
              "</table>\n",
              "</div>"
            ],
            "text/plain": [
              "                   A         B         C         D\n",
              "2000-01-01 -0.162270 -1.710181  0.433421 -1.367815\n",
              "2000-01-02  1.427242 -0.273578 -0.709708  0.679599\n",
              "2000-01-03 -0.980891  0.728229  0.849695 -0.596621\n",
              "2000-01-04  0.915468 -1.270308 -1.453919  0.284929\n",
              "2000-01-05  1.610733 -0.809616 -1.776276 -1.456572\n",
              "2000-01-06  1.066221  1.544161 -0.898459 -0.230327\n",
              "2000-01-07 -0.812182 -0.325296 -1.944508 -0.340699\n",
              "2000-01-08  0.661417 -0.282542  0.400514 -0.742542"
            ]
          },
          "metadata": {
            "tags": []
          },
          "execution_count": 7
        }
      ]
    },
    {
      "cell_type": "markdown",
      "metadata": {
        "id": "Pe-d8qAph1mm",
        "colab_type": "text"
      },
      "source": [
        "Let's evaluate different ways of slicing the dataframe. We can use the ```[] ``` operator or one of the .loc operator.\n",
        "Pandas now supports three types of multi-axis indexing.\n",
        "\n",
        "* .loc is primarily label based, but may also be used with a boolean array. .loc will raise KeyError when the items are not found. Allowed inputs are:\n",
        "\n",
        "  * A single label, e.g. 5 or 'a' (Note that 5 is interpreted as a label of the index. This use is not an integer position along the index.).\n",
        "  * A list or array of labels ```['a', 'b', 'c']```.\n",
        "  * A slice object with labels 'a':'f' (Note that contrary to usual python slices, both the start and the stop are included, when present in the index! See Slicing with labels and Endpoints are inclusive.)\n",
        "  * A boolean array (any NA values will be treated as False).\n",
        "  * A callable function with one argument (the calling Series or DataFrame) and that returns valid output for indexing (one of the above).\n",
        "\n",
        "\n",
        "* .iloc is primarily integer position based (from 0 to length-1 of the axis), but may also be used with a boolean array. .iloc will raise IndexError if a requested indexer is out-of-bounds, except slice indexers which allow out-of-bounds indexing. (this conforms with Python/NumPy slice semantics). Allowed inputs are:\n",
        "\n",
        "  * An integer e.g. 5.\n",
        "  * A list or array of integers ```[4, 3, 0]```.\n",
        "  * A slice object with ints 1:7.\n",
        "  * A boolean array (any NA values will be treated as False).\n",
        "  * A callable function with one argument (the calling Series or DataFrame) and that returns valid output for indexing (one of the above).\n",
        "\n",
        "\n",
        ".loc, .iloc, and also ```[]``` indexing can accept a callable as indexer. \n",
        "Getting values from an object with multi-axes selection uses the following notation (using .loc as an example, but the following applies to .iloc as well). Any of the axes accessors may be the null slice :. Axes left out of the specification are assumed to be :, e.g. ```p.loc['a']``` is equivalent to ```p.loc['a', :, :]```.\n",
        "\n",
        "\n"
      ]
    },
    {
      "cell_type": "code",
      "metadata": {
        "id": "oa9YJLn93Ttf",
        "colab_type": "code",
        "outputId": "1d7362ed-a920-4b50-f9ea-787c4dcb3bf2",
        "colab": {
          "base_uri": "https://localhost:8080/",
          "height": 255
        }
      },
      "source": [
        "print(df['A'])\n",
        "# This will print the row in position 1 (second) displayed in column format.\n",
        "print(df.iloc[1])"
      ],
      "execution_count": 8,
      "outputs": [
        {
          "output_type": "stream",
          "text": [
            "2000-01-01   -0.162270\n",
            "2000-01-02    1.427242\n",
            "2000-01-03   -0.980891\n",
            "2000-01-04    0.915468\n",
            "2000-01-05    1.610733\n",
            "2000-01-06    1.066221\n",
            "2000-01-07   -0.812182\n",
            "2000-01-08    0.661417\n",
            "Freq: D, Name: A, dtype: float64\n",
            "A    1.427242\n",
            "B   -0.273578\n",
            "C   -0.709708\n",
            "D    0.679599\n",
            "Name: 2000-01-02 00:00:00, dtype: float64\n"
          ],
          "name": "stdout"
        }
      ]
    },
    {
      "cell_type": "markdown",
      "metadata": {
        "id": "dfhZDx3LNgXV",
        "colab_type": "text"
      },
      "source": [
        "Lets now try to work with our onw data extracted from the pdf.\n",
        "We have saved the data for France into test_df. It is a pd made of a single row."
      ]
    },
    {
      "cell_type": "code",
      "metadata": {
        "id": "ELS_ojZYK5ak",
        "colab_type": "code",
        "outputId": "8a776f63-313b-4440-f5f3-222bd60f8519",
        "colab": {
          "base_uri": "https://localhost:8080/",
          "height": 731
        }
      },
      "source": [
        "print(test_df)\n",
        "# If we do the same with our test_df pd (the one that stores France data)\n",
        "print(test_df.iloc[0])\n",
        "# We can convert the pd into a series using the sqeeze function\n",
        "newdf = test_df.squeeze()\n",
        "print(newdf)\n",
        "#Notice that now this is like a single array, hence we can slice it as we do\n",
        "# with regular np arrays\n",
        "print(newdf[0:5])\n"
      ],
      "execution_count": 9,
      "outputs": [
        {
          "output_type": "stream",
          "text": [
            "        0    1  2  3  4                   5  6   ...  8    9   10   11  12   13  14\n",
            "18  France  100  0  2  0  Local transmission  1  ... NaN  NaN NaN  NaN NaN  NaN NaN\n",
            "\n",
            "[1 rows x 15 columns]\n",
            "0                 France\n",
            "1                    100\n",
            "2                      0\n",
            "3                      2\n",
            "4                      0\n",
            "5     Local transmission\n",
            "6                      1\n",
            "7                    NaN\n",
            "8                    NaN\n",
            "9                    NaN\n",
            "10                   NaN\n",
            "11                   NaN\n",
            "12                   NaN\n",
            "13                   NaN\n",
            "14                   NaN\n",
            "Name: 18, dtype: object\n",
            "0                 France\n",
            "1                    100\n",
            "2                      0\n",
            "3                      2\n",
            "4                      0\n",
            "5     Local transmission\n",
            "6                      1\n",
            "7                    NaN\n",
            "8                    NaN\n",
            "9                    NaN\n",
            "10                   NaN\n",
            "11                   NaN\n",
            "12                   NaN\n",
            "13                   NaN\n",
            "14                   NaN\n",
            "Name: 18, dtype: object\n",
            "0    France\n",
            "1       100\n",
            "2         0\n",
            "3         2\n",
            "4         0\n",
            "Name: 18, dtype: object\n"
          ],
          "name": "stdout"
        }
      ]
    },
    {
      "cell_type": "code",
      "metadata": {
        "id": "88Sy5TScN7hO",
        "colab_type": "code",
        "outputId": "be798104-622f-4492-b0c8-f0b2ca15be2e",
        "colab": {
          "base_uri": "https://localhost:8080/",
          "height": 102
        }
      },
      "source": [
        "# WE could have done the same using the iloc function\n",
        "print(test_df.iloc[0][1:5])"
      ],
      "execution_count": 10,
      "outputs": [
        {
          "output_type": "stream",
          "text": [
            "1    100\n",
            "2      0\n",
            "3      2\n",
            "4      0\n",
            "Name: 18, dtype: object\n"
          ],
          "name": "stdout"
        }
      ]
    },
    {
      "cell_type": "markdown",
      "metadata": {
        "id": "24WM_GrzBfce",
        "colab_type": "text"
      },
      "source": [
        "## Organizing data from multiple dataframes into a single one\n",
        "\n",
        "Now we have identified how to extract the relevant data, we need to see how can we generate a data structure (a pd dataframe) for a chosen country, using all the available files. We need to:\n",
        "* Each row of the df structure should be the date of the corresponding report from where the data was extracted, ordered chronologicaly \n",
        "* There should be 4 Columns: TC (total cases), NC (new day cases), TD (total deads), ND (new day deads)"
      ]
    },
    {
      "cell_type": "markdown",
      "metadata": {
        "id": "gxqROkA-d0SQ",
        "colab_type": "text"
      },
      "source": [
        "The date can be easy, because it is in the name of the situation report:"
      ]
    },
    {
      "cell_type": "code",
      "metadata": {
        "id": "p1v9Sd9Q_fbo",
        "colab_type": "code",
        "outputId": "b57e328e-aa73-4aee-9782-a9f37256dcb2",
        "colab": {
          "base_uri": "https://localhost:8080/",
          "height": 34
        }
      },
      "source": [
        " # Let's print our report name\n",
        " print(pdf_path1)"
      ],
      "execution_count": 11,
      "outputs": [
        {
          "output_type": "stream",
          "text": [
            "/content/PHY546/COVID19/20200302-sitrep-42-covid-19.pdf\n"
          ],
          "name": "stdout"
        }
      ]
    },
    {
      "cell_type": "code",
      "metadata": {
        "id": "VfvIn0WPfNOn",
        "colab_type": "code",
        "colab": {}
      },
      "source": [
        ""
      ],
      "execution_count": 0,
      "outputs": []
    },
    {
      "cell_type": "code",
      "metadata": {
        "id": "h1wOXnjTfDBa",
        "colab_type": "code",
        "outputId": "68305da9-82ed-4b48-9e77-64b59d6ec945",
        "colab": {
          "base_uri": "https://localhost:8080/",
          "height": 34
        }
      },
      "source": [
        "# We can do it by just slicing \n",
        "date=pdf_path1[24:32]\n",
        "print(date)\n"
      ],
      "execution_count": 12,
      "outputs": [
        {
          "output_type": "stream",
          "text": [
            "20200302\n"
          ],
          "name": "stdout"
        }
      ]
    },
    {
      "cell_type": "markdown",
      "metadata": {
        "id": "ATq3dr9GisV2",
        "colab_type": "text"
      },
      "source": [
        "Or we can use the partition function:\n",
        "The partition() method splits the string at the first occurrence of the argument string and returns a tuple containing the part the before separator, argument string and the part after the separator."
      ]
    },
    {
      "cell_type": "code",
      "metadata": {
        "id": "__shGH7gixES",
        "colab_type": "code",
        "outputId": "a190b998-5049-4ee4-9022-4fbee50cfcc0",
        "colab": {
          "base_uri": "https://localhost:8080/",
          "height": 34
        }
      },
      "source": [
        "string = 'COVID19/'\n",
        "thedate = pdf_path1.partition(string)[2][0:8]\n",
        "print(thedate)"
      ],
      "execution_count": 13,
      "outputs": [
        {
          "output_type": "stream",
          "text": [
            "20200302\n"
          ],
          "name": "stdout"
        }
      ]
    },
    {
      "cell_type": "markdown",
      "metadata": {
        "id": "-e_o-pETja-x",
        "colab_type": "text"
      },
      "source": [
        "Now we can write a function that obtains the date from the path to a given file"
      ]
    },
    {
      "cell_type": "code",
      "metadata": {
        "id": "1OpKikZPi9u0",
        "colab_type": "code",
        "colab": {}
      },
      "source": [
        "def date(in_path):\n",
        "  \"\"\" given the complete path to the file where the WHO\n",
        "      situtation report was stored, will return the date\n",
        "      of the corresponding report\n",
        "      parameters:\n",
        "      -----------\n",
        "        in_path: string; full path of the report\n",
        "\n",
        "      returns:\n",
        "      --------\n",
        "        date: string; date in the form of yyyymmdd\n",
        "        \"\"\"\n",
        "  date = in_path.partition(string)[2][0:8]\n",
        "  return(date)\n"
      ],
      "execution_count": 0,
      "outputs": []
    },
    {
      "cell_type": "markdown",
      "metadata": {
        "id": "iIVIDus7wsyh",
        "colab_type": "text"
      },
      "source": [
        "Let's put it all in place\n",
        "First lets choose a country"
      ]
    },
    {
      "cell_type": "code",
      "metadata": {
        "id": "-QRqEK8ql8CT",
        "colab_type": "code",
        "outputId": "1ca39d4b-2f1a-4d07-f3c5-61326381eaf1",
        "colab": {
          "base_uri": "https://localhost:8080/",
          "height": 1000
        }
      },
      "source": [
        "country_name = 'Spain'\n",
        "start_date = 20200302 # This is the first date for situation reports with regular world data\n",
        "# this returns what we need to obtain the country information\n",
        "#column_names = [\"TC\", \"NC\", \"TD\", \"ND\"]\n",
        "#model_df = pd.DataFrame(columns = column_names) # This is the df that will store the info\n",
        "rows_list=[]\n",
        "for root, dirs, files in os.walk(\".\"):\n",
        "    for filename in files:\n",
        "        if 'sitrep' in filename: # Now we extract from this file all the information we need and add it to this new df\n",
        "          date=filename[0:8]\n",
        "          # We only read dates later than march 2nd\n",
        "          if (int(date) >= start_date):\n",
        "          # We need the full filename with the path: os.path.join(dirpath, filename)\n",
        "            full_filename = os.path.join(root, filename)\n",
        "            data = tabula.read_pdf(full_filename, pages=\"all\",lattice=True, pandas_options={\"header\": [0, 1]},silent=True)\n",
        "            test_df = find_country(country_name, data)\n",
        "            new_row = pd.DataFrame(test_df.iloc[0][1:5])\n",
        "            new_row = new_row.T\n",
        "            new_row['date'] = int(date)\n",
        "            print(new_row)\n",
        "            rows_list.append(new_row)\n",
        "            #new_row = new_row.rename(columns = {i+1: column_names[i] for i in range(4)} )\n",
        "            #model_df.append(new_row)\n",
        "\n",
        "    \n",
        "\n",
        "\n",
        "\n",
        "\n",
        "\n",
        "\n",
        "\n",
        "          \n",
        "\n",
        "\n"
      ],
      "execution_count": 22,
      "outputs": [
        {
          "output_type": "stream",
          "text": [
            "         1     2      3    4      date\n",
            "29  110238  8102  10003  950  20200403\n",
            "        1     2     3    4      date\n",
            "27  47610  7937  3434  738  20200326\n",
            "     1  2  3  4      date\n",
            "19  45  0  0  0  20200302\n",
            "       1     2    3   4      date\n",
            "23  9191  1438  309  21  20200317\n",
            "        1     2     3    4      date\n",
            "26  24926  4946  1326  324  20200322\n",
            "        1     2     3    4      date\n",
            "26  33089  4517  2182  462  20200324\n",
            "       1     2    3   4      date\n",
            "21  5753  1522  136  16  20200315\n",
            "        1     2     3    4      date\n",
            "27  72248  8189  5690  832  20200329\n",
            "        1     2    3    4      date\n",
            "23  11178  1987  491  182  20200318\n",
            "         1     2      3    4      date\n",
            "28  124736  7026  11744  809  20200405\n",
            "        1     2     3    4      date\n",
            "26  19980  2833  1002  235  20200321\n",
            "        1     2     3    4      date\n",
            "27  64059  7871  4858  769  20200328\n",
            "        1     2     3    4      date\n",
            "29  85195  6398  7340  812  20200331\n",
            "       1    2   3   4      date\n",
            "21  1024  435  28  18  20200310\n",
            "       1    2   3   4      date\n",
            "22  2140  501  48  12  20200312\n",
            "       1     2    3    4      date\n",
            "22  7753  2000  288  152  20200316\n",
            "        1     2     3    4      date\n",
            "29  94417  9222  8189  849  20200401\n",
            "      1   2  3  4      date\n",
            "19  430  56  5  0  20200308\n",
            "      1   2  3  4      date\n",
            "19  151  37  0  0  20200304\n",
            "      1    2  3  4      date\n",
            "19  374  117  5  2  20200307\n",
            "      1    2   3  4      date\n",
            "19  589  159  10  5  20200309\n",
            "      1   2  3  4      date\n",
            "19  114  69  0  0  20200303\n",
            "       1     2    3   4      date\n",
            "21  4231  1266  120  36  20200314\n",
            "      1   2  3  4      date\n",
            "19  257  59  3  2  20200306\n",
            "        1     2    3    4      date\n",
            "25  17147  3431  767  169  20200320\n",
            "        1     2     3    4      date\n",
            "27  56188  8578  4089  655  20200327\n",
            "         1     2     3    4      date\n",
            "29  102136  7719  9053  864  20200402\n",
            "       1    2   3   4      date\n",
            "21  2965  825  84  36  20200313\n",
            "        1     2    3    4      date\n",
            "23  13716  2538  598  107  20200319\n",
            "         1     2      3    4      date\n",
            "29  117710  7472  10935  932  20200404\n",
            "        1     2     3    4      date\n",
            "27  39673  6584  2696  514  20200325\n",
            "        1     2     3    4      date\n",
            "26  28572  3646  1720  394  20200323\n",
            "        1     2     3    4      date\n",
            "29  78797  6549  6528  838  20200330\n",
            "       1    2   3  4      date\n",
            "20  1639  615  36  8  20200311\n",
            "      1   2  3  4      date\n",
            "19  198  47  1  1  20200305\n"
          ],
          "name": "stdout"
        }
      ]
    },
    {
      "cell_type": "markdown",
      "metadata": {
        "id": "k2CJqI3DwrJz",
        "colab_type": "text"
      },
      "source": [
        ""
      ]
    },
    {
      "cell_type": "code",
      "metadata": {
        "id": "nAiCkDMCmuIm",
        "colab_type": "code",
        "colab": {
          "base_uri": "https://localhost:8080/",
          "height": 629
        },
        "outputId": "0963f597-44d5-4086-c615-c6cf7a93e936"
      },
      "source": [
        "rows_list"
      ],
      "execution_count": 23,
      "outputs": [
        {
          "output_type": "execute_result",
          "data": {
            "text/plain": [
              "[         1     2      3    4      date\n",
              " 29  110238  8102  10003  950  20200403,         1     2     3    4      date\n",
              " 27  47610  7937  3434  738  20200326,      1  2  3  4      date\n",
              " 19  45  0  0  0  20200302,        1     2    3   4      date\n",
              " 23  9191  1438  309  21  20200317,         1     2     3    4      date\n",
              " 26  24926  4946  1326  324  20200322,         1     2     3    4      date\n",
              " 26  33089  4517  2182  462  20200324,        1     2    3   4      date\n",
              " 21  5753  1522  136  16  20200315,         1     2     3    4      date\n",
              " 27  72248  8189  5690  832  20200329,         1     2    3    4      date\n",
              " 23  11178  1987  491  182  20200318,          1     2      3    4      date\n",
              " 28  124736  7026  11744  809  20200405,         1     2     3    4      date\n",
              " 26  19980  2833  1002  235  20200321,         1     2     3    4      date\n",
              " 27  64059  7871  4858  769  20200328,         1     2     3    4      date\n",
              " 29  85195  6398  7340  812  20200331,        1    2   3   4      date\n",
              " 21  1024  435  28  18  20200310,        1    2   3   4      date\n",
              " 22  2140  501  48  12  20200312,        1     2    3    4      date\n",
              " 22  7753  2000  288  152  20200316,         1     2     3    4      date\n",
              " 29  94417  9222  8189  849  20200401,       1   2  3  4      date\n",
              " 19  430  56  5  0  20200308,       1   2  3  4      date\n",
              " 19  151  37  0  0  20200304,       1    2  3  4      date\n",
              " 19  374  117  5  2  20200307,       1    2   3  4      date\n",
              " 19  589  159  10  5  20200309,       1   2  3  4      date\n",
              " 19  114  69  0  0  20200303,        1     2    3   4      date\n",
              " 21  4231  1266  120  36  20200314,       1   2  3  4      date\n",
              " 19  257  59  3  2  20200306,         1     2    3    4      date\n",
              " 25  17147  3431  767  169  20200320,         1     2     3    4      date\n",
              " 27  56188  8578  4089  655  20200327,          1     2     3    4      date\n",
              " 29  102136  7719  9053  864  20200402,        1    2   3   4      date\n",
              " 21  2965  825  84  36  20200313,         1     2    3    4      date\n",
              " 23  13716  2538  598  107  20200319,          1     2      3    4      date\n",
              " 29  117710  7472  10935  932  20200404,         1     2     3    4      date\n",
              " 27  39673  6584  2696  514  20200325,         1     2     3    4      date\n",
              " 26  28572  3646  1720  394  20200323,         1     2     3    4      date\n",
              " 29  78797  6549  6528  838  20200330,        1    2   3  4      date\n",
              " 20  1639  615  36  8  20200311,       1   2  3  4      date\n",
              " 19  198  47  1  1  20200305]"
            ]
          },
          "metadata": {
            "tags": []
          },
          "execution_count": 23
        }
      ]
    },
    {
      "cell_type": "code",
      "metadata": {
        "id": "gi7Zf9HMyNFz",
        "colab_type": "code",
        "colab": {
          "base_uri": "https://localhost:8080/",
          "height": 1000
        },
        "outputId": "637092e5-76cb-4b0c-f2f1-7c0cdf42e3b2"
      },
      "source": [
        "for item in rows_list:\n",
        "  for col in item.columns:\n",
        "    \n",
        "  print(item['date'])"
      ],
      "execution_count": 37,
      "outputs": [
        {
          "output_type": "stream",
          "text": [
            "29    20200403\n",
            "Name: date, dtype: int64\n",
            "27    20200326\n",
            "Name: date, dtype: int64\n",
            "19    20200302\n",
            "Name: date, dtype: int64\n",
            "23    20200317\n",
            "Name: date, dtype: int64\n",
            "26    20200322\n",
            "Name: date, dtype: int64\n",
            "26    20200324\n",
            "Name: date, dtype: int64\n",
            "21    20200315\n",
            "Name: date, dtype: int64\n",
            "27    20200329\n",
            "Name: date, dtype: int64\n",
            "23    20200318\n",
            "Name: date, dtype: int64\n",
            "28    20200405\n",
            "Name: date, dtype: int64\n",
            "26    20200321\n",
            "Name: date, dtype: int64\n",
            "27    20200328\n",
            "Name: date, dtype: int64\n",
            "29    20200331\n",
            "Name: date, dtype: int64\n",
            "21    20200310\n",
            "Name: date, dtype: int64\n",
            "22    20200312\n",
            "Name: date, dtype: int64\n",
            "22    20200316\n",
            "Name: date, dtype: int64\n",
            "29    20200401\n",
            "Name: date, dtype: int64\n",
            "19    20200308\n",
            "Name: date, dtype: int64\n",
            "19    20200304\n",
            "Name: date, dtype: int64\n",
            "19    20200307\n",
            "Name: date, dtype: int64\n",
            "19    20200309\n",
            "Name: date, dtype: int64\n",
            "19    20200303\n",
            "Name: date, dtype: int64\n",
            "21    20200314\n",
            "Name: date, dtype: int64\n",
            "19    20200306\n",
            "Name: date, dtype: int64\n",
            "25    20200320\n",
            "Name: date, dtype: int64\n",
            "27    20200327\n",
            "Name: date, dtype: int64\n",
            "29    20200402\n",
            "Name: date, dtype: int64\n",
            "21    20200313\n",
            "Name: date, dtype: int64\n",
            "23    20200319\n",
            "Name: date, dtype: int64\n",
            "29    20200404\n",
            "Name: date, dtype: int64\n",
            "27    20200325\n",
            "Name: date, dtype: int64\n",
            "26    20200323\n",
            "Name: date, dtype: int64\n",
            "29    20200330\n",
            "Name: date, dtype: int64\n",
            "20    20200311\n",
            "Name: date, dtype: int64\n",
            "19    20200305\n",
            "Name: date, dtype: int64\n"
          ],
          "name": "stdout"
        }
      ]
    },
    {
      "cell_type": "code",
      "metadata": {
        "id": "DH-Gg5J_ySf7",
        "colab_type": "code",
        "colab": {}
      },
      "source": [
        ""
      ],
      "execution_count": 0,
      "outputs": []
    }
  ]
}