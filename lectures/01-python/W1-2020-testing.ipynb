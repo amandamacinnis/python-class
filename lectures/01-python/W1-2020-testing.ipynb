{
 "cells": [
  {
   "cell_type": "markdown",
   "metadata": {},
   "source": [
    "# Welcome to PHY546\n",
    "\n",
    "I hope that by the end of the course you will love python as much as\n",
    "everyone else!.\n",
    "\n",
    "- But let's start with some basics:\n",
    "    - This is **Markdown** language. It's awesome if you want to work with [Jupyter](https://jupyter.org/)\n",
    "    * You can do lots of easy, fast stuff, like adding a picture ![of my dog](dogs.jpg)\n",
    "        1. Ordered lists are easy\n",
    "        2. Like this one\n",
    "        \n",
    "> ### Blokquotes \n",
    ">Some people like to use *Blockquotes*, similar to email threads   \n",
    ">> Even nested\n",
    ">>> * or listed\n",
    "\n"
   ]
  },
  {
   "cell_type": "code",
   "execution_count": 1,
   "metadata": {},
   "outputs": [
    {
     "data": {
      "text/plain": [
       "'/Users/marivi/Documents/GitHub/python-class/lectures/01-python'"
      ]
     },
     "execution_count": 1,
     "metadata": {},
     "output_type": "execute_result"
    }
   ],
   "source": [
    "pwd"
   ]
  },
  {
   "cell_type": "code",
   "execution_count": null,
   "metadata": {},
   "outputs": [],
   "source": []
  }
 ],
 "metadata": {
  "kernelspec": {
   "display_name": "Python 3",
   "language": "python",
   "name": "python3"
  },
  "language_info": {
   "codemirror_mode": {
    "name": "ipython",
    "version": 3
   },
   "file_extension": ".py",
   "mimetype": "text/x-python",
   "name": "python",
   "nbconvert_exporter": "python",
   "pygments_lexer": "ipython3",
   "version": "3.7.3"
  }
 },
 "nbformat": 4,
 "nbformat_minor": 2
}
