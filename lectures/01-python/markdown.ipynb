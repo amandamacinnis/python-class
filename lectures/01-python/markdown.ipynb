{
 "cells": [
  {
   "cell_type": "markdown",
   "metadata": {},
   "source": [
    "# MARKDOWN BASICS\n",
    "\n",
    "Jupyter notebooks use markdown language for text.\n",
    "In a nutshell, **markdown** is a very easy and powerfull\n",
    "text formatting language.\n",
    "\n",
    "As everything in this course, I expect that you will\n",
    "learn it as you progress and I imagine that you will use\n",
    "it to the extent that you need it.\n",
    "_bottom line: you will learn basic things and google \n",
    "help for anything that you do not know and need_\n",
    "\n",
    ">AND THAT IS OK IN THIS COURSE!!!"
   ]
  },
  {
   "cell_type": "markdown",
   "metadata": {},
   "source": [
    "# Markdown tutorial\n",
    "\n",
    "Note that at any time you can modify any of my Jupyter notebooks. The original ones are always saved in the\n",
    "repository of the course, and the purpose of this course is that you learn by experimentation!\n",
    "\n",
    "So lets do it.\n",
    "Here is a very nice and quick tutorial that you only need to do once: [tutorial](https://www.markdowntutorial.com/)\n"
   ]
  }
 ],
 "metadata": {
  "kernelspec": {
   "display_name": "Python 3",
   "language": "python",
   "name": "python3"
  },
  "language_info": {
   "codemirror_mode": {
    "name": "ipython",
    "version": 3
   },
   "file_extension": ".py",
   "mimetype": "text/x-python",
   "name": "python",
   "nbconvert_exporter": "python",
   "pygments_lexer": "ipython3",
   "version": "3.7.3"
  }
 },
 "nbformat": 4,
 "nbformat_minor": 2
}
