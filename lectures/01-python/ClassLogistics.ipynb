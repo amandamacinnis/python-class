{
 "cells": [
  {
   "cell_type": "markdown",
   "metadata": {},
   "source": [
    "# Course Goals\n",
    "\n",
    "Simply: to learn how to use python to do\n",
    "* Numerical analysis\n",
    "* Data analysis\n",
    "* Plotting and visualizations\n",
    "* Symbol mathematics\n",
    "* Write applications\n",
    "* ..."
   ]
  },
  {
   "cell_type": "markdown",
   "metadata": {},
   "source": [
    "# Class Participation, Communication and Grading\n",
    "\n",
    "* We'll learn by interactively trying out some ideas and looking at code\n",
    "    * I want to learn from all of you—share you experiences and expertise\n",
    "* We will use **SLACK** as out main communication and information exchange.\n",
    "\n",
    "    * Please join our slack channel [HERE](https://join.slack.com/t/sbu-phy546/shared_invite/enQtNTM1NTgyMTQzMzY3LWNkZmE0MjQwNWE0MmEwOTgzYWE2ZTQ1MzVjMTIwZWRhNTlkMjM5MWIyNzEzYTNkNWQ4NTgzZTA3MzM5NzczNTc)\n",
    "    * Everyone should have already received an invitation mail (if not just join using the avobe link)\n",
    "* Try out ideas and report to the class what you've learned\n",
    "    * You should have an installation of python on your laptop\n",
    "    * Alternately, you can use the Virtual SINC site on campus, which has Anaconda Python installed\n",
    "    "
   ]
  },
  {
   "cell_type": "markdown",
   "metadata": {},
   "source": [
    "# SLACK\n",
    "\n",
    "* Log onto our slack as soon as possible\n",
    "    * If you didn’t get an invite, e-mail me, and I’ll add you\n",
    "* Slack is a web-based team chat tool\n",
    "    * I’ve setup a number of channels for us to focus our discussions\n",
    "    * Everyone is expected to participate\n",
    "* **Your course grade is based on your participation**\n",
    "    * Mike Zingale has a  simple script(https://github.com/zingale/slack_grader ) that I’ll use for grading\n",
    "        * Good contributions will get a comment on the slack, counting as “+1” \n",
    "        * The script will record these points over the semester\n",
    "        * Help, by using slack reactions for useful comments from your classmates\n",
    "* In “free” mode, slack only keeps 10k messages—I don’t think we’ll go over that during the semester\n",
    "\n",
    "### Why SLACK?\n",
    "\n",
    "* One of the goals of this class is to teach you tools that are used by computational science groups\n",
    "* Slack has gained enormous adoption by research groups over the past few years\n",
    "   * We’ll see how to integrate github repos to it, so everyone can keep on top of code developments\n",
    "   * It’s easy to post code snippets in conversations\n",
    "   * There are lots of integrations that are available to extend its usefulness"
   ]
  },
  {
   "cell_type": "markdown",
   "metadata": {},
   "source": [
    "# Why Phython\n",
    "\n",
    "\n",
    "![alt text](https://raw.githubusercontent.com/marivifs-teaching/python-class/master/lectures/01-python/python.png)\n",
    "      \n",
    "\n",
    "\n",
    "* Very high-level language\n",
    "    * Provides many complex data-structures (lists, dictionaries, ...) \n",
    "    * Your code is shorter than a comparable algorithm in a compiled language\n",
    "    * Many powerful libraries to perform complex tasks\n",
    "    * Parse structured inputs files\n",
    "    * send e-mail\n",
    "    * interact with the operating system\n",
    "    * make plots\n",
    "    * make GUIs\n",
    "    * do scientific computations\n",
    "    * ...\n",
    "* Easy to prototype new tools\n",
    "* Cross-platform and Free\n",
    "\n",
    "\n",
    "## Installing Python\n",
    "### Linux\n",
    "* Python is probably already installed\n",
    "* The dependencies we need for our class should be available through your package manager\n",
    "\n",
    "### OS X / Windows\n",
    "* The easiest way to get everything we need for class is by installing [Anaconda]: (https://www.anaconda.com/) \n",
    "* You'll have a choice of python 2.7 or 3.6—choose python 3.6\n",
    "\n",
    "**If you run into problems ask on slack (there is an “installation” channel), or come by my office**\n",
    "\n",
    "## HELLO WORLD\n",
    "* If you have python installed properly, you can start python simply by typing python at your command line prompt\n",
    "    * The python shell will come up\n",
    "    * Our hello world program is simply:\n",
    "```python\n",
    "print(\"hello, world\")\n",
    "```\n",
    "Or, in python 2 (more on this later...):\n",
    "```python\n",
    "print \"hello, world\"\n",
    "```"
   ]
  },
  {
   "cell_type": "code",
   "execution_count": 1,
   "metadata": {},
   "outputs": [
    {
     "name": "stdout",
     "output_type": "stream",
     "text": [
      "hello, world\n"
     ]
    }
   ],
   "source": [
    "print(\"hello, world\")"
   ]
  }
 ],
 "metadata": {
  "kernelspec": {
   "display_name": "Python 3",
   "language": "python",
   "name": "python3"
  },
  "language_info": {
   "codemirror_mode": {
    "name": "ipython",
    "version": 3
   },
   "file_extension": ".py",
   "mimetype": "text/x-python",
   "name": "python",
   "nbconvert_exporter": "python",
   "pygments_lexer": "ipython3",
   "version": "3.7.3"
  }
 },
 "nbformat": 4,
 "nbformat_minor": 2
}
