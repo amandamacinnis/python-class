{
 "cells": [
  {
   "cell_type": "code",
   "execution_count": 1,
   "metadata": {},
   "outputs": [],
   "source": [
    "from __future__ import print_function"
   ]
  },
  {
   "cell_type": "markdown",
   "metadata": {},
   "source": [
    "## Naming conventions"
   ]
  },
  {
   "cell_type": "markdown",
   "metadata": {},
   "source": [
    "The python community has some naming convections, defined in PEP-8:\n",
    "\n",
    "https://www.python.org/dev/peps/pep-0008/\n",
    "\n",
    "The widely adopted ones are:\n",
    "\n",
    "* class names start with an uppercase, and use \"camelcase\" for multiword names, e.g. `ShoppingCart`\n",
    "\n",
    "* varible names (including objects which are instances of a class) are lowercase and use underscores to separate words, e.g., `shopping_cart`\n",
    "\n",
    "* module names should be lowercase with underscores\n",
    "\n"
   ]
  },
  {
   "cell_type": "markdown",
   "metadata": {},
   "source": [
    "# Practicing Classes"
   ]
  },
  {
   "cell_type": "markdown",
   "metadata": {},
   "source": [
    "## Exercise 1 (shopping cart)"
   ]
  },
  {
   "cell_type": "markdown",
   "metadata": {},
   "source": [
    "Let's write a simple shopping cart class -- this will hold items that you intend to purchase as well as the amount, etc.  And allow you to add / remove items, get a subtotal, etc.\n",
    "\n",
    "We'll use two classes: `Item` will be a single item and `ShoppingCart` will be the collection of items you wish to purchase.\n",
    "\n",
    "First, our store needs an inventory -- here's what we have for sale:"
   ]
  },
  {
   "cell_type": "code",
   "execution_count": 8,
   "metadata": {},
   "outputs": [],
   "source": [
    "INVENTORY_TEXT = \"\"\"\n",
    "apple, 0.60\n",
    "banana, 0.20\n",
    "grapefruit, 0.75\n",
    "grapes, 1.99\n",
    "kiwi, 0.50\n",
    "lemon, 0.20\n",
    "lime, 0.25\n",
    "mango, 1.50\n",
    "papaya, 2.95\n",
    "pineapple, 3.50\n",
    "blueberries, 1.99\n",
    "blackberries, 2.50\n",
    "peach, 0.50\n",
    "plum, 0.33\n",
    "clementine, 0.25\n",
    "cantaloupe, 3.25\n",
    "pear, 1.25\n",
    "quince, 0.45\n",
    "orange, 0.60\n",
    "\"\"\"\n",
    "\n",
    "# this will be a global -- convention is all caps\n",
    "INVENTORY = {}\n",
    "for line in INVENTORY_TEXT.splitlines():\n",
    "    if line.strip() == \"\":\n",
    "        continue\n",
    "    item, price = line.split(\",\")\n",
    "    INVENTORY[item] = float(price)\n"
   ]
  },
  {
   "cell_type": "code",
   "execution_count": 9,
   "metadata": {},
   "outputs": [
    {
     "data": {
      "text/plain": [
       "{'apple': 0.6,\n",
       " 'banana': 0.2,\n",
       " 'grapefruit': 0.75,\n",
       " 'grapes': 1.99,\n",
       " 'kiwi': 0.5,\n",
       " 'lemon': 0.2,\n",
       " 'lime': 0.25,\n",
       " 'mango': 1.5,\n",
       " 'papaya': 2.95,\n",
       " 'pineapple': 3.5,\n",
       " 'blueberries': 1.99,\n",
       " 'blackberries': 2.5,\n",
       " 'peach': 0.5,\n",
       " 'plum': 0.33,\n",
       " 'clementine': 0.25,\n",
       " 'cantaloupe': 3.25,\n",
       " 'pear': 1.25,\n",
       " 'quince': 0.45,\n",
       " 'orange': 0.6}"
      ]
     },
     "execution_count": 9,
     "metadata": {},
     "output_type": "execute_result"
    }
   ],
   "source": [
    "INVENTORY"
   ]
  },
  {
   "cell_type": "markdown",
   "metadata": {},
   "source": [
    "### `Item` "
   ]
  },
  {
   "cell_type": "markdown",
   "metadata": {},
   "source": [
    "Here's the start of an item class -- we want it to hold the name and quantity.  \n",
    "\n",
    "You should have the following features:\n",
    "\n",
    "* the name should be something in our inventory\n",
    "\n",
    "* Our shopping cart will include a list of all the items we want to buy, so we want to be able to check for duplicates.  Implement the equal test, `==`, using `__eq__`\n",
    "\n",
    "* we'll want to consolidate dupes, so implement the `+` operator, using `__add__` so we can add items together in our shopping cart.  Note, add should raise a ValueError if you try to add two `Items` that don't have the same name.\n",
    "\n",
    "Here's a start:"
   ]
  },
  {
   "cell_type": "code",
   "execution_count": 10,
   "metadata": {},
   "outputs": [],
   "source": [
    "class Item(object):\n",
    "    \"\"\" an item to buy \"\"\"\n",
    "    \n",
    "    def __init__(self, name, quantity=1):\n",
    "        \"\"\"keep track of an item that is in our inventory\"\"\"\n",
    "        if name not in INVENTORY:\n",
    "            raise ValueError(\"invalid item name\")\n",
    "        self.name = name\n",
    "        self.quantity = quantity\n",
    "        \n",
    "    def __repr__(self):\n",
    "        return \"{}: {}\".format(self.name, self.quantity)\n",
    "        \n",
    "    def __eq__(self, other):\n",
    "        \"\"\"check if the items have the same name\"\"\"\n",
    "        return self.name == other.name\n",
    "    \n",
    "    def __add__(self, other):\n",
    "        \"\"\"add two items together if they are the same type\"\"\"\n",
    "        if self.name == other.name:\n",
    "            return Item(self.name, self.quantity + other.quantity)\n",
    "        else:\n",
    "            raise ValueError(\"names don't match\")"
   ]
  },
  {
   "cell_type": "markdown",
   "metadata": {},
   "source": [
    "Here are some tests your code should pass:"
   ]
  },
  {
   "cell_type": "code",
   "execution_count": 11,
   "metadata": {},
   "outputs": [],
   "source": [
    "a = Item(\"apple\", 10)\n",
    "b = Item(\"banana\", 20)"
   ]
  },
  {
   "cell_type": "code",
   "execution_count": 12,
   "metadata": {},
   "outputs": [],
   "source": [
    "c = Item(\"apple\", 20)"
   ]
  },
  {
   "cell_type": "code",
   "execution_count": 13,
   "metadata": {
    "scrolled": true
   },
   "outputs": [
    {
     "ename": "ValueError",
     "evalue": "names don't match",
     "output_type": "error",
     "traceback": [
      "\u001b[0;31m---------------------------------------------------------------------------\u001b[0m",
      "\u001b[0;31mValueError\u001b[0m                                Traceback (most recent call last)",
      "\u001b[0;32m<ipython-input-13-b6f00cbc1c51>\u001b[0m in \u001b[0;36m<module>\u001b[0;34m\u001b[0m\n\u001b[1;32m      1\u001b[0m \u001b[0;31m# won't work\u001b[0m\u001b[0;34m\u001b[0m\u001b[0;34m\u001b[0m\u001b[0;34m\u001b[0m\u001b[0m\n\u001b[0;32m----> 2\u001b[0;31m \u001b[0ma\u001b[0m \u001b[0;34m+\u001b[0m \u001b[0mb\u001b[0m\u001b[0;34m\u001b[0m\u001b[0;34m\u001b[0m\u001b[0m\n\u001b[0m",
      "\u001b[0;32m<ipython-input-10-bfaaae5b69f7>\u001b[0m in \u001b[0;36m__add__\u001b[0;34m(self, other)\u001b[0m\n\u001b[1;32m     21\u001b[0m             \u001b[0;32mreturn\u001b[0m \u001b[0mItem\u001b[0m\u001b[0;34m(\u001b[0m\u001b[0mself\u001b[0m\u001b[0;34m.\u001b[0m\u001b[0mname\u001b[0m\u001b[0;34m,\u001b[0m \u001b[0mself\u001b[0m\u001b[0;34m.\u001b[0m\u001b[0mquantity\u001b[0m \u001b[0;34m+\u001b[0m \u001b[0mother\u001b[0m\u001b[0;34m.\u001b[0m\u001b[0mquantity\u001b[0m\u001b[0;34m)\u001b[0m\u001b[0;34m\u001b[0m\u001b[0;34m\u001b[0m\u001b[0m\n\u001b[1;32m     22\u001b[0m         \u001b[0;32melse\u001b[0m\u001b[0;34m:\u001b[0m\u001b[0;34m\u001b[0m\u001b[0;34m\u001b[0m\u001b[0m\n\u001b[0;32m---> 23\u001b[0;31m             \u001b[0;32mraise\u001b[0m \u001b[0mValueError\u001b[0m\u001b[0;34m(\u001b[0m\u001b[0;34m\"names don't match\"\u001b[0m\u001b[0;34m)\u001b[0m\u001b[0;34m\u001b[0m\u001b[0;34m\u001b[0m\u001b[0m\n\u001b[0m",
      "\u001b[0;31mValueError\u001b[0m: names don't match"
     ]
    }
   ],
   "source": [
    "# won't work\n",
    "a + b"
   ]
  },
  {
   "cell_type": "code",
   "execution_count": 14,
   "metadata": {},
   "outputs": [
    {
     "name": "stdout",
     "output_type": "stream",
     "text": [
      "apple: 30\n"
     ]
    }
   ],
   "source": [
    "# will work\n",
    "a += c\n",
    "print(a)"
   ]
  },
  {
   "cell_type": "code",
   "execution_count": null,
   "metadata": {},
   "outputs": [],
   "source": [
    "d = Item(\"dog\")"
   ]
  },
  {
   "cell_type": "code",
   "execution_count": null,
   "metadata": {},
   "outputs": [],
   "source": [
    "# should be False\n",
    "a == b"
   ]
  },
  {
   "cell_type": "code",
   "execution_count": null,
   "metadata": {},
   "outputs": [],
   "source": [
    "# should be True -- they have the same name\n",
    "a == c"
   ]
  },
  {
   "cell_type": "markdown",
   "metadata": {},
   "source": [
    "How do they behave in a list?"
   ]
  },
  {
   "cell_type": "code",
   "execution_count": null,
   "metadata": {},
   "outputs": [],
   "source": [
    "items = []\n",
    "items.append(a)\n",
    "items.append(b)\n",
    "items"
   ]
  },
  {
   "cell_type": "code",
   "execution_count": null,
   "metadata": {},
   "outputs": [],
   "source": [
    "# should be True -- they have the same name\n",
    "c in items"
   ]
  },
  {
   "cell_type": "markdown",
   "metadata": {},
   "source": [
    "### `ShoppingCart`"
   ]
  },
  {
   "cell_type": "markdown",
   "metadata": {},
   "source": [
    "Now we want to create a shopping cart.  The main thing it will do is hold a list of items."
   ]
  },
  {
   "cell_type": "code",
   "execution_count": null,
   "metadata": {},
   "outputs": [],
   "source": [
    "class ShoppingCart(object):\n",
    "    \n",
    "    def __init__(self):\n",
    "        # the list of items we control\n",
    "        self.items = []\n",
    "        \n",
    "    def subtotal(self):\n",
    "        \"\"\" return a subtotal of our items \"\"\"\n",
    "        pass\n",
    "\n",
    "    def add(self, name, quantity):\n",
    "        \"\"\" add an item to our cart -- the an item of the same name already\n",
    "        exists, then increment the quantity.  Otherwise, add a new item\n",
    "        to the cart with the desired quantity.\"\"\"\n",
    "        pass\n",
    "        \n",
    "    def remove(self, name):\n",
    "        \"\"\" remove all of item name from the cart \"\"\"\n",
    "        pass\n",
    "        \n",
    "    def report(self):\n",
    "        \"\"\" print a summary of the cart \"\"\"\n",
    "        for item in self.items:\n",
    "            print(\"{} : {}\".format(item.name, item.quantity))"
   ]
  },
  {
   "cell_type": "code",
   "execution_count": 21,
   "metadata": {},
   "outputs": [
    {
     "name": "stdout",
     "output_type": "stream",
     "text": [
      "Name : Price : Quantity : Subtotal\n",
      "orange : 0.6 : 19.0 : 11.4\n",
      "pineapple : 3.5 : 10.0 : 35.0\n",
      "papaya : 2.95 : 10.0 : 29.5\n",
      "The Total Price of this Shopping Cart is 75.9\n"
     ]
    }
   ],
   "source": [
    "## Q1\n",
    "INVENTORY_TEXT = \"\"\"\n",
    "apple, 0.60\n",
    "banana, 0.20\n",
    "grapefruit, 0.75\n",
    "grapes, 1.99\n",
    "kiwi, 0.50\n",
    "lemon, 0.20\n",
    "lime, 0.25\n",
    "mango, 1.50\n",
    "papaya, 2.95\n",
    "pineapple, 3.50\n",
    "blueberries, 1.99\n",
    "blackberries, 2.50\n",
    "peach, 0.50\n",
    "plum, 0.33\n",
    "clementine, 0.25\n",
    "cantaloupe, 3.25\n",
    "pear, 1.25\n",
    "quince, 0.45\n",
    "orange, 0.60\n",
    "\"\"\"\n",
    "Inventory = {};\n",
    "## Seperate List by '/n'\n",
    "ListInventory = INVENTORY_TEXT.split('\\n')\n",
    "## Removing empty space in the in List\n",
    "while(\"\" in ListInventory) : \n",
    "    ListInventory.remove(\"\") \n",
    "for Index in range(len(ListInventory)):\n",
    "    ProcessedItems = ListInventory[Index]\n",
    "    Name,Price = ProcessedItems.split(',')\n",
    "    Inventory[Name] = float(Price)\n",
    "class item(object):\n",
    "    def __init__(Items,Name, Price):\n",
    "        ## Print out error if the item name is not in the list\n",
    "        if Name not in Inventory:\n",
    "            raise ValueError(\"the item is not within the inventory list\")\n",
    "        Items.Name = Name\n",
    "        Items.Price = Price       \n",
    "    def __eq__(Items, OtherItems):\n",
    "        ## Check wether the name of two items are the same\n",
    "        return Items.Name == OtherItems.Name\n",
    "    def __add__(Items, OtherItems):\n",
    "        if Items == OtherItems:\n",
    "            Items.Price +=  OtherItems.Price\n",
    "            return item(Items.Name,Items.Price)\n",
    "        else :\n",
    "            raise ValueError(\"Item Nme don't match\")\n",
    "    def PrintBrand(Items):\n",
    "        return \"Iteam Name {} with quantity of {}\".format(Items.Name, Items.Price)\n",
    "class ShoppingCart(object):\n",
    "    def __init__(self):\n",
    "        # the list of items we control\n",
    "        self.ItemsList = []\n",
    "        self.Quantity = []\n",
    "    def add(self, name, quantity):\n",
    "        \"\"\" add an item to our cart -- the an item of the same name already\n",
    "        exists, then increment the quantity.  Otherwise, add a new item\n",
    "        to the cart with the desired quantity.\"\"\"\n",
    "        self.ItemsList.append(name)\n",
    "        self.Quantity.append(float(quantity)) \n",
    "    def remove(self, name):\n",
    "        \"\"\" remove all of item name from the cart \"\"\"\n",
    "        Index = self.ItemsList.index(name)\n",
    "        self.ItemsList.remove(name)\n",
    "        self.Quantity.remove(self.Quantity[Index])\n",
    "    def subtotal(self):\n",
    "        \"\"\" return a subtotal of our items \"\"\" \n",
    "        SubTotalList = [];\n",
    "        for Index in range(len(self.ItemsList)):\n",
    "            Name = self.ItemsList[Index]\n",
    "            Quantity = self.Quantity[Index]\n",
    "            ItemUnitPrice = Inventory[Name]\n",
    "            SubTotalPrice = Quantity * ItemUnitPrice\n",
    "            SubTotalList.append(SubTotalPrice)\n",
    "        return SubTotalList\n",
    "    def report(self):\n",
    "        \"\"\" print a summary of the cart \"\"\"\n",
    "        Total = 0\n",
    "        SubTotalList = ShoppingCart.subtotal(self)\n",
    "        print (\"Name : Price : Quantity : Subtotal\")\n",
    "        for Index in range(len(self.ItemsList)):\n",
    "            Name = self.ItemsList[Index]\n",
    "            Quantity = self.Quantity[Index]\n",
    "            ItemUnitPrice = Inventory[Name]\n",
    "            SubTotal = SubTotalList[Index]\n",
    "            Total += SubTotal\n",
    "            print(\"{} : {} : {} : {}\".format(Name, ItemUnitPrice, Quantity,SubTotal))\n",
    "        print(\"The Total Price of this Shopping Cart is {}\".format(Total))\n",
    "sc = ShoppingCart()\n",
    "sc.add(\"orange\", 19)\n",
    "sc.add(\"apple\", 2)\n",
    "sc.add('pineapple',10)\n",
    "sc.add('papaya',10)\n",
    "sc.remove('apple')\n",
    "sc.report()"
   ]
  },
  {
   "cell_type": "code",
   "execution_count": 19,
   "metadata": {},
   "outputs": [],
   "source": [
    "# class ShoppingCart(object):\n",
    "#     def __init__(self, name, quantity=0):\n",
    "#         # the list of items we control\n",
    "#         self.name = []\n",
    "#         self.quantity={}\n",
    "#         self.quantity[name]=quantity\n",
    "#         print('For the following adding of the goods, please use .add for adding')\n",
    "#         # This is a compromise that it is hard to set the initial quantity of newly added items and do the new initialize\n",
    "#         if name not in self.name and name in Inventary:\n",
    "#             self.name.append(name)\n",
    "#         elif name not in Inventary:\n",
    "#             raise error('This product is not in the Inventary')\n",
    "#     def subtotal(self):\n",
    "#         \"\"\" return a subtotal of our items \"\"\"\n",
    "#         subtotal=0\n",
    "#         for item in self.name:#Calculate the total amount of cost looping through the list\n",
    "#             subtotal+= Inventary[item]*self.quantity[item]\n",
    "#         print (subtotal)\n",
    "#     def add(self, name, quantity): #Add new items. If the item is not in the list of current items, this item\n",
    "#                                   # will be appended onto the list and set the initial quantity as 0\n",
    "#         \"\"\" add an item to our cart -- the an item of the same name already\n",
    "#         exists, then increment the quantity.  Otherwise, add a new item\n",
    "#         to the cart with the desired quantity.\"\"\"\n",
    "#         if name not in self.name and name in Inventary:\n",
    "#             self.name.append(name)\n",
    "#             self.quantity[name] = 0\n",
    "#         elif name not in Inventary:\n",
    "#             raise error('This product is not in the Inventary')\n",
    "#         else:\n",
    "#             print('The product is already in the cart. The quantity will be changed only')\n",
    "#         self.quantity[name] += quantity\n",
    "#     def remove(self, name, quantity): #Removes the item. If the quantity is larger than the existing quantity of the \n",
    "#                                       # items, it will be removed from the item lists\n",
    "#         \"\"\" remove all of item name from the cart \"\"\"\n",
    "#         if name in self.name:\n",
    "#             self.quantity[name]-=quantity\n",
    "#             if self.quantity[name]<=quantity:\n",
    "#                 self.quantity[name]=0\n",
    "#                 self.name.remove(name)\n",
    "#                 print('The selected item is removed')\n",
    "#     def report(self):\n",
    "#         \"\"\" print a summary of the cart \"\"\"\n",
    "#         for item in self.name:\n",
    "#             print(\"{} : {}\".format(item, self.quantity[item]))"
   ]
  },
  {
   "cell_type": "markdown",
   "metadata": {},
   "source": [
    "Here are some tests"
   ]
  },
  {
   "cell_type": "code",
   "execution_count": 22,
   "metadata": {},
   "outputs": [],
   "source": [
    "sc = ShoppingCart()\n",
    "sc.add(\"orange\", 19)"
   ]
  },
  {
   "cell_type": "code",
   "execution_count": 23,
   "metadata": {},
   "outputs": [],
   "source": [
    "sc.add(\"apple\", 2)"
   ]
  },
  {
   "cell_type": "code",
   "execution_count": 24,
   "metadata": {},
   "outputs": [
    {
     "name": "stdout",
     "output_type": "stream",
     "text": [
      "Name : Price : Quantity : Subtotal\n",
      "orange : 0.6 : 19.0 : 11.4\n",
      "apple : 0.6 : 2.0 : 1.2\n",
      "The Total Price of this Shopping Cart is 12.6\n"
     ]
    }
   ],
   "source": [
    "sc.report()"
   ]
  },
  {
   "cell_type": "code",
   "execution_count": 25,
   "metadata": {},
   "outputs": [],
   "source": [
    "sc.add(\"apple\", 9)"
   ]
  },
  {
   "cell_type": "code",
   "execution_count": 26,
   "metadata": {},
   "outputs": [
    {
     "name": "stdout",
     "output_type": "stream",
     "text": [
      "Name : Price : Quantity : Subtotal\n",
      "orange : 0.6 : 19.0 : 11.4\n",
      "apple : 0.6 : 2.0 : 1.2\n",
      "apple : 0.6 : 9.0 : 5.3999999999999995\n",
      "The Total Price of this Shopping Cart is 18.0\n"
     ]
    }
   ],
   "source": [
    "# apple should only be listed once in the report, with a quantity of 11\n",
    "sc.report()"
   ]
  },
  {
   "cell_type": "code",
   "execution_count": null,
   "metadata": {},
   "outputs": [],
   "source": [
    "sc.subtotal()"
   ]
  },
  {
   "cell_type": "code",
   "execution_count": null,
   "metadata": {},
   "outputs": [],
   "source": [
    "sc.remove(\"apple\")"
   ]
  },
  {
   "cell_type": "code",
   "execution_count": null,
   "metadata": {},
   "outputs": [],
   "source": [
    "# apple should no longer be listed\n",
    "sc.report()"
   ]
  },
  {
   "cell_type": "markdown",
   "metadata": {
    "collapsed": true
   },
   "source": [
    "## Exercise 2: Poker Odds"
   ]
  },
  {
   "cell_type": "markdown",
   "metadata": {},
   "source": [
    "Use the deck of cards class from the notebook we worked through outside of class to write a _Monte Carlo_ code that plays a lot of hands of straight poker (like 100,000).  Count how many of these hands has a particular poker hand (like 3-of-a-kind).  The ratio of # of hands with 3-of-a-kind to total hands is an approximation to the odds of getting a 3-of-a-kind in poker.\n",
    "\n",
    "You'll want to copy-paste those classes into a `.py` file to allow you to import and reuse them here"
   ]
  },
  {
   "cell_type": "code",
   "execution_count": 27,
   "metadata": {},
   "outputs": [
    {
     "name": "stdout",
     "output_type": "stream",
     "text": [
      "0.0699\n"
     ]
    }
   ],
   "source": [
    "#Author: Arjun Virk\n",
    "#Date: February24th\n",
    "#This is for Week 2: Exercise Q2\n",
    "#Given a number of hands, we calculate the probability of three_of_a_kind using Monte Carlo Probability\n",
    "import random\n",
    "#import pockerclasses\n",
    "class Card(object):\n",
    "\n",
    "    def __init__(self, suit=1, rank=2):\n",
    "        if suit < 1 or suit > 4:\n",
    "            print(\"invalid suit, setting to 1\")\n",
    "            suit = 1\n",
    "\n",
    "        self.suit = suit\n",
    "        self.rank = rank\n",
    "\n",
    "\n",
    "    def value(self):\n",
    "        \"\"\" we want things order primarily by rank then suit \"\"\"\n",
    "        return self.suit + (self.rank-1)*14\n",
    "\n",
    "\n",
    "   \n",
    "    # we include this to allow for comparisons with < and > between cards \n",
    "    def __lt__(self, other):\n",
    "        return self.value() < other.value()\n",
    "    def __gt__(self, other):\n",
    "        return self.value() > other.value()\n",
    "\n",
    "    # we include this to allow for comparisons with == between cards\n",
    "\n",
    "    def __eq__(self, other):\n",
    "        return self.value() == other.value()\n",
    "\n",
    "    # we include this to make the object hashable\n",
    "    def __hash__(self):\n",
    "        return hash(self.value())\n",
    "\n",
    "    def __unicode__(self):\n",
    "\n",
    "        suits = [u\"\\u2660\",  # spade\n",
    "                 u\"\\u2665\",  # heart\n",
    "                 u\"\\u2666\",  # diamond\n",
    "                 u\"\\u2663\"]  # club\n",
    "\n",
    "        r = str(self.rank)\n",
    "        if self.rank == 11:\n",
    "            r = \"J\"\n",
    "        elif self.rank == 12:\n",
    "            r = \"Q\"\n",
    "        elif self.rank == 13:\n",
    "            r = \"K\"\n",
    "        elif self.rank == 14:\n",
    "            r = \"A\"\n",
    "\n",
    "        return r +':'+suits[self.suit-1]\n",
    "\n",
    "    def __str__(self):\n",
    "        return self.__unicode__()  #.encode('utf-8')\n",
    "    def __repr__(self):\n",
    "        return str(self)\n",
    "\n",
    "\n",
    "class Deck(object):\n",
    "    \"\"\" the deck is a collection of cards \"\"\"\n",
    "\n",
    "    def __init__(self):\n",
    "\n",
    "        self.nsuits = 4\n",
    "        self.nranks = 13\n",
    "        self.minrank = 2\n",
    "        self.maxrank = self.minrank + self.nranks - 1\n",
    "\n",
    "        self.cards = []\n",
    "        for rank in range(self.minrank,self.maxrank+1):\n",
    "            for suit in range(1, self.nsuits+1):\n",
    "                self.cards.append(Card(rank=rank, suit=suit))\n",
    "\n",
    "    def shuffle(self):\n",
    "        random.shuffle(self.cards)\n",
    "\n",
    "    def get_cards(self, num=1):\n",
    "        hand = []\n",
    "        for n in range(num):\n",
    "            hand.append(self.cards.pop())\n",
    "\n",
    "        return hand\n",
    "\n",
    "    def __str__(self):\n",
    "        string = \"\"\n",
    "        for c in self.cards:\n",
    "            string += str(c) + \" \"\n",
    "        return string\n",
    "        \n",
    "#Author: Arjun Virk\n",
    "#Date: February24th\n",
    "#This is for Week 2: Exercise Q2\n",
    "#Given a number of hands, we calculate the probability of three_of_a_kind using Monte Carlo Probability\n",
    "\n",
    "def Monte_Carlo_Deck(n): #Create Function, where input is the total number of hand\n",
    "    three_of_a_kind = 0  #Set initial three_of_a_kind counter to 0\n",
    "    total_hands = n #Establish total number of hands\n",
    "    for ii in range(0,total_hands):  #Enter initial for loop (each hand)\n",
    "        mydeck = Deck() #Get deck\n",
    "        mydeck.shuffle() #Shuffle Deck\n",
    "        hand = mydeck.get_cards(5) #Get hand\n",
    "        for c in sorted(hand):   #Sort out each card in hand\n",
    "            card_rank  = c.rank  #Only assess rank\n",
    "            counter = 0 #Set up counter\n",
    "            for jj in sorted(hand): #Evaluate each card in hand\n",
    "                if card_rank == jj.rank: #Check if each card has same rank as card_rank\n",
    "                    counter = counter + 1 #if so, add 1 to counter\n",
    "            if counter == 3:  #Check if they were three of a kind \n",
    "                three_of_a_kind = three_of_a_kind + 1 #If so, add to three_of_a_kind counter\n",
    "    MC_Probability = three_of_a_kind/total_hands  #Calculare monte carlo probability\n",
    "    print(MC_Probability)   #Print probability\n",
    "Monte_Carlo_Deck(10000) #Run test with 100000 hands\n",
    "    "
   ]
  },
  {
   "cell_type": "code",
   "execution_count": null,
   "metadata": {},
   "outputs": [],
   "source": [
    "## Q2 Write a Monte Carlo To Calculate Odd of different Hands\n",
    "class CardGame(object):\n",
    "    def __init__(self):\n",
    "        self.Card = []\n",
    "    ## generate a Card Set\n",
    "    def ResetCard(self):\n",
    "        del self.Card[:]\n",
    "        import numpy as np\n",
    "        ColorList = ['Diamond','Clue','Heart','Spade']\n",
    "        NumberList = np.linspace(1,13,13)\n",
    "        for ColorIndex in ColorList:\n",
    "            for NumberIndex in NumberList:\n",
    "                self.Card.append(ColorIndex + ' ' + str(int(NumberIndex)))\n",
    "    ## Pick a random card and remove it from the Card Set\n",
    "    def PickCard(self):\n",
    "        import random\n",
    "        self.CardInHand = []\n",
    "        for HandIndex in range(5):\n",
    "            RandomIndex = random.randint(0,51 - HandIndex)\n",
    "            CardPicked = self.Card[RandomIndex]                \n",
    "            Color,Number = CardPicked.split(' ')\n",
    "            self.CardInHand.append(Number)\n",
    "            self.Card.remove(CardPicked)\n",
    "    ## Check whether the Picked card satsify the 3-of-a-kind in poker\n",
    "    def Hand3Check(self):\n",
    "        UnitList = set(self.CardInHand)\n",
    "        Result = 0\n",
    "        for Num in UnitList:\n",
    "            Times = self.CardInHand.count(Num)\n",
    "            if Times >= 3:\n",
    "            ## I am not certain whether you have 4-of-a-kind considered \n",
    "            ## as a special case of 3-of-a-kind. I guess it is. If you think\n",
    "            ## it is not. Please change \">=\" to \"==\"\n",
    "                Result = 1\n",
    "                return Result\n",
    "                break\n",
    "        return Result\n",
    "    ## Start the iteration \n",
    "    def Iteration(self):\n",
    "        TotalIteration = 1e6\n",
    "        TotalCount = 0\n",
    "        for IndexIteration in range(int(TotalIteration)): \n",
    "            self.ResetCard()\n",
    "            self.PickCard()\n",
    "            TotalCount += self.Hand3Check()\n",
    "        Odds = TotalCount / TotalIteration\n",
    "        print('The odds of getting 3-of-a-kind in poker is {}'.format(Odds))\n",
    "CG = CardGame()\n",
    "CG.Iteration()\n",
    "\n",
    "## Q3\n",
    "# class TicTacToe(object):\n",
    "#     def __init__(self):\n",
    "#          self.board = \"\"\"\n",
    "#          {s1:^3} | {s2:^3} | {s3:^3}\n",
    "#         -----+-----+-----\n",
    "#          {s4:^3} | {s5:^3} | {s6:^3}\n",
    "#         -----+-----+-----      123\n",
    "#          {s7:^3} | {s8:^3} | {s9:^3}       456\n",
    "#                                789  \n",
    "#         \"\"\"\n",
    "#     def initialize_board(self):\n",
    "#         for n in range(9):\n",
    "#             self.play[\"s{}\".format(n+1)] = \"\"\n",
    "#     def show_board(self):\n",
    "#         \"\"\" display the playing board.  We take a dictionary with the current state of the board\n",
    "#         We rely on the board string to be a global variable\"\"\"\n",
    "#         print(self.board.format(**self.play))\n",
    "#     def get_move(self):\n",
    "#         n = self.n\n",
    "#         xo = self.xo\n",
    "#         play = self.play\n",
    "#         \"\"\" ask the current player, n, to make a move -- make sure the square was not \n",
    "#             already played.  xo is a string of the character (x or o) we will place in\n",
    "#             the desired square \"\"\"\n",
    "#         valid_move = False\n",
    "#         while not valid_move:\n",
    "#             idx = input(\"player {}, enter your move (1-9)\".format(n))\n",
    "#             if play[\"s{}\".format(idx)] == \"\":\n",
    "#                 valid_move = True\n",
    "#             else:\n",
    "#                 print(\"invalid: {}\".format(play[\"s{}\".format(idx)]))\n",
    "#         play[\"s{}\".format(idx)] = xo\n",
    "#         return idx\n",
    "#     def CheckWin(self):\n",
    "#         import numpy as np\n",
    "#         PossibleCombination = [(1,2,3),(4,5,6),(7,8,9),(1,4,7),(2,5,8),(3,6,9),(1,5,9),(3,5,7)]\n",
    "#         ResultCheckArray = np.zeros(len(PossibleCombination))\n",
    "#         for CombinationIndex in range(len(PossibleCombination)):\n",
    "#             Combination = PossibleCombination[CombinationIndex]\n",
    "#             Value = 0\n",
    "#             for ValueIndex in Combination:\n",
    "#                 TrueValueIndex = ValueIndex - 1\n",
    "#                 Value = Value + self.playBackStage[TrueValueIndex]\n",
    "#             ResultCheckArray[CombinationIndex] = Value\n",
    "#         return ResultCheckArray\n",
    "#     def play_game(self):\n",
    "#         \"\"\" play a game of tic-tac-toe \"\"\"\n",
    "#         self.play = {}\n",
    "#         self.initialize_board()\n",
    "#         self.show_board()\n",
    "#         import numpy as np\n",
    "#         self.playBackStage = np.zeros(9)\n",
    "#         Totalsteps  = 0\n",
    "#         for steps in range(len(self.playBackStage)):\n",
    "#             if steps % 2 == 0:\n",
    "#                 self.n = 1\n",
    "#                 self.xo = 'x'\n",
    "#                 idx = self.get_move()\n",
    "#                 self.playBackStage[int(idx) - 1] = 1\n",
    "#             else:\n",
    "#                 self.n = 2\n",
    "#                 self.xo = 'o'\n",
    "#                 idx = self.get_move()\n",
    "#                 self.playBackStage[int(idx) - 1] = -1 \n",
    "#             Totalsteps += 1\n",
    "#             self.show_board()\n",
    "#             ResultCheckArray = self.CheckWin()\n",
    "#             if max(ResultCheckArray) == 3:\n",
    "#                 print('player 1 wins the game')\n",
    "#                 break\n",
    "#             elif min(ResultCheckArray) == -3:\n",
    "#                 print('player 2 wins the game')\n",
    "#                 break\n",
    "#             if Totalsteps == len(self.playBackStage):\n",
    "#                 print('tie game')\n",
    "#                 break\n",
    "# TTT = TicTacToe()\n",
    "# TTT.play_game()"
   ]
  },
  {
   "cell_type": "markdown",
   "metadata": {},
   "source": [
    "## Exercise 3: Tic-Tac-Toe\n",
    "\n",
    "Revisit the tic-tac-toe game you developed in the functions exercises but now write it as a class with methods to do each of the main steps.  "
   ]
  },
  {
   "cell_type": "code",
   "execution_count": null,
   "metadata": {},
   "outputs": [],
   "source": []
  }
 ],
 "metadata": {
  "kernelspec": {
   "display_name": "Python 3",
   "language": "python",
   "name": "python3"
  },
  "language_info": {
   "codemirror_mode": {
    "name": "ipython",
    "version": 3
   },
   "file_extension": ".py",
   "mimetype": "text/x-python",
   "name": "python",
   "nbconvert_exporter": "python",
   "pygments_lexer": "ipython3",
   "version": "3.7.3"
  }
 },
 "nbformat": 4,
 "nbformat_minor": 2
}
