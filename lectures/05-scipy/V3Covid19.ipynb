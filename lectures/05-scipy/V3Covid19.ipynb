{
 "cells": [
  {
   "cell_type": "code",
   "execution_count": 6,
   "metadata": {
    "colab": {
     "base_uri": "https://localhost:8080/",
     "height": 272
    },
    "colab_type": "code",
    "id": "_Df3ChdU-xov",
    "outputId": "b03d58f8-6f0a-4c23-c0cf-561447d7a53c"
   },
   "outputs": [
    {
     "name": "stdout",
     "output_type": "stream",
     "text": [
      "     index  day  month  year  cases  deaths  day_counter  sum_cases  \\\n",
      "0    10371   31     12  2019      0       0            0          0   \n",
      "1    10370    1      1  2020      0       0            1          0   \n",
      "2    10369    2      1  2020      0       0            2          0   \n",
      "3    10368    3      1  2020      0       0            3          0   \n",
      "4    10367    4      1  2020      0       0            4          0   \n",
      "5    10366    5      1  2020      0       0            5          0   \n",
      "6    10365    6      1  2020      0       0            6          0   \n",
      "7    10364    7      1  2020      0       0            7          0   \n",
      "8    10363    8      1  2020      0       0            8          0   \n",
      "9    10362    9      1  2020      0       0            9          0   \n",
      "10   10361   10      1  2020      0       0           10          0   \n",
      "11   10360   11      1  2020      0       0           11          0   \n",
      "12   10359   12      1  2020      0       0           12          0   \n",
      "13   10358   13      1  2020      0       0           13          0   \n",
      "14   10357   14      1  2020      0       0           14          0   \n",
      "15   10356   15      1  2020      0       0           15          0   \n",
      "16   10355   16      1  2020      0       0           16          0   \n",
      "17   10354   17      1  2020      0       0           17          0   \n",
      "18   10353   18      1  2020      0       0           18          0   \n",
      "19   10352   19      1  2020      0       0           19          0   \n",
      "20   10351   20      1  2020      0       0           20          0   \n",
      "21   10350   21      1  2020      0       0           21          0   \n",
      "22   10349   22      1  2020      0       0           22          0   \n",
      "23   10348   23      1  2020      0       0           23          0   \n",
      "24   10347   24      1  2020      0       0           24          0   \n",
      "25   10346   25      1  2020      0       0           25          0   \n",
      "26   10345   26      1  2020      0       0           26          0   \n",
      "27   10344   27      1  2020      0       0           27          0   \n",
      "28   10343   28      1  2020      0       0           28          0   \n",
      "29   10342   29      1  2020      0       0           29          0   \n",
      "..     ...  ...    ...   ...    ...     ...          ...        ...   \n",
      "82   10289   22      3  2020   4946     324           82      24926   \n",
      "83   10288   23      3  2020   3646     394           83      28572   \n",
      "84   10287   24      3  2020   4517     462           84      33089   \n",
      "85   10286   25      3  2020   6584     514           85      39673   \n",
      "86   10285   26      3  2020   7937     738           86      47610   \n",
      "87   10284   27      3  2020   8578     655           87      56188   \n",
      "88   10283   28      3  2020   7871     769           88      64059   \n",
      "89   10282   29      3  2020   8189     832           89      72248   \n",
      "90   10281   30      3  2020   6549     838           90      78797   \n",
      "91   10280   31      3  2020   6398     812           91      85195   \n",
      "92   10279    1      4  2020   9222     849           92      94417   \n",
      "93   10278    2      4  2020   7719     864           93     102136   \n",
      "94   10277    3      4  2020   8102     950           94     110238   \n",
      "95   10276    4      4  2020   7472     932           95     117710   \n",
      "96   10275    5      4  2020   7026     809           96     124736   \n",
      "97   10274    6      4  2020   6023     674           97     130759   \n",
      "98   10273    7      4  2020   4273     637           98     135032   \n",
      "99   10272    8      4  2020   5478     743           99     140510   \n",
      "100  10271    9      4  2020   6180     757          100     146690   \n",
      "101  10270   10      4  2020   5756     683          101     152446   \n",
      "102  10269   11      4  2020   4576     605          102     157022   \n",
      "103  10268   12      4  2020   4830     510          103     161852   \n",
      "104  10267   13      4  2020   4167     619          104     166019   \n",
      "105  10266   14      4  2020   3477     517          105     169496   \n",
      "106  10265   15      4  2020   3045     567          106     172541   \n",
      "107  10264   16      4  2020   5092     523          107     177633   \n",
      "108  10263   17      4  2020   5183     551          108     182816   \n",
      "109  10262   18      4  2020   5252     348          109     188068   \n",
      "110  10261   19      4  2020   3658     565          110     191726   \n",
      "111  10260   20      4  2020   4218     410          111     195944   \n",
      "\n",
      "     sum_deaths  \n",
      "0             0  \n",
      "1             0  \n",
      "2             0  \n",
      "3             0  \n",
      "4             0  \n",
      "5             0  \n",
      "6             0  \n",
      "7             0  \n",
      "8             0  \n",
      "9             0  \n",
      "10            0  \n",
      "11            0  \n",
      "12            0  \n",
      "13            0  \n",
      "14            0  \n",
      "15            0  \n",
      "16            0  \n",
      "17            0  \n",
      "18            0  \n",
      "19            0  \n",
      "20            0  \n",
      "21            0  \n",
      "22            0  \n",
      "23            0  \n",
      "24            0  \n",
      "25            0  \n",
      "26            0  \n",
      "27            0  \n",
      "28            0  \n",
      "29            0  \n",
      "..          ...  \n",
      "82         1326  \n",
      "83         1720  \n",
      "84         2182  \n",
      "85         2696  \n",
      "86         3434  \n",
      "87         4089  \n",
      "88         4858  \n",
      "89         5690  \n",
      "90         6528  \n",
      "91         7340  \n",
      "92         8189  \n",
      "93         9053  \n",
      "94        10003  \n",
      "95        10935  \n",
      "96        11744  \n",
      "97        12418  \n",
      "98        13055  \n",
      "99        13798  \n",
      "100       14555  \n",
      "101       15238  \n",
      "102       15843  \n",
      "103       16353  \n",
      "104       16972  \n",
      "105       17489  \n",
      "106       18056  \n",
      "107       18579  \n",
      "108       19130  \n",
      "109       19478  \n",
      "110       20043  \n",
      "111       20453  \n",
      "\n",
      "[112 rows x 9 columns]\n",
      "(195944, 20453)\n"
     ]
    }
   ],
   "source": [
    "import os\n",
    "from io import StringIO\n",
    "import requests\n",
    "import pandas as pd\n",
    "import numpy as np\n",
    "import matplotlib.pyplot as plt\n",
    "from datetime import date\n",
    "\n",
    "url = \"https://opendata.ecdc.europa.eu/covid19/casedistribution/csv\"\n",
    "req = requests.get(url)\n",
    "data = StringIO(req.text)\n",
    "df = pd.read_csv(data)\n",
    "#df.groupby('countriesAndTerritories').plot(x='dateRep',y='cases')\n",
    "\n",
    "grouped = df.groupby('countriesAndTerritories')\n",
    "    \n",
    "def get_country_data(country):\n",
    "    \"\"\" Returns a pd (data) with a contracted version of the data for\n",
    "    a given 'country' (country = string)\"\"\"\n",
    "    data = grouped.get_group(country)\n",
    "    data = data.drop(columns = [\"popData2018\",\"countryterritoryCode\", \"geoId\", \"countriesAndTerritories\",\"dateRep\", \"continentExp\"])\n",
    "\n",
    "    data = data.iloc[::-1]\n",
    "    data = data.reset_index()\n",
    "# Create a new column that runs as the index, starting on the first date of data available (x=1)\n",
    "    data['day_counter'] = data.index    \n",
    "# And now add cumulative sums\n",
    "    data['sum_cases'] = data['cases'].cumsum()\n",
    "    data['sum_deaths'] = data['deaths'].cumsum()\n",
    "    return(data)\n",
    "\n",
    "def analyze_data(country):\n",
    "    \"\"\"returns analysis of the pd named 'country' (country = pd)\"\"\"\n",
    "\n",
    "    total_cases = country['cases'].sum()\n",
    "    total_deaths =  country['deaths'].sum()\n",
    "\n",
    "    #Gives row when number of deaths is highest\n",
    "    max_deaths_info = country.loc[country['deaths'].idxmax()]\n",
    "\n",
    "    #Gives row when number of cases is highest\n",
    "    max_cases_info = country.loc[country['cases'].idxmax()]\n",
    "\n",
    "    #Gives data for day the first case was detected\n",
    "    #Looks through the dataframe for the first \"1\" in the cases column, then returns the entire row\n",
    "    first_day_data = country.iloc[country.loc[country['cases']>0].iloc[[0,]].index[0],]\n",
    "\n",
    "    #Number of days between first case and max cases\n",
    "    #Y/M/D format by default, thanks python\n",
    "    #days_to_max_deaths = (date(max_deaths_info[3], max_deaths_info[2],max_deaths_info[1]) - date(first_day_data[3],first_day_data[2], first_day_data[1])).days\n",
    "    #days_to_max_cases = (date(max_cases_info[3], max_cases_info[2],max_cases_info[1]) - date(first_day_data[3],first_day_data[2], first_day_data[1])).days\n",
    "\n",
    "    return total_cases, total_deaths\n",
    "   \n",
    "\n",
    "\n",
    "spain = get_country_data(\"Spain\")\n",
    "print(spain)\n",
    "print(analyze_data(spain))\n",
    "\n",
    "\n",
    "\n",
    "#countrylist = [\"Spain\",\"France\"]\n",
    "\n",
    "#for n in countrylist:\n",
    "#    print(analyze_data(n))\n",
    "\n",
    "#This doesn't work for some reason? Fix later\n",
    "# #Get a list of countries\n",
    "# countrylist = df.loc[: , \"countriesAndTerritories\"]\n",
    "# countrylist = countrylist.unique()"
   ]
  },
  {
   "cell_type": "code",
   "execution_count": 2,
   "metadata": {
    "colab": {
     "base_uri": "https://localhost:8080/",
     "height": 297
    },
    "colab_type": "code",
    "id": "-_X8q3pO-xo7",
    "outputId": "8e9d3e66-473a-4d76-9017-a62e0702f32e"
   },
   "outputs": [
    {
     "data": {
      "text/plain": [
       "<matplotlib.axes._subplots.AxesSubplot at 0x119b91f28>"
      ]
     },
     "execution_count": 2,
     "metadata": {},
     "output_type": "execute_result"
    },
    {
     "data": {
      "image/png": "[encoded data removed]",
      "text/plain": [
       "<Figure size 432x288 with 1 Axes>"
      ]
     },
     "metadata": {
      "needs_background": "light"
     },
     "output_type": "display_data"
    }
   ],
   "source": [
    "spain.set_index('day_counter')['sum_deaths'].plot()\n"
   ]
  },
  {
   "cell_type": "code",
   "execution_count": 3,
   "metadata": {
    "colab": {
     "base_uri": "https://localhost:8080/",
     "height": 297
    },
    "colab_type": "code",
    "id": "CofTO1FKMdF1",
    "outputId": "79be8036-e622-40cf-dd27-138cfde59734"
   },
   "outputs": [
    {
     "data": {
      "text/plain": [
       "<matplotlib.axes._subplots.AxesSubplot at 0x102fc84e0>"
      ]
     },
     "execution_count": 3,
     "metadata": {},
     "output_type": "execute_result"
    },
    {
     "data": {
      "image/png": "[encoded data removed]",
      "text/plain": [
       "<Figure size 432x288 with 1 Axes>"
      ]
     },
     "metadata": {
      "needs_background": "light"
     },
     "output_type": "display_data"
    }
   ],
   "source": [
    "spain.set_index('day_counter')['sum_deaths'].plot()"
   ]
  },
  {
   "cell_type": "markdown",
   "metadata": {
    "colab_type": "text",
    "id": "lGlEtLyBRsbP"
   },
   "source": [
    "## Data Analysis\n",
    "\n",
    "Let's start doing a scientific anlaysis of some of the data in our dataframe. We want to:\n",
    "* fit the data to a simple model (see https://www.ncbi.nlm.nih.gov/pmc/articles/PMC5348083/)\n",
    "* infer data from the model/old data\n",
    "* Compare results for different countries\n"
   ]
  },
  {
   "cell_type": "markdown",
   "metadata": {
    "colab_type": "text",
    "id": "vA1YrOqCeRKA"
   },
   "source": [
    "# Function fitting \n",
    "  See plot_curve_fit notebook.\n",
    "  We need to obtain our column data (sum_cases) as a numpy array. This is simple to do using the to_numpy method \n",
    "  ```python\n",
    "  cases = spain[[\"sum_cases\"]].to_numpy() \n",
    "  ```"
   ]
  },
  {
   "cell_type": "code",
   "execution_count": 9,
   "metadata": {
    "colab": {
     "base_uri": "https://localhost:8080/",
     "height": 306
    },
    "colab_type": "code",
    "id": "02HrkJbGgS9w",
    "outputId": "31788f2f-8d27-4e30-8dee-2a71243ce690"
   },
   "outputs": [
    {
     "data": {
      "image/png": "[encoded data removed]",
      "text/plain": [
       "<Figure size 432x288 with 2 Axes>"
      ]
     },
     "metadata": {
      "needs_background": "light"
     },
     "output_type": "display_data"
    }
   ],
   "source": [
    "y = spain[[\"sum_cases\"]].to_numpy() \n",
    "x = spain[[\"day_counter\"]].to_numpy()\n",
    "# linear\n",
    "plt.subplot(211)\n",
    "plt.plot(x, y)\n",
    "plt.yscale('linear')\n",
    "plt.title('linear')\n",
    "plt.grid(True)\n",
    "\n",
    "\n",
    "# log\n",
    "plt.subplot(212)\n",
    "plt.plot(x, y)\n",
    "plt.yscale('log')\n",
    "plt.title('log')\n",
    "plt.grid(True)\n",
    "\n",
    "\n",
    "# Format the minor tick labels of the y-axis into empty strings with\n",
    "# `NullFormatter`, to avoid cumbering the axis with too many labels.\n",
    "plt.gca().yaxis.set_minor_formatter(plt.NullFormatter())\n",
    "# Adjust the subplot layout, because the logit one may take more space\n",
    "# than usual, due to y-tick labels like \"1 - 10^{-3}\"\n",
    "plt.subplots_adjust(top=0.92, bottom=0.08, left=0.10, right=0.95, hspace=0.25,\n",
    "                    wspace=0.35)\n",
    "\n",
    "plt.show()"
   ]
  },
  {
   "cell_type": "markdown",
   "metadata": {
    "colab_type": "text",
    "id": "M4Mdt6iEnqp7"
   },
   "source": [
    "\n",
    "Now we are going to do the most simple fit, an exponential\n",
    "\n"
   ]
  },
  {
   "cell_type": "code",
   "execution_count": 10,
   "metadata": {
    "colab": {},
    "colab_type": "code",
    "id": "CM4zdSvLn0g9"
   },
   "outputs": [],
   "source": [
    "x_data = np.squeeze(x)\n",
    "y_data = np.squeeze(y)"
   ]
  },
  {
   "cell_type": "code",
   "execution_count": 29,
   "metadata": {
    "colab": {
     "base_uri": "https://localhost:8080/",
     "height": 68
    },
    "colab_type": "code",
    "id": "jtFukCNqNE96",
    "outputId": "791062b9-df5b-468e-a41c-8ffd707853bd"
   },
   "outputs": [
    {
     "name": "stdout",
     "output_type": "stream",
     "text": [
      "[3.81419886e-05 2.49953730e-01]\n",
      "[ 6.16713680e+04  8.33113214e-01 -5.87870000e+06]\n"
     ]
    }
   ],
   "source": [
    "from scipy import optimize\n",
    "\n",
    "def malthus_f(x, a, b):\n",
    "  \"\"\"Fit to a Malthusian equation of exponential growth\n",
    "       N(t) = N_0 exp(\\lambda t)\n",
    "       a = N_0, initial population\n",
    "       b = \\lambda\n",
    "   \"\"\"  \n",
    "  return a * np.exp(b * x)\n",
    "\n",
    "def subexp_f(x, a, b, c):\n",
    "  \"\"\"Fit to a subexponential growth solution\n",
    "    see: https://www.ncbi.nlm.nih.gov/pmc/articles/PMC5348083/\n",
    "    dN(t)/dt = r N(t)^p, now 0<p<1 (subexponential growth)\n",
    "       N(t) = (r/m t + A)^m\n",
    "       where p = 1 - 1/m\n",
    "       A = N(0)^(1/m)\n",
    "\n",
    "       a = r\n",
    "       b = m\n",
    "       c = A\n",
    "   \"\"\" \n",
    "  return ((a/b) * x + c )**b   \n",
    "\n",
    "# Let's define ranges to be able to test fitting different\n",
    "# parts of the function (the model changes with time!)\n",
    "\n",
    "xmin0 = 0\n",
    "xmax0 = 80\n",
    "xmin = 80\n",
    "xmax = len(x_data)\n",
    "params0, params_covariance0 = optimize.curve_fit(malthus_f, x_data[xmin0:xmax0], y_data[xmin0:xmax0],\n",
    "                                               p0=[0, 0])\n",
    "params, params_covariance = optimize.curve_fit(subexp_f, x_data[xmin:xmax], y_data[xmin:xmax],\n",
    "                                               p0=[1, 1, 1])\n",
    "\n",
    "print(params0)\n",
    "print(params)\n",
    "#print(params_covariance)"
   ]
  },
  {
   "cell_type": "code",
   "execution_count": null,
   "metadata": {
    "colab": {},
    "colab_type": "code",
    "id": "PCqmmzd9uwek"
   },
   "outputs": [],
   "source": []
  },
  {
   "cell_type": "code",
   "execution_count": 34,
   "metadata": {
    "colab": {
     "base_uri": "https://localhost:8080/",
     "height": 265
    },
    "colab_type": "code",
    "id": "x6FOVqBLm5Iz",
    "outputId": "2eedc690-a497-4b19-a9af-caef101c8fa4"
   },
   "outputs": [
    {
     "name": "stderr",
     "output_type": "stream",
     "text": [
      "/Users/marivi/anaconda3/lib/python3.7/site-packages/ipykernel_launcher.py:23: RuntimeWarning: invalid value encountered in power\n"
     ]
    },
    {
     "data": {
      "image/png": "[encoded data removed]",
      "text/plain": [
       "<Figure size 432x288 with 1 Axes>"
      ]
     },
     "metadata": {
      "needs_background": "light"
     },
     "output_type": "display_data"
    }
   ],
   "source": [
    "plt.figure(figsize=(6, 4))\n",
    "plt.scatter(x_data, y_data, label='Data')\n",
    "plt.plot(x_data[xmin0:xmax0], malthus_f(x_data, params0[0], params0[1])[xmin0:xmax0],\n",
    "         label='exponential growth',c='k')\n",
    "plt.plot(x_data, subexp_f(x_data, params[0], params[1], params[2]),\n",
    "         label='sub-exponential growth',c='r')\n",
    "\n",
    "plt.legend(loc='best')\n",
    "\n",
    "plt.show()"
   ]
  },
  {
   "cell_type": "code",
   "execution_count": 0,
   "metadata": {
    "colab": {},
    "colab_type": "code",
    "id": "wVhwiRPVqKRY"
   },
   "outputs": [],
   "source": []
  }
 ],
 "metadata": {
  "colab": {
   "name": "V3Covid19.ipynb",
   "provenance": []
  },
  "kernelspec": {
   "display_name": "Python 3",
   "language": "python",
   "name": "python3"
  },
  "language_info": {
   "codemirror_mode": {
    "name": "ipython",
    "version": 3
   },
   "file_extension": ".py",
   "mimetype": "text/x-python",
   "name": "python",
   "nbconvert_exporter": "python",
   "pygments_lexer": "ipython3",
   "version": "3.7.3"
  }
 },
 "nbformat": 4,
 "nbformat_minor": 1
}
