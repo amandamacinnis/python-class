{
  "nbformat": 4,
  "nbformat_minor": 0,
  "metadata": {
    "kernelspec": {
      "name": "python3",
      "display_name": "Python 3",
      "language": "python"
    },
    "language_info": {
      "name": "python",
      "version": "3.6.10",
      "mimetype": "text/x-python",
      "codemirror_mode": {
        "name": "ipython",
        "version": 3
      },
      "pygments_lexer": "ipython3",
      "nbconvert_exporter": "python",
      "file_extension": ".py"
    },
    "colab": {
      "name": "V3Covid19.ipynb",
      "provenance": []
    }
  },
  "cells": [
    {
      "cell_type": "code",
      "metadata": {
        "trusted": true,
        "id": "_Df3ChdU-xov",
        "colab_type": "code",
        "outputId": "b03d58f8-6f0a-4c23-c0cf-561447d7a53c",
        "colab": {
          "base_uri": "https://localhost:8080/",
          "height": 272
        }
      },
      "source": [
        "import os\n",
        "from io import StringIO\n",
        "import requests\n",
        "import pandas as pd\n",
        "import numpy as np\n",
        "import matplotlib.pyplot as plt\n",
        "from datetime import date\n",
        "\n",
        "url = \"https://opendata.ecdc.europa.eu/covid19/casedistribution/csv\"\n",
        "req = requests.get(url)\n",
        "data = StringIO(req.text)\n",
        "df = pd.read_csv(data)\n",
        "#df.groupby('countriesAndTerritories').plot(x='dateRep',y='cases')\n",
        "\n",
        "grouped = df.groupby('countriesAndTerritories')\n",
        "    \n",
        "def get_country_data(country):\n",
        "    \"\"\" Returns a pd (data) with a contracted version of the data for\n",
        "    a given 'country' (country = string)\"\"\"\n",
        "    data = grouped.get_group(country)\n",
        "    data = data.drop(columns = [\"popData2018\",\"countryterritoryCode\", \"geoId\", \"countriesAndTerritories\",\"dateRep\", \"continentExp\"])\n",
        "\n",
        "    data = data.iloc[::-1]\n",
        "    data = data.reset_index()\n",
        "# Create a new column that runs as the index, starting on the first date of data available (x=1)\n",
        "    data['day_counter'] = data.index    \n",
        "# And now add cumulative sums\n",
        "    data['sum_cases'] = data['cases'].cumsum()\n",
        "    data['sum_deaths'] = data['deaths'].cumsum()\n",
        "    return(data)\n",
        "\n",
        "def analyze_data(country):\n",
        "    \"\"\"returns analysis of the pd named 'country' (country = pd)\"\"\"\n",
        "\n",
        "    total_cases = country['cases'].sum()\n",
        "    total_deaths =  country['deaths'].sum()\n",
        "\n",
        "    #Gives row when number of deaths is highest\n",
        "    max_deaths_info = country.loc[country['deaths'].idxmax()]\n",
        "\n",
        "    #Gives row when number of cases is highest\n",
        "    max_cases_info = country.loc[country['cases'].idxmax()]\n",
        "\n",
        "    #Gives data for day the first case was detected\n",
        "    #Looks through the dataframe for the first \"1\" in the cases column, then returns the entire row\n",
        "    first_day_data = country.iloc[country.loc[country['cases']>0].iloc[[0,]].index[0],]\n",
        "\n",
        "    #Number of days between first case and max cases\n",
        "    #Y/M/D format by default, thanks python\n",
        "    #days_to_max_deaths = (date(max_deaths_info[3], max_deaths_info[2],max_deaths_info[1]) - date(first_day_data[3],first_day_data[2], first_day_data[1])).days\n",
        "    #days_to_max_cases = (date(max_cases_info[3], max_cases_info[2],max_cases_info[1]) - date(first_day_data[3],first_day_data[2], first_day_data[1])).days\n",
        "\n",
        "    return total_cases, total_deaths\n",
        "   \n",
        "\n",
        "\n",
        "spain = get_country_data(\"Spain\")\n",
        "print(spain)\n",
        "print(analyze_data(spain))\n",
        "\n",
        "\n",
        "\n",
        "#countrylist = [\"Spain\",\"France\"]\n",
        "\n",
        "#for n in countrylist:\n",
        "#    print(analyze_data(n))\n",
        "\n",
        "#This doesn't work for some reason? Fix later\n",
        "# #Get a list of countries\n",
        "# countrylist = df.loc[: , \"countriesAndTerritories\"]\n",
        "# countrylist = countrylist.unique()"
      ],
      "execution_count": 15,
      "outputs": [
        {
          "output_type": "stream",
          "text": [
            "     index  day  month  year  cases  deaths  day_counter  sum_cases  sum_deaths\n",
            "0    10371   31     12  2019      0       0            0          0           0\n",
            "1    10370    1      1  2020      0       0            1          0           0\n",
            "2    10369    2      1  2020      0       0            2          0           0\n",
            "3    10368    3      1  2020      0       0            3          0           0\n",
            "4    10367    4      1  2020      0       0            4          0           0\n",
            "..     ...  ...    ...   ...    ...     ...          ...        ...         ...\n",
            "107  10264   16      4  2020   5092     523          107     177633       18579\n",
            "108  10263   17      4  2020   5183     551          108     182816       19130\n",
            "109  10262   18      4  2020   5252     348          109     188068       19478\n",
            "110  10261   19      4  2020   3658     565          110     191726       20043\n",
            "111  10260   20      4  2020   4218     410          111     195944       20453\n",
            "\n",
            "[112 rows x 9 columns]\n",
            "(195944, 20453)\n"
          ],
          "name": "stdout"
        }
      ]
    },
    {
      "cell_type": "code",
      "metadata": {
        "trusted": true,
        "id": "-_X8q3pO-xo7",
        "colab_type": "code",
        "colab": {
          "base_uri": "https://localhost:8080/",
          "height": 297
        },
        "outputId": "8e9d3e66-473a-4d76-9017-a62e0702f32e"
      },
      "source": [
        "spain.set_index('day_counter')['sum_deaths'].plot()\n"
      ],
      "execution_count": 16,
      "outputs": [
        {
          "output_type": "execute_result",
          "data": {
            "text/plain": [
              "<matplotlib.axes._subplots.AxesSubplot at 0x7fe41555efd0>"
            ]
          },
          "metadata": {
            "tags": []
          },
          "execution_count": 16
        },
        {
          "output_type": "display_data",
          "data": {
            "image/png": "[encoded data removed]",
            "text/plain": [
              "<Figure size 432x288 with 1 Axes>"
            ]
          },
          "metadata": {
            "tags": [],
            "needs_background": "light"
          }
        }
      ]
    },
    {
      "cell_type": "code",
      "metadata": {
        "id": "CofTO1FKMdF1",
        "colab_type": "code",
        "colab": {
          "base_uri": "https://localhost:8080/",
          "height": 297
        },
        "outputId": "79be8036-e622-40cf-dd27-138cfde59734"
      },
      "source": [
        "spain.set_index('day_counter')['sum_deaths'].plot()"
      ],
      "execution_count": 17,
      "outputs": [
        {
          "output_type": "execute_result",
          "data": {
            "text/plain": [
              "<matplotlib.axes._subplots.AxesSubplot at 0x7fe4154cc898>"
            ]
          },
          "metadata": {
            "tags": []
          },
          "execution_count": 17
        },
        {
          "output_type": "display_data",
          "data": {
            "image/png": "[encoded data removed]",
            "text/plain": [
              "<Figure size 432x288 with 1 Axes>"
            ]
          },
          "metadata": {
            "tags": [],
            "needs_background": "light"
          }
        }
      ]
    },
    {
      "cell_type": "markdown",
      "metadata": {
        "id": "lGlEtLyBRsbP",
        "colab_type": "text"
      },
      "source": [
        "## Data Analysis\n",
        "\n",
        "Let's start doing a scientific anlaysis of some of the data in our dataframe. We want to:\n",
        "* fit the data to a simple model (see https://www.ncbi.nlm.nih.gov/pmc/articles/PMC5348083/)\n",
        "* infer data from the model/old data\n",
        "* Compare results for different countries\n"
      ]
    },
    {
      "cell_type": "markdown",
      "metadata": {
        "id": "vA1YrOqCeRKA",
        "colab_type": "text"
      },
      "source": [
        "# Function fitting \n",
        "  See plot_curve_fit notebook.\n",
        "  We need to obtain our column data (sum_cases) as a numpy array. This is simple to do using the to_numpy method \n",
        "  ```python\n",
        "  cases = spain[[\"sum_cases\"]].to_numpy() \n",
        "  ```"
      ]
    },
    {
      "cell_type": "code",
      "metadata": {
        "id": "02HrkJbGgS9w",
        "colab_type": "code",
        "colab": {
          "base_uri": "https://localhost:8080/",
          "height": 306
        },
        "outputId": "31788f2f-8d27-4e30-8dee-2a71243ce690"
      },
      "source": [
        "y = spain[[\"sum_cases\"]].to_numpy() \n",
        "x = spain[[\"day_counter\"]].to_numpy()\n",
        "plt.plot(cases)\n",
        "# linear\n",
        "plt.subplot(211)\n",
        "plt.plot(x, y)\n",
        "plt.yscale('linear')\n",
        "plt.title('linear')\n",
        "plt.grid(True)\n",
        "\n",
        "\n",
        "# log\n",
        "plt.subplot(212)\n",
        "plt.plot(x, y)\n",
        "plt.yscale('log')\n",
        "plt.title('log')\n",
        "plt.grid(True)\n",
        "\n",
        "\n",
        "# Format the minor tick labels of the y-axis into empty strings with\n",
        "# `NullFormatter`, to avoid cumbering the axis with too many labels.\n",
        "plt.gca().yaxis.set_minor_formatter(plt.NullFormatter())\n",
        "# Adjust the subplot layout, because the logit one may take more space\n",
        "# than usual, due to y-tick labels like \"1 - 10^{-3}\"\n",
        "plt.subplots_adjust(top=0.92, bottom=0.08, left=0.10, right=0.95, hspace=0.25,\n",
        "                    wspace=0.35)\n",
        "\n",
        "plt.show()"
      ],
      "execution_count": 45,
      "outputs": [
        {
          "output_type": "display_data",
          "data": {
            "image/png": "[encoded data removed]",
            "text/plain": [
              "<Figure size 432x288 with 2 Axes>"
            ]
          },
          "metadata": {
            "tags": [],
            "needs_background": "light"
          }
        }
      ]
    },
    {
      "cell_type": "markdown",
      "metadata": {
        "id": "M4Mdt6iEnqp7",
        "colab_type": "text"
      },
      "source": [
        "\n",
        "Now we are going to do the most simple fit, an exponential\n",
        "\n"
      ]
    },
    {
      "cell_type": "code",
      "metadata": {
        "id": "CM4zdSvLn0g9",
        "colab_type": "code",
        "colab": {}
      },
      "source": [
        "x_data = np.squeeze(x)\n",
        "y_data = np.squeeze(y)"
      ],
      "execution_count": 0,
      "outputs": []
    },
    {
      "cell_type": "code",
      "metadata": {
        "id": "jtFukCNqNE96",
        "colab_type": "code",
        "colab": {
          "base_uri": "https://localhost:8080/",
          "height": 68
        },
        "outputId": "791062b9-df5b-468e-a41c-8ffd707853bd"
      },
      "source": [
        "from scipy import optimize\n",
        "\n",
        "def malthus_f(x, a, b):\n",
        "  \"\"\"Fit to a Malthusian equation of exponential growth\n",
        "       N(t) = N_0 exp(\\lambda t)\n",
        "       a = N_0, initial population\n",
        "       b = \\lambda\n",
        "   \"\"\"  \n",
        "  return a * np.exp(b * x)\n",
        "\n",
        "def subexp_f(x, a, b, c):\n",
        "  \"\"\"Fit to a subexponential growth solution\n",
        "    see: https://www.ncbi.nlm.nih.gov/pmc/articles/PMC5348083/\n",
        "    dN(t)/dt = r N(t)^p, now 0<p<1 (subexponential growth)\n",
        "       N(t) = (r/m t + A)^m\n",
        "       where p = 1 - 1/m\n",
        "       A = N(0)^(1/m)\n",
        "\n",
        "       a = r\n",
        "       b = m\n",
        "       c = A\n",
        "   \"\"\" \n",
        "  return ((a/b) * x + c )**m   \n",
        "\n",
        "params, params_covariance = optimize.curve_fit(malthus_f, x_data[xmin:xmax], y_data[xmin:xmax],\n",
        "                                               p0=[0, 0])\n",
        "params, params_covariance = optimize.curve_fit(subexp_f, x_data[xmin:xmax], y_data[xmin:xmax],\n",
        "                                               p0=[0, 0])\n",
        "\n",
        "print(params)\n",
        "print(params_covariance)"
      ],
      "execution_count": 77,
      "outputs": [
        {
          "output_type": "stream",
          "text": [
            "[3.81419799e-05 2.49953733e-01]\n",
            "[[ 1.70388547e-10 -5.76385903e-08]\n",
            " [-5.76385903e-08  1.95105673e-05]]\n"
          ],
          "name": "stdout"
        }
      ]
    },
    {
      "cell_type": "code",
      "metadata": {
        "id": "PCqmmzd9uwek",
        "colab_type": "code",
        "colab": {}
      },
      "source": [
        ""
      ],
      "execution_count": 0,
      "outputs": []
    },
    {
      "cell_type": "code",
      "metadata": {
        "id": "x6FOVqBLm5Iz",
        "colab_type": "code",
        "colab": {
          "base_uri": "https://localhost:8080/",
          "height": 265
        },
        "outputId": "2eedc690-a497-4b19-a9af-caef101c8fa4"
      },
      "source": [
        "plt.figure(figsize=(6, 4))\n",
        "plt.scatter(x_data[xmin:xmax], y_data[xmin:xmax], label='Data')\n",
        "plt.plot(x_data[xmin:xmax], malthus_f(x_data, params[0], params[1])[xmin:xmax],\n",
        "         label='Fitted function')\n",
        "\n",
        "plt.legend(loc='best')\n",
        "\n",
        "plt.show()"
      ],
      "execution_count": 72,
      "outputs": [
        {
          "output_type": "display_data",
          "data": {
            "image/png": "[encoded data removed]",
            "text/plain": [
              "<Figure size 432x288 with 1 Axes>"
            ]
          },
          "metadata": {
            "tags": [],
            "needs_background": "light"
          }
        }
      ]
    },
    {
      "cell_type": "code",
      "metadata": {
        "id": "wVhwiRPVqKRY",
        "colab_type": "code",
        "colab": {}
      },
      "source": [
        ""
      ],
      "execution_count": 0,
      "outputs": []
    }
  ]
}